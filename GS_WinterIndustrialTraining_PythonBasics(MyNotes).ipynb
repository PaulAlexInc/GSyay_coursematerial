{
  "nbformat": 4,
  "nbformat_minor": 0,
  "metadata": {
    "kernelspec": {
      "display_name": "Python 3",
      "language": "python",
      "name": "python3"
    },
    "language_info": {
      "codemirror_mode": {
        "name": "ipython",
        "version": 3
      },
      "file_extension": ".py",
      "mimetype": "text/x-python",
      "name": "python",
      "nbconvert_exporter": "python",
      "pygments_lexer": "ipython3",
      "version": "3.7.4"
    },
    "colab": {
      "name": "GS_WinterIndustrialTraining_PythonBasics(MyNotes).ipynb",
      "provenance": []
    }
  },
  "cells": [
    {
      "cell_type": "markdown",
      "metadata": {
        "id": "3c-3GxHwSWaL"
      },
      "source": [
        "Python Basics"
      ]
    },
    {
      "cell_type": "markdown",
      "metadata": {
        "id": "yfl_IyUSSMxe"
      },
      "source": [
        "# Day2"
      ]
    },
    {
      "cell_type": "markdown",
      "metadata": {
        "id": "oHVP2rsaSMxf"
      },
      "source": [
        "User Input"
      ]
    },
    {
      "cell_type": "code",
      "metadata": {
        "id": "bibG-FWySMxg",
        "outputId": "2ecef172-a31a-48f3-9633-1d9cb088d9fc"
      },
      "source": [
        "name=input(\"Name: \")\n",
        "fav_pet=input(\"You're favourite pet: \")\n",
        "print(\"Name :\"+name,\"You're favourite pet: \"+fav_pet,sep='\\n')"
      ],
      "execution_count": null,
      "outputs": [
        {
          "output_type": "stream",
          "text": [
            "Name: Paul\n",
            "You're favourite pet: Dog\n",
            "Name :Paul\n",
            "You're favourite pet: Dog\n"
          ],
          "name": "stdout"
        }
      ]
    },
    {
      "cell_type": "markdown",
      "metadata": {
        "id": "Gg2xjmLrSMxk"
      },
      "source": [
        "Indexing"
      ]
    },
    {
      "cell_type": "code",
      "metadata": {
        "id": "ui3ppI6_SMxk"
      },
      "source": [
        "python_love=\"I love PYTHON\""
      ],
      "execution_count": null,
      "outputs": []
    },
    {
      "cell_type": "markdown",
      "metadata": {
        "id": "ZDsFeVLvSMxl"
      },
      "source": [
        ""
      ]
    },
    {
      "cell_type": "code",
      "metadata": {
        "id": "MvMFytovSMxl",
        "outputId": "aaddfbeb-9a50-4ae1-a21d-47459d49aede"
      },
      "source": [
        "python_love[2]"
      ],
      "execution_count": null,
      "outputs": [
        {
          "output_type": "execute_result",
          "data": {
            "text/plain": [
              "'l'"
            ]
          },
          "metadata": {
            "tags": []
          },
          "execution_count": 85
        }
      ]
    },
    {
      "cell_type": "code",
      "metadata": {
        "id": "PbgmOnBUSMxm",
        "outputId": "b9bda2ab-8f87-45f6-a0e5-4d8f78f95b1f"
      },
      "source": [
        "python_love[10]"
      ],
      "execution_count": null,
      "outputs": [
        {
          "output_type": "execute_result",
          "data": {
            "text/plain": [
              "'H'"
            ]
          },
          "metadata": {
            "tags": []
          },
          "execution_count": 86
        }
      ]
    },
    {
      "cell_type": "markdown",
      "metadata": {
        "id": "H2N4tzNWSMxn"
      },
      "source": [
        "Reverse Indexing"
      ]
    },
    {
      "cell_type": "code",
      "metadata": {
        "id": "_g_E7LKeSMxo",
        "outputId": "47df24e9-6320-49c7-ed39-d97eb003fc99"
      },
      "source": [
        "python_love[-11]"
      ],
      "execution_count": null,
      "outputs": [
        {
          "output_type": "execute_result",
          "data": {
            "text/plain": [
              "'l'"
            ]
          },
          "metadata": {
            "tags": []
          },
          "execution_count": 87
        }
      ]
    },
    {
      "cell_type": "code",
      "metadata": {
        "id": "bbbzc6qZSMxp",
        "outputId": "a8a34745-ab41-4258-eba1-757938183798"
      },
      "source": [
        "python_love[-10]"
      ],
      "execution_count": null,
      "outputs": [
        {
          "output_type": "execute_result",
          "data": {
            "text/plain": [
              "'o'"
            ]
          },
          "metadata": {
            "tags": []
          },
          "execution_count": 88
        }
      ]
    },
    {
      "cell_type": "markdown",
      "metadata": {
        "id": "thHhjRDhSMxp"
      },
      "source": [
        "Slicing"
      ]
    },
    {
      "cell_type": "markdown",
      "metadata": {
        "id": "OwXqPoMOSMxq"
      },
      "source": [
        "To extract the entire word instead of extracting individual characters like in indexing and reverse indexing"
      ]
    },
    {
      "cell_type": "markdown",
      "metadata": {
        "id": "WDSF3_xcSMxq"
      },
      "source": [
        "To slice a word, we need to mention the start index and the end index+1(since the end index follows exclusivity rule), separated by :\n",
        "\n",
        "start_i : end_i + 1\n",
        "\n",
        "We can also \"not\" mention the start or end index\n",
        "If start index is not mentioned, Everything right from the beginning till the specified end index gets sliced.\n",
        "If end index is not mentioned, Everything right from the specified start index till the end of the string gets sliced."
      ]
    },
    {
      "cell_type": "code",
      "metadata": {
        "id": "0KeU-6rSSMxr",
        "outputId": "c9d71e95-2dc0-4efb-8a48-43335e376d19"
      },
      "source": [
        "python_love[7:13]"
      ],
      "execution_count": null,
      "outputs": [
        {
          "output_type": "execute_result",
          "data": {
            "text/plain": [
              "'PYTHON'"
            ]
          },
          "metadata": {
            "tags": []
          },
          "execution_count": 90
        }
      ]
    },
    {
      "cell_type": "markdown",
      "metadata": {
        "id": "aZV-_3nZSMxs"
      },
      "source": [
        "Note : To use Reverse indexing while slicing, we need to provide the stride(step) also(by default stride is +1, in that case there wont be any output)\n",
        "\n",
        "start_i : end_i + 1 : stride"
      ]
    },
    {
      "cell_type": "code",
      "metadata": {
        "id": "nUWV64O8SMxs",
        "outputId": "f1289d77-5ae1-4b66-abbd-b14579a614ec"
      },
      "source": [
        "python_love[-1:-6:-1]"
      ],
      "execution_count": null,
      "outputs": [
        {
          "output_type": "execute_result",
          "data": {
            "text/plain": [
              "'NOHTY'"
            ]
          },
          "metadata": {
            "tags": []
          },
          "execution_count": 92
        }
      ]
    },
    {
      "cell_type": "code",
      "metadata": {
        "id": "G5coj9s7SMxs",
        "outputId": "885180e9-bc12-4cd2-b900-f336e8f1a89d"
      },
      "source": [
        "python_love[-1:-7:-1]"
      ],
      "execution_count": null,
      "outputs": [
        {
          "output_type": "execute_result",
          "data": {
            "text/plain": [
              "'NOHTYP'"
            ]
          },
          "metadata": {
            "tags": []
          },
          "execution_count": 44
        }
      ]
    },
    {
      "cell_type": "markdown",
      "metadata": {
        "id": "_wokj1heSMxt"
      },
      "source": [
        "Note : To reverse a string, leave the start and end index as blank and give the stride as -1"
      ]
    },
    {
      "cell_type": "code",
      "metadata": {
        "id": "B7OyAikKSMxt",
        "outputId": "c1578bc8-be48-40f2-bda7-3e0b36ee799d"
      },
      "source": [
        "str1 = 'mango'\n",
        "#required output : ognam\n",
        "str1[::-1]"
      ],
      "execution_count": null,
      "outputs": [
        {
          "output_type": "execute_result",
          "data": {
            "text/plain": [
              "'ognam'"
            ]
          },
          "metadata": {
            "tags": []
          },
          "execution_count": 13
        }
      ]
    },
    {
      "cell_type": "code",
      "metadata": {
        "id": "l_GCywLRSMxu",
        "outputId": "59c9e782-eb78-4a3c-e050-565b5ac2545b"
      },
      "source": [
        "str2=\"Yay! I enjoy Python basics\"\n",
        "#YAY!\n",
        "#Iejy\n",
        "str2[0:4]\n"
      ],
      "execution_count": null,
      "outputs": [
        {
          "output_type": "execute_result",
          "data": {
            "text/plain": [
              "'Yay!'"
            ]
          },
          "metadata": {
            "tags": []
          },
          "execution_count": 17
        }
      ]
    },
    {
      "cell_type": "code",
      "metadata": {
        "id": "uNqGwFU6SMxu",
        "outputId": "ce61bae2-93bb-457a-d26e-1b5c04c2e20b"
      },
      "source": [
        "str2[5:12:2]"
      ],
      "execution_count": null,
      "outputs": [
        {
          "output_type": "execute_result",
          "data": {
            "text/plain": [
              "'Iejy'"
            ]
          },
          "metadata": {
            "tags": []
          },
          "execution_count": 16
        }
      ]
    },
    {
      "cell_type": "markdown",
      "metadata": {
        "id": "wPiTdnLJSMxv"
      },
      "source": [
        "Escape Sequences"
      ]
    },
    {
      "cell_type": "markdown",
      "metadata": {
        "id": "VIpr8f42SMxv"
      },
      "source": [
        "\\n - newline"
      ]
    },
    {
      "cell_type": "code",
      "metadata": {
        "id": "OFh-M8joSMxv",
        "outputId": "5da49efb-a217-4936-ec1e-7a0db15f59c2"
      },
      "source": [
        "temp = \"How are you doing?\"\n",
        "name = \"Hi Im Paul\"\n",
        "print(name+'\\n'+temp)"
      ],
      "execution_count": null,
      "outputs": [
        {
          "output_type": "stream",
          "text": [
            "Hi Im Paul\n",
            "How are you doing?\n"
          ],
          "name": "stdout"
        }
      ]
    },
    {
      "cell_type": "code",
      "metadata": {
        "id": "krTqbFrQSMxw",
        "outputId": "d59a6ec6-d21f-4f3e-bbfd-426d1732cb4b"
      },
      "source": [
        "print('Hi im Paul'+'\\n'+'From cmrit')"
      ],
      "execution_count": null,
      "outputs": [
        {
          "output_type": "stream",
          "text": [
            "Hi im Paul\n",
            "From cmrit\n"
          ],
          "name": "stdout"
        }
      ]
    },
    {
      "cell_type": "code",
      "metadata": {
        "id": "DrOKM1iDSMxy",
        "outputId": "6ecf42a1-6417-489f-ae0f-50d3fd433c95"
      },
      "source": [
        "print(\"Hi im Paul\\nFrom cmrit\")"
      ],
      "execution_count": null,
      "outputs": [
        {
          "output_type": "stream",
          "text": [
            "Hi im Paul\n",
            "From cmrit\n"
          ],
          "name": "stdout"
        }
      ]
    },
    {
      "cell_type": "code",
      "metadata": {
        "id": "Qz3b0YZ1SMxz",
        "outputId": "8482d7cc-46e3-4f0e-9e9a-8c53730b3b01"
      },
      "source": [
        "print('''Hi im Paul\n",
        "From cmrit''')"
      ],
      "execution_count": null,
      "outputs": [
        {
          "output_type": "stream",
          "text": [
            "Hi im Paul\n",
            "From cmrit\n"
          ],
          "name": "stdout"
        }
      ]
    },
    {
      "cell_type": "markdown",
      "metadata": {
        "id": "SeAJoPJeSMxz"
      },
      "source": [
        "\\t - tab"
      ]
    },
    {
      "cell_type": "code",
      "metadata": {
        "id": "T9-In9CGSMxz",
        "outputId": "20353864-6797-4a21-ed73-575908690656"
      },
      "source": [
        "temp = \"How are you doing?\"\n",
        "name = \"Hi Im Paul\"\n",
        "print(name+'\\t'+temp)"
      ],
      "execution_count": null,
      "outputs": [
        {
          "output_type": "stream",
          "text": [
            "Hi Im Paul\tHow are you doing?\n"
          ],
          "name": "stdout"
        }
      ]
    },
    {
      "cell_type": "markdown",
      "metadata": {
        "id": "hE_vTe3MSMxz"
      },
      "source": [
        "\\b - backspace"
      ]
    },
    {
      "cell_type": "code",
      "metadata": {
        "id": "_uYwP0wpSMxz",
        "outputId": "8aa91204-e22a-446c-89bb-70d351b8c286"
      },
      "source": [
        "temp = \"How are you doing?\"\n",
        "name = \"Hi Im Paul\"\n",
        "print(name+'\\b'+temp)"
      ],
      "execution_count": null,
      "outputs": [
        {
          "output_type": "stream",
          "text": [
            "Hi Im Paul\bHow are you doing?\n"
          ],
          "name": "stdout"
        }
      ]
    },
    {
      "cell_type": "markdown",
      "metadata": {
        "id": "RBZqVRIxSMx0"
      },
      "source": [
        "\\a - provides an audible or visual alert (not used)"
      ]
    },
    {
      "cell_type": "code",
      "metadata": {
        "id": "TR2BVsifSMx0",
        "outputId": "d7ccb166-3055-42e9-81cf-5891e9062ce8"
      },
      "source": [
        "temp = \"How are you doing?\"\n",
        "name = \"Hi Im Paul\"\n",
        "print(name+'\\a'+temp)"
      ],
      "execution_count": null,
      "outputs": [
        {
          "output_type": "stream",
          "text": [
            "Hi Im Paul\u0007How are you doing?\n"
          ],
          "name": "stdout"
        }
      ]
    },
    {
      "cell_type": "markdown",
      "metadata": {
        "id": "tBQ1LnKtSMx0"
      },
      "source": [
        "String formatting"
      ]
    },
    {
      "cell_type": "code",
      "metadata": {
        "id": "mphC20AySMx0"
      },
      "source": [
        "name = 'Anushka'\n",
        "score = '95'\n",
        "#Anushka has scored 95 marks\n",
        "#< name > has scored < score > marks"
      ],
      "execution_count": null,
      "outputs": []
    },
    {
      "cell_type": "code",
      "metadata": {
        "id": "xXXk5owuSMx0",
        "outputId": "6ab032fe-ff88-4765-8e60-574ab4025c9f"
      },
      "source": [
        "print(\"%s has scored %s marks.\" %(name,score))#%s because its a string. This way is more convenient than the usual way"
      ],
      "execution_count": null,
      "outputs": [
        {
          "output_type": "stream",
          "text": [
            "Anushka has scored 95 marks.\n"
          ],
          "name": "stdout"
        }
      ]
    },
    {
      "cell_type": "code",
      "metadata": {
        "id": "c-odbrKZSMx1",
        "outputId": "68b3a087-2dcc-4958-db7f-755fabe8564b"
      },
      "source": [
        "#method 2\n",
        "print(\"{} has scored {} marks.\" .format(name,score))"
      ],
      "execution_count": null,
      "outputs": [
        {
          "output_type": "stream",
          "text": [
            "Anushka has scored 95 marks.\n"
          ],
          "name": "stdout"
        }
      ]
    },
    {
      "cell_type": "code",
      "metadata": {
        "id": "niAd9T5USMx1",
        "outputId": "8e34a9fc-5cdf-4d7a-8749-525cdf4bf803"
      },
      "source": [
        "#method 3 USING f STRING\n",
        "name = 'Anushka'\n",
        "score = '95'\n",
        "#Anushka has score\n",
        "print(f\"{name} has scored {score} marks.\")"
      ],
      "execution_count": null,
      "outputs": [
        {
          "output_type": "stream",
          "text": [
            "Anushka has scored 95 marks.\n"
          ],
          "name": "stdout"
        }
      ]
    },
    {
      "cell_type": "markdown",
      "metadata": {
        "id": "j-_HHfWpSMx2"
      },
      "source": [
        "String operations"
      ]
    },
    {
      "cell_type": "code",
      "metadata": {
        "id": "ofJJW72RSMx2",
        "outputId": "fe9cf967-a85c-4f33-e403-aa030075389a"
      },
      "source": [
        "#Concatenation\n",
        "added_string = name+' '+score\n",
        "added_string"
      ],
      "execution_count": null,
      "outputs": [
        {
          "output_type": "execute_result",
          "data": {
            "text/plain": [
              "'Anushka 95'"
            ]
          },
          "metadata": {
            "tags": []
          },
          "execution_count": 30
        }
      ]
    },
    {
      "cell_type": "code",
      "metadata": {
        "id": "zCv4fqOWSMx2",
        "outputId": "aed68f6c-801f-4521-b6c7-ab6801139ad3"
      },
      "source": [
        "#Printing multiple times\n",
        "print(\"Hello \"*3)"
      ],
      "execution_count": null,
      "outputs": [
        {
          "output_type": "stream",
          "text": [
            "Hello Hello Hello \n"
          ],
          "name": "stdout"
        }
      ]
    },
    {
      "cell_type": "code",
      "metadata": {
        "id": "FAzejRPbSMx3",
        "outputId": "c2b915a9-4b66-4def-a7c5-709f0be5bfa9"
      },
      "source": [
        "#Length of the string\n",
        "name1='pravin'\n",
        "print(len(name1))"
      ],
      "execution_count": null,
      "outputs": [
        {
          "output_type": "stream",
          "text": [
            "6\n"
          ],
          "name": "stdout"
        }
      ]
    },
    {
      "cell_type": "code",
      "metadata": {
        "id": "Er85wBGDSMx3",
        "outputId": "c6700e2d-ee8e-4c9f-e38c-ee7598843011"
      },
      "source": [
        "#Upper case\n",
        "name1.upper()"
      ],
      "execution_count": null,
      "outputs": [
        {
          "output_type": "execute_result",
          "data": {
            "text/plain": [
              "'PRAVIN'"
            ]
          },
          "metadata": {
            "tags": []
          },
          "execution_count": 34
        }
      ]
    },
    {
      "cell_type": "code",
      "metadata": {
        "id": "HBkM9U6mSMx4",
        "outputId": "415a8a4d-7c3a-42ae-a03c-8df8f3608f17"
      },
      "source": [
        "name2='STEVEN'\n",
        "name2.lower()"
      ],
      "execution_count": null,
      "outputs": [
        {
          "output_type": "execute_result",
          "data": {
            "text/plain": [
              "'steven'"
            ]
          },
          "metadata": {
            "tags": []
          },
          "execution_count": 37
        }
      ]
    },
    {
      "cell_type": "code",
      "metadata": {
        "id": "Y9Z2DndOSMx5",
        "outputId": "20ae2d57-89b7-4c7c-8d9f-524eb88f9baa"
      },
      "source": [
        "#QUIZ-\n",
        "#Predict the output\n",
        "string11=\"Python\"\n",
        "print(string11[2])"
      ],
      "execution_count": null,
      "outputs": [
        {
          "output_type": "stream",
          "text": [
            "t\n"
          ],
          "name": "stdout"
        }
      ]
    },
    {
      "cell_type": "code",
      "metadata": {
        "id": "jk4jxoYJSMx6",
        "outputId": "a4f3824c-66bd-4573-9682-b3050b68d3cd"
      },
      "source": [
        "#QUIZ-\n",
        "#Predict the output\n",
        "string11=\"Python\"\n",
        "print(len(string11[2:5]))"
      ],
      "execution_count": null,
      "outputs": [
        {
          "output_type": "stream",
          "text": [
            "3\n"
          ],
          "name": "stdout"
        }
      ]
    },
    {
      "cell_type": "code",
      "metadata": {
        "id": "wUywbVHOSMx7",
        "outputId": "76e5202e-09cb-4ccb-bfaf-e1c393b58b40"
      },
      "source": [
        "#TASK\n",
        "#WAP to print the following\n",
        "#Name, score, address, school name\n",
        "\n",
        "#Eg; Rahul studies in xyz school. He lives at < address >. He has scored 93 marks in class 10.\n",
        "\n",
        "name_=input(\"Enter your name :\")\n",
        "school=input(\"Enter your school :\")\n",
        "address=input(\"Enter your address :\")\n",
        "marks_=input(\"Enter your marks in class 10 :\")\n",
        "print(\"%s studies in %s. He lives at %s. He has scored %s marks in class 10\" %(name_,school,address,marks_))"
      ],
      "execution_count": null,
      "outputs": [
        {
          "output_type": "stream",
          "text": [
            "Enter your name :Paul Alex\n",
            "Enter your school :CMRIT\n",
            "Enter your address :AECS layout, Bangalore\n",
            "Enter your marks in class 10 :89.6\n",
            "Paul Alex studies in CMRIT. He lives at AECS layout, Bangalore. He has scored 89.6 marks in class 10\n"
          ],
          "name": "stdout"
        }
      ]
    },
    {
      "cell_type": "markdown",
      "metadata": {
        "id": "XEFCNTNRSMx8"
      },
      "source": [
        "# Day3"
      ]
    },
    {
      "cell_type": "markdown",
      "metadata": {
        "id": "Nv19aOtFSMx8"
      },
      "source": [
        "#Comments\n",
        "\n",
        "#This is a single line comment\n",
        "\n",
        "\"\"\"\n",
        "This \n",
        "is\n",
        "a \n",
        "multi-line\n",
        "Comment\n",
        "\n",
        "y=7\n",
        "print(y)\n",
        "\"\"\"\n",
        "\n",
        "x=5\n",
        "print(x)\n",
        "\n",
        "#Note: Multi-line comments might not work well on Jupyter. Things work a little bit different on Jupyter. It accepts it as a multiline comment, but the way it prints it will be different. It \n",
        "directly prints everything on the console(output)"
      ]
    },
    {
      "cell_type": "code",
      "metadata": {
        "id": "_HAsFBXySMx8",
        "outputId": "3f4c83ca-c88d-4ca8-f3ae-bcb1a5331a85"
      },
      "source": [
        "#Sample Greeting Message\n",
        "print (\"*\"*5+ 'Welcome to YAY!' + '*'*5)\n",
        "yourName=input(\"Enter your Name: \")\n",
        "yourLang = input(\"Enter the Language you want to learn: \")\n",
        "\n",
        "#Method 1\n",
        "print(f\"Good Evening {yourName}! \\nDon't worry, {yourLang} is a Super Easy Language to Learn! \\nWe'll all do it together! \\t Bye!\" )"
      ],
      "execution_count": null,
      "outputs": [
        {
          "output_type": "stream",
          "text": [
            "*****Welcome to YAY!*****\n",
            "Enter your Name: Paul Alex\n",
            "Enter the Language you want to learn: Python\n",
            "Good Evening Paul Alex! \n",
            "Don't worry, Python is a Super Easy Language to Learn! \n",
            "We'll all do it together! \t Bye!\n"
          ],
          "name": "stdout"
        }
      ]
    },
    {
      "cell_type": "code",
      "metadata": {
        "id": "1f5CafaJSMx8",
        "outputId": "5db080b5-31ab-40da-a320-be96b12806ea"
      },
      "source": [
        "#Method 2\n",
        "print(f'''Good Evening {yourName}!\n",
        "Don't worry, {yourLang} is a Super Easy Language to Learn!\n",
        "We'll all do it together! \\t Bye!''')"
      ],
      "execution_count": null,
      "outputs": [
        {
          "output_type": "stream",
          "text": [
            "Good Evening Paul Alex!\n",
            "Don't worry, Python is a Super Easy Language to Learn!\n",
            "We'll all do it together! \t Bye!\n"
          ],
          "name": "stdout"
        }
      ]
    },
    {
      "cell_type": "code",
      "metadata": {
        "id": "hnP6e69xSMx8",
        "outputId": "9db4d683-7229-4c7f-b6ea-3cb6275be5a4"
      },
      "source": [
        "#Note:If you assign a multiline comment to a variable, it becomes a :multiline\" string\n",
        "y='''My\n",
        "Name\n",
        "is \n",
        "Paul'''\n",
        "print(y)\n"
      ],
      "execution_count": null,
      "outputs": [
        {
          "output_type": "stream",
          "text": [
            "My\n",
            "Name\n",
            "is \n",
            "Paul\n"
          ],
          "name": "stdout"
        }
      ]
    },
    {
      "cell_type": "markdown",
      "metadata": {
        "id": "nTy-vRUfSMx9"
      },
      "source": [
        "Python Conditional (Comparison)\n",
        "Equals a==b\n",
        "Not Equals: a!=b\n",
        "Less than: a<b\n",
        "Less than or equal to: a<=b\n",
        "Greater than: a>b\n",
        "Greater than or equal to: a>=b\n",
        "Note: Conditionals produce a boolean output"
      ]
    },
    {
      "cell_type": "code",
      "metadata": {
        "id": "WPfj9rC9SMx9",
        "outputId": "9aa5c4fa-3ba9-4472-a13f-a9515c8894b5"
      },
      "source": [
        "x=7\n",
        "y=8\n",
        "z=7\n",
        "#conditionals\n",
        "print(x==y)\n",
        "print(x==z)\n",
        "print(x!=y )\n",
        "print(x!=z)\n",
        "print(x<=y)\n",
        "print(y<=x)\n",
        "print(x>y)"
      ],
      "execution_count": null,
      "outputs": [
        {
          "output_type": "stream",
          "text": [
            "False\n",
            "True\n",
            "True\n",
            "False\n",
            "True\n",
            "False\n",
            "False\n"
          ],
          "name": "stdout"
        }
      ]
    },
    {
      "cell_type": "code",
      "metadata": {
        "id": "1bnCKicISMx9",
        "outputId": "e2d03d07-ae9b-4349-f4d0-a1847428c75a"
      },
      "source": [
        "#HandsOn exercise 1\n",
        "Is_Good_Customer = input(\"Is Good Customer? : \")\n",
        "customerAge=int(input(\"What is his/her Age : \"))\n",
        "\n",
        "price = 1000\n",
        "discount=0\n",
        "\n",
        "if Is_Good_Customer=='Yes':\n",
        "    if customerAge<18:\n",
        "        discount=price*0.50\n",
        "    elif customerAge >=65:\n",
        "        discount = price*0.4\n",
        "    else:\n",
        "        discount=price*0.3\n",
        "else:\n",
        "    if customerAge<18:\n",
        "        discount=price*0.20\n",
        "    elif customerAge >=65:\n",
        "        discount = price*0.1\n",
        "    else:\n",
        "        discount = 0\n",
        "bill=price-discount\n",
        "str(bill)\n",
        "        \n",
        "print(\"The Customer will pay %s\" %(bill))\n"
      ],
      "execution_count": null,
      "outputs": [
        {
          "output_type": "stream",
          "text": [
            "Is Good Customer? : iu\n",
            "What is his/her Age : 21\n",
            "The Customer will pay 1000\n"
          ],
          "name": "stdout"
        }
      ]
    },
    {
      "cell_type": "code",
      "metadata": {
        "id": "NDKyEP3mSMx9",
        "outputId": "221b0886-577d-4466-ba75-b151107baeff"
      },
      "source": [
        "#HandsOn exercise 2\n",
        "cgpa=float(input(\"Enter your cgpa: \"))\n",
        "criminal_record=input(\"Do you have any criminal record? \")#Yes or No\n",
        "if cgpa >=9.0 and criminal_record=='No':\n",
        "    print(\"You're eligible for admission!!!\")\n",
        "else:\n",
        "        print(\"You're ineligible for admission!!!\")"
      ],
      "execution_count": null,
      "outputs": [
        {
          "output_type": "stream",
          "text": [
            "Enter your cgpa: 9.6\n",
            "Do you have any criminal record? No\n",
            "You're eligible for admission!!!\n"
          ],
          "name": "stdout"
        }
      ]
    },
    {
      "cell_type": "code",
      "metadata": {
        "id": "YNw8zEkqSMx-",
        "outputId": "9d6b7c90-7560-475c-b51c-b7d964dc743d"
      },
      "source": [
        "#in \n",
        "print(8 in [2,3,4,5])"
      ],
      "execution_count": null,
      "outputs": [
        {
          "output_type": "stream",
          "text": [
            "False\n"
          ],
          "name": "stdout"
        }
      ]
    },
    {
      "cell_type": "code",
      "metadata": {
        "id": "pWG2FExgSMx-",
        "outputId": "8c8b6495-5ba5-4442-f161-a9c785ca97d5"
      },
      "source": [
        "x=\"Hello\"\n",
        "if x in \"Hello World\":\n",
        "    print(\"Yes\")\n",
        "else:\n",
        "    pass# It will just continue the flow of program without any statement. \n",
        "\n",
        "print(\"Program Execution Completed\")"
      ],
      "execution_count": null,
      "outputs": [
        {
          "output_type": "stream",
          "text": [
            "Yes\n",
            "Program Execution Completed\n"
          ],
          "name": "stdout"
        }
      ]
    },
    {
      "cell_type": "code",
      "metadata": {
        "id": "Hu3Q8iYnSMx-",
        "outputId": "6faae855-1787-4d4e-c38b-2da8b36f4234"
      },
      "source": [
        "#for loop\n",
        "x=[1,2,3,4,5,6]\n",
        "for i in x:\n",
        "    print(i)"
      ],
      "execution_count": null,
      "outputs": [
        {
          "output_type": "stream",
          "text": [
            "1\n",
            "2\n",
            "3\n",
            "4\n",
            "5\n",
            "6\n"
          ],
          "name": "stdout"
        }
      ]
    },
    {
      "cell_type": "code",
      "metadata": {
        "id": "Kl3E__lESMx-",
        "outputId": "8057f496-3ada-43ff-d189-baf63d972d22"
      },
      "source": [
        "for i in range(len(x)+1):\n",
        "    print(i)\n"
      ],
      "execution_count": null,
      "outputs": [
        {
          "output_type": "stream",
          "text": [
            "0\n",
            "1\n",
            "2\n",
            "3\n",
            "4\n",
            "5\n",
            "6\n"
          ],
          "name": "stdout"
        }
      ]
    },
    {
      "cell_type": "code",
      "metadata": {
        "id": "DptTiXtQSMx_",
        "outputId": "7d61cc8b-ed48-415f-dc00-945d549cfb82"
      },
      "source": [
        "#Lists\n",
        "#Multi Dimensional List, Similar to matrices\n",
        "x=[\n",
        "  [1,2,3],\n",
        "  [4,5,6],\n",
        "  [7,8,9]]\n",
        "print(x[0][2])"
      ],
      "execution_count": null,
      "outputs": [
        {
          "output_type": "stream",
          "text": [
            "3\n"
          ],
          "name": "stdout"
        }
      ]
    },
    {
      "cell_type": "code",
      "metadata": {
        "id": "a83hzqVhSMx_",
        "outputId": "ab328619-58dd-4d18-cac0-8906ddd785c1"
      },
      "source": [
        "List = [1,2,3,4,5]\n",
        "print(List*3)\n",
        "print(List[2])\n",
        "print(List[10])"
      ],
      "execution_count": null,
      "outputs": [
        {
          "output_type": "stream",
          "text": [
            "[1, 2, 3, 4, 5, 1, 2, 3, 4, 5, 1, 2, 3, 4, 5]\n",
            "3\n"
          ],
          "name": "stdout"
        },
        {
          "output_type": "error",
          "ename": "IndexError",
          "evalue": "list index out of range",
          "traceback": [
            "\u001b[1;31m---------------------------------------------------------------------------\u001b[0m",
            "\u001b[1;31mIndexError\u001b[0m                                Traceback (most recent call last)",
            "\u001b[1;32m<ipython-input-77-8cf9275cd019>\u001b[0m in \u001b[0;36m<module>\u001b[1;34m\u001b[0m\n\u001b[0;32m      2\u001b[0m \u001b[0mprint\u001b[0m\u001b[1;33m(\u001b[0m\u001b[0mList\u001b[0m\u001b[1;33m*\u001b[0m\u001b[1;36m3\u001b[0m\u001b[1;33m)\u001b[0m\u001b[1;33m\u001b[0m\u001b[1;33m\u001b[0m\u001b[0m\n\u001b[0;32m      3\u001b[0m \u001b[0mprint\u001b[0m\u001b[1;33m(\u001b[0m\u001b[0mList\u001b[0m\u001b[1;33m[\u001b[0m\u001b[1;36m2\u001b[0m\u001b[1;33m]\u001b[0m\u001b[1;33m)\u001b[0m\u001b[1;33m\u001b[0m\u001b[1;33m\u001b[0m\u001b[0m\n\u001b[1;32m----> 4\u001b[1;33m \u001b[0mprint\u001b[0m\u001b[1;33m(\u001b[0m\u001b[0mList\u001b[0m\u001b[1;33m[\u001b[0m\u001b[1;36m10\u001b[0m\u001b[1;33m]\u001b[0m\u001b[1;33m)\u001b[0m\u001b[1;33m\u001b[0m\u001b[1;33m\u001b[0m\u001b[0m\n\u001b[0m",
            "\u001b[1;31mIndexError\u001b[0m: list index out of range"
          ]
        }
      ]
    },
    {
      "cell_type": "markdown",
      "metadata": {
        "id": "9lEu2ffLSMyA"
      },
      "source": [
        "# Day4"
      ]
    },
    {
      "cell_type": "code",
      "metadata": {
        "id": "zVjEb8E5SMyA",
        "outputId": "9fb7d7c7-1b1f-42a4-b9ee-c0b01bdc89d2"
      },
      "source": [
        "#List operations\n",
        "\n",
        "x = [1,2,3,4,5]\n",
        "\n",
        "for i in range(len(x)): #[0-4]\n",
        "    print(f'x[{i}] => {x[i]}')"
      ],
      "execution_count": null,
      "outputs": [
        {
          "output_type": "stream",
          "text": [
            "x[0] => 1\n",
            "x[1] => 2\n",
            "x[2] => 3\n",
            "x[3] => 4\n",
            "x[4] => 5\n"
          ],
          "name": "stdout"
        }
      ]
    },
    {
      "cell_type": "code",
      "metadata": {
        "id": "PSHA8wgbSMyA",
        "outputId": "5cc6031c-52eb-4bc5-d954-83cbe6f24ff3"
      },
      "source": [
        "x = [5,4,3,2,1]\n",
        "for i in range(len(x)):\n",
        "    print(f\"x[{i}] => {x[i]}\")"
      ],
      "execution_count": null,
      "outputs": [
        {
          "output_type": "stream",
          "text": [
            "x[0] => 5\n",
            "x[1] => 4\n",
            "x[2] => 3\n",
            "x[3] => 2\n",
            "x[4] => 1\n"
          ],
          "name": "stdout"
        }
      ]
    },
    {
      "cell_type": "code",
      "metadata": {
        "id": "7faaj6ZbSMyB",
        "outputId": "8ca7a6e9-d01f-46c0-e257-d88cba37812d"
      },
      "source": [
        "#Why can't we just iterate across the list instead of using range.\n",
        "#We will get an error because i has the value, not the index. So when we reach the last position( i.e x[5]),it goes out of bounds\n",
        "x = [1,2,3,4,5]\n",
        "for i in x:\n",
        "    print(f\"x[{i}] => {x[i]}\")"
      ],
      "execution_count": null,
      "outputs": [
        {
          "output_type": "stream",
          "text": [
            "x[1] => 2\n",
            "x[2] => 3\n",
            "x[3] => 4\n",
            "x[4] => 5\n"
          ],
          "name": "stdout"
        },
        {
          "output_type": "error",
          "ename": "IndexError",
          "evalue": "list index out of range",
          "traceback": [
            "\u001b[1;31m---------------------------------------------------------------------------\u001b[0m",
            "\u001b[1;31mIndexError\u001b[0m                                Traceback (most recent call last)",
            "\u001b[1;32m<ipython-input-126-0e41bc7154ad>\u001b[0m in \u001b[0;36m<module>\u001b[1;34m\u001b[0m\n\u001b[0;32m      3\u001b[0m \u001b[0mx\u001b[0m \u001b[1;33m=\u001b[0m \u001b[1;33m[\u001b[0m\u001b[1;36m1\u001b[0m\u001b[1;33m,\u001b[0m\u001b[1;36m2\u001b[0m\u001b[1;33m,\u001b[0m\u001b[1;36m3\u001b[0m\u001b[1;33m,\u001b[0m\u001b[1;36m4\u001b[0m\u001b[1;33m,\u001b[0m\u001b[1;36m5\u001b[0m\u001b[1;33m]\u001b[0m\u001b[1;33m\u001b[0m\u001b[1;33m\u001b[0m\u001b[0m\n\u001b[0;32m      4\u001b[0m \u001b[1;32mfor\u001b[0m \u001b[0mi\u001b[0m \u001b[1;32min\u001b[0m \u001b[0mx\u001b[0m\u001b[1;33m:\u001b[0m\u001b[1;33m\u001b[0m\u001b[1;33m\u001b[0m\u001b[0m\n\u001b[1;32m----> 5\u001b[1;33m     \u001b[0mprint\u001b[0m\u001b[1;33m(\u001b[0m\u001b[1;34mf\"x[{i}] => {x[i]}\"\u001b[0m\u001b[1;33m)\u001b[0m\u001b[1;33m\u001b[0m\u001b[1;33m\u001b[0m\u001b[0m\n\u001b[0m",
            "\u001b[1;31mIndexError\u001b[0m: list index out of range"
          ]
        }
      ]
    },
    {
      "cell_type": "code",
      "metadata": {
        "id": "3KhDfErGSMyB",
        "outputId": "138d4ae9-19f7-490d-ed41-ba44a2e9f383"
      },
      "source": [
        "x=['Paul',21,True,6+8j]\n",
        "for i in x:\n",
        "    print(type(i))"
      ],
      "execution_count": null,
      "outputs": [
        {
          "output_type": "stream",
          "text": [
            "<class 'str'>\n",
            "<class 'int'>\n",
            "<class 'bool'>\n",
            "<class 'complex'>\n"
          ],
          "name": "stdout"
        }
      ]
    },
    {
      "cell_type": "code",
      "metadata": {
        "id": "zxeaMciMSMyB",
        "outputId": "c3710946-de98-46d5-b06f-4f314cc1cdd2"
      },
      "source": [
        "#operations\n",
        "#Sum\n",
        "x=[1,2,3,4]\n",
        "print(sum(x))\n",
        "\n",
        "#pop\n",
        "#last element gets popped\n",
        "out_element=x.pop()\n",
        "print(out_element)\n",
        "\n",
        "#if there are multiple occurences of the same element in the list, the first occurence gets popped\n",
        "x1=[1,2,3,4,7,8,4,4,4,4,4,5]\n",
        "x1.remove(4)\n",
        "print(x1)"
      ],
      "execution_count": null,
      "outputs": [
        {
          "output_type": "stream",
          "text": [
            "10\n",
            "4\n",
            "[1, 2, 3, 7, 8, 4, 4, 4, 4, 4, 5]\n"
          ],
          "name": "stdout"
        }
      ]
    },
    {
      "cell_type": "code",
      "metadata": {
        "id": "_5gI9-UPSMyB",
        "outputId": "224c4ada-56ef-42c3-e573-ea67af988ca2"
      },
      "source": [
        "#Finding product of all elements\n",
        "import numpy\n",
        "x=[1,2,3,4]\n",
        "print(numpy.prod(x))"
      ],
      "execution_count": null,
      "outputs": [
        {
          "output_type": "stream",
          "text": [
            "24\n"
          ],
          "name": "stdout"
        }
      ]
    },
    {
      "cell_type": "code",
      "metadata": {
        "id": "eXFMbTewSMyC"
      },
      "source": [
        "#Finding product of all elements (python 3.8 onwards)\n",
        "import math\n",
        "a=[1,2,3,4]\n",
        "print(math.prod(a))"
      ],
      "execution_count": null,
      "outputs": []
    },
    {
      "cell_type": "markdown",
      "metadata": {
        "id": "4BUngO9bSMyC"
      },
      "source": [
        "Math library in python(refer this for more details)\n",
        "\n",
        "https://docs.python.org/3/library/math.html"
      ]
    },
    {
      "cell_type": "code",
      "metadata": {
        "id": "sjTa9VA3SMyC",
        "outputId": "26f574e4-2dbd-4256-b4ef-50f43e059275"
      },
      "source": [
        "#mutability of lists\n",
        "x=[1,2,3,4,5]\n",
        "y=list(x) \n",
        "y[3]=99\n",
        "print(x)\n",
        "print(y)"
      ],
      "execution_count": null,
      "outputs": [
        {
          "output_type": "stream",
          "text": [
            "[1, 2, 3, 4, 5]\n",
            "[1, 2, 3, 99, 5]\n"
          ],
          "name": "stdout"
        }
      ]
    },
    {
      "cell_type": "code",
      "metadata": {
        "id": "lgeHmVO-SMyC",
        "outputId": "5ffbe3bc-b732-42ea-a141-43d9fb518c61"
      },
      "source": [
        "#enumerate() is used to give the index and the value\n",
        "x=[1,2,3,4,5] \n",
        "for i,j in enumerate(x):#i gives the index and j gives the value\n",
        "            print(i,j)"
      ],
      "execution_count": null,
      "outputs": [
        {
          "output_type": "stream",
          "text": [
            "0 1\n",
            "1 2\n",
            "2 3\n",
            "3 4\n",
            "4 5\n"
          ],
          "name": "stdout"
        }
      ]
    },
    {
      "cell_type": "code",
      "metadata": {
        "id": "yrRVhlWsSMyD",
        "outputId": "7b1abb48-85ba-4918-dd25-8e8e4a782c37"
      },
      "source": [
        "#enumerate() is used to give the index and the value\n",
        "#Finding the position of a particular element\n",
        "x=[20,10,8,99,5]\n",
        "for i,j in enumerate(x):#i gives the index and j gives the value\n",
        "    if j==99:\n",
        "        print(i)\n",
        "        break"
      ],
      "execution_count": null,
      "outputs": [
        {
          "output_type": "stream",
          "text": [
            "3\n"
          ],
          "name": "stdout"
        }
      ]
    },
    {
      "cell_type": "code",
      "metadata": {
        "id": "pdwn1WinSMyD",
        "outputId": "a3413ef1-14eb-4dbe-c644-4caeb6da519b"
      },
      "source": [
        "#Ascending/descending order\n",
        "#sort function is inline(meaning it changes the value of the variable itself)\n",
        "x=[20,10,8,99,5]\n",
        "x.sort(reverse = True)#reverse=true means descending\n",
        "print(x)\n",
        "\n",
        "print(\"\\n\")\n",
        "\n",
        "x=[20,10,8,99,5]\n",
        "x.sort(reverse = False)#reverse=false means ascending\n",
        "print(x)"
      ],
      "execution_count": null,
      "outputs": [
        {
          "output_type": "stream",
          "text": [
            "[99, 20, 10, 8, 5]\n",
            "\n",
            "\n",
            "[5, 8, 10, 20, 99]\n"
          ],
          "name": "stdout"
        }
      ]
    },
    {
      "cell_type": "code",
      "metadata": {
        "id": "b47dWNsASMyD",
        "outputId": "a42a4761-b29c-409c-ebe8-315600b990dd"
      },
      "source": [
        "#using sorted ()\n",
        "#sorted function is not inline(meaning it doesn't change the value of the variable itself)\n",
        "y=sorted(x)\n",
        "print(y)\n",
        "\n",
        "#for descending order\n",
        "y=sorted(x,reverse=True)\n",
        "print(y)"
      ],
      "execution_count": null,
      "outputs": [
        {
          "output_type": "stream",
          "text": [
            "[5, 8, 10, 20, 99]\n",
            "[99, 20, 10, 8, 5]\n"
          ],
          "name": "stdout"
        }
      ]
    },
    {
      "cell_type": "code",
      "metadata": {
        "id": "IwtIYC7pSMyD",
        "outputId": "70a5b61b-b70f-46c0-99fc-76491ab2ad6b"
      },
      "source": [
        "#Note: Sort function is inline(meaning it modifies the original data). Sorted function is not inline. It just creates a copy without modifying the original data.\n",
        "x=[20,10,8,99,5]\n",
        "x.sort()\n",
        "print(x)\n",
        "\n",
        "print('\\n')\n",
        "\n",
        "x=[20,10,8,99,5]\n",
        "sorted(x)\n",
        "print(x)#here we are not getting a sorted output, since the original data isn't modified. To get the sorted output, we need to type the function in the print statement, or we need to assign the function to a variable and then print the variable.\n",
        "\n",
        "print('\\n')\n",
        "\n",
        "x=[20,10,8,99,5]\n",
        "print(sorted(x))\n",
        "#or\n",
        "a=sorted(x)\n",
        "print(a)"
      ],
      "execution_count": null,
      "outputs": [
        {
          "output_type": "stream",
          "text": [
            "[5, 8, 10, 20, 99]\n",
            "\n",
            "\n",
            "[20, 10, 8, 99, 5]\n",
            "\n",
            "\n",
            "[5, 8, 10, 20, 99]\n",
            "[5, 8, 10, 20, 99]\n"
          ],
          "name": "stdout"
        }
      ]
    },
    {
      "cell_type": "code",
      "metadata": {
        "id": "-qMxrK7TSMyE",
        "outputId": "72c84aed-4d2a-4923-d199-dd16b91c884d"
      },
      "source": [
        "#Reversing a list \n",
        "#1)using reverse() function(it is inline)\n",
        "x=[20,10,8,99,5]\n",
        "\n",
        "x.reverse()\n",
        "\n",
        "print(x)\n",
        "\n",
        "print(\"\\n\")\n",
        "\n",
        "#2)using slicing (not inline)\n",
        "x=[20,10,8,99,5]\n",
        "print(x[::-1])"
      ],
      "execution_count": null,
      "outputs": [
        {
          "output_type": "stream",
          "text": [
            "[5, 99, 8, 10, 20]\n",
            "\n",
            "\n",
            "[5, 99, 8, 10, 20]\n"
          ],
          "name": "stdout"
        }
      ]
    },
    {
      "cell_type": "code",
      "metadata": {
        "id": "MRyYSFzsSMyE"
      },
      "source": [
        "#Multiply 2 with every element\n",
        "x=[20,10,8,99,5]\n",
        "for i in x:\n",
        "    x.append(i*2)\n",
        "    print(x)"
      ],
      "execution_count": null,
      "outputs": []
    },
    {
      "cell_type": "code",
      "metadata": {
        "id": "jPusmhslSMyE",
        "outputId": "a9b5378b-e488-4f2d-f72a-4b001370a76f"
      },
      "source": [
        "#Multiply 2 with every element using list comprehension\n",
        "x=[20,10,8,99,5]\n",
        "x=[i*2 for i in x]\n",
        "print(x)"
      ],
      "execution_count": null,
      "outputs": [
        {
          "output_type": "stream",
          "text": [
            "[40, 20, 16, 198, 10]\n"
          ],
          "name": "stdout"
        }
      ]
    },
    {
      "cell_type": "markdown",
      "metadata": {
        "id": "FUxw2jx5SMyE"
      },
      "source": [
        "del x will deallocate the memory assigned to the list x"
      ]
    },
    {
      "cell_type": "code",
      "metadata": {
        "id": "vbdJU3L7SMyF"
      },
      "source": [
        "#locals() is used to chk whether a particular variable is present\n",
        "\n",
        "y=9\n",
        "print(locals())\n",
        "\n",
        "y=10\n",
        "print(locals())"
      ],
      "execution_count": null,
      "outputs": []
    },
    {
      "cell_type": "code",
      "metadata": {
        "id": "iJsLTlaPSMyF",
        "outputId": "45b28c5c-46e2-484d-e4de-ee64b68d2c7c"
      },
      "source": [
        "#COMBINING TWO LISTS\n",
        "x=[1,2]\n",
        "y=[3,4]\n",
        "x.extend(y)\n",
        "print(x)"
      ],
      "execution_count": null,
      "outputs": [
        {
          "output_type": "stream",
          "text": [
            "[1, 2, 3, 4]\n"
          ],
          "name": "stdout"
        }
      ]
    },
    {
      "cell_type": "code",
      "metadata": {
        "id": "-wINl8nRSMyG",
        "outputId": "26006e9d-3512-443b-b0af-103b8d7325ff"
      },
      "source": [
        "#OR\n",
        "x=[1,2]\n",
        "y=[3,4]\n",
        "x=x+y\n",
        "print(x)"
      ],
      "execution_count": null,
      "outputs": [
        {
          "output_type": "stream",
          "text": [
            "[1, 2, 3, 4]\n"
          ],
          "name": "stdout"
        }
      ]
    },
    {
      "cell_type": "code",
      "metadata": {
        "id": "yLz9RATMSMyG",
        "outputId": "9010c7eb-29ee-4f2d-c6b6-17f0788e6ffd"
      },
      "source": [
        "#Concatenating list items(strings)\n",
        "#join is applicable to strings\n",
        "list_of_strings = [\"Rahul\",\"YAY\",\"Python\"]\n",
        "print(''.join(list_of_strings))\n",
        "#Where '' is a separator"
      ],
      "execution_count": null,
      "outputs": [
        {
          "output_type": "stream",
          "text": [
            "RahulYAYPython\n"
          ],
          "name": "stdout"
        }
      ]
    },
    {
      "cell_type": "code",
      "metadata": {
        "id": "w45MUQRiSMyH",
        "outputId": "ef4c6546-bd96-4555-b2cf-abdd67faf67c"
      },
      "source": [
        "list_of_strings = [\"Rahul\",\"YAY\",\"Python\"]\n",
        "print('-'.join(list_of_strings))\n",
        "#Where '' is a separator"
      ],
      "execution_count": null,
      "outputs": [
        {
          "output_type": "stream",
          "text": [
            "Rahul-YAY-Python\n"
          ],
          "name": "stdout"
        }
      ]
    },
    {
      "cell_type": "code",
      "metadata": {
        "id": "YddAaXbFSMyH",
        "outputId": "1b644942-0124-44bc-a149-69e09bc2e418"
      },
      "source": [
        "#Mutability of Lists\n",
        "\n",
        "x=[1,2,3,4,5]\n",
        "print(x)\n",
        "x[2]=99\n",
        "print(x)"
      ],
      "execution_count": null,
      "outputs": [
        {
          "output_type": "stream",
          "text": [
            "[1, 2, 3, 4, 5]\n",
            "[1, 2, 99, 4, 5]\n"
          ],
          "name": "stdout"
        }
      ]
    },
    {
      "cell_type": "code",
      "metadata": {
        "id": "KvkJEWVYSMyI",
        "outputId": "20cc0a35-61b1-4efa-9489-f7951535eef0"
      },
      "source": [
        "#TUPLES\n",
        "#There are two methods of using tuples\n",
        "\n",
        "x=tuple([1,2,3,4,5])\n",
        "y=(1,2,3)\n",
        "a=type(x)\n",
        "b=type(y)\n",
        "print(a,b)\n",
        "\n",
        "#Tuples are immutable"
      ],
      "execution_count": null,
      "outputs": [
        {
          "output_type": "stream",
          "text": [
            "<class 'tuple'> <class 'tuple'>\n"
          ],
          "name": "stdout"
        }
      ]
    },
    {
      "cell_type": "code",
      "metadata": {
        "id": "jwICMZWwSMyJ"
      },
      "source": [
        "#All functionalities are similar to lists except any functionality that alters the data"
      ],
      "execution_count": null,
      "outputs": []
    },
    {
      "cell_type": "code",
      "metadata": {
        "id": "f8Qs0c9nSMyJ",
        "outputId": "808dc2f7-8f5e-4c95-b11d-7af93755876f"
      },
      "source": [
        "#SET\n",
        "#SET is a very very important data structure (data science,machine learning, finance,etc)\n",
        "x = [1,2,2,3,4,5,1,1,1,1,12,3,4,3,4,3,2]\n",
        "print(set(x))\n",
        "#set removes duplicates. Prints only unique elements"
      ],
      "execution_count": null,
      "outputs": [
        {
          "output_type": "stream",
          "text": [
            "{1, 2, 3, 4, 5, 12}\n"
          ],
          "name": "stdout"
        }
      ]
    },
    {
      "cell_type": "code",
      "metadata": {
        "id": "_fmXTrCKSMyK",
        "outputId": "68280d33-4aeb-460b-9813-d8d97287eb5e"
      },
      "source": [
        "#SET(tried this on my own)\n",
        "#SET is a very very important data structure (data science,machine learning, finance,etc)\n",
        "x = {1,2,2,3,4,5,1,1,1,1,12,3,4,3,4,3,2}\n",
        "print(type(x))\n",
        "print(x)\n",
        "#set removes duplicates. Prints only unique elements"
      ],
      "execution_count": null,
      "outputs": [
        {
          "output_type": "stream",
          "text": [
            "<class 'set'>\n",
            "{1, 2, 3, 4, 5, 12}\n"
          ],
          "name": "stdout"
        }
      ]
    },
    {
      "cell_type": "code",
      "metadata": {
        "id": "kgw4BO-iSMyL",
        "outputId": "207ad039-5d39-44d2-c106-4b80f574cb3f"
      },
      "source": [
        "x=[9,9,9,1,2,1,4,9,2,4,3,4,3,2,5,3,4,6]\n",
        "y=set(x)# When you assign a set to a variable, it will always sort in \"ascending\" order\n",
        "print(x)#list\n",
        "print(set(x))\n",
        "print(y)"
      ],
      "execution_count": null,
      "outputs": [
        {
          "output_type": "stream",
          "text": [
            "[9, 9, 9, 1, 2, 1, 4, 9, 2, 4, 3, 4, 3, 2, 5, 3, 4, 6]\n",
            "{1, 2, 3, 4, 5, 6, 9}\n",
            "{1, 2, 3, 4, 5, 6, 9}\n"
          ],
          "name": "stdout"
        }
      ]
    },
    {
      "cell_type": "code",
      "metadata": {
        "id": "JHzpvnAISMyL",
        "outputId": "b931b4df-f4a5-427c-baa4-2f3b9714f6a4"
      },
      "source": [
        "#Used to add elements to a list\n",
        "#removes duplicates, adds an element only if its unique, sorts in ascending order\n",
        "x=[9,9,9,1,2,1,4,9,2,4,3,4,3,2,5,3,4,6]\n",
        "y=set(x)#set(x) is not inline\n",
        "y.add(7)\n",
        "print(x)#list\n",
        "print(set(x))\n",
        "print(y)"
      ],
      "execution_count": null,
      "outputs": [
        {
          "output_type": "stream",
          "text": [
            "[9, 9, 9, 1, 2, 1, 4, 9, 2, 4, 3, 4, 3, 2, 5, 3, 4, 6]\n",
            "{1, 2, 3, 4, 5, 6, 9}\n",
            "{1, 2, 3, 4, 5, 6, 7, 9}\n"
          ],
          "name": "stdout"
        }
      ]
    },
    {
      "cell_type": "code",
      "metadata": {
        "id": "mw2yXM8bSMyL",
        "outputId": "3304b9b0-03ef-4a58-befd-5c72be6cff7d"
      },
      "source": [
        "x=[9,9,9,1,2,1,4,9,2,4,3,4,3,2,5,3,4,6] #(tried this on my own, not verified)\n",
        "set(x)#set(x) is not inline so we don't get a set\n",
        "print(x)"
      ],
      "execution_count": null,
      "outputs": [
        {
          "output_type": "stream",
          "text": [
            "[9, 9, 9, 1, 2, 1, 4, 9, 2, 4, 3, 4, 3, 2, 5, 3, 4, 6]\n"
          ],
          "name": "stdout"
        }
      ]
    },
    {
      "cell_type": "code",
      "metadata": {
        "id": "G5RyosjPSMyL",
        "outputId": "27425385-e7b2-46a5-f7d3-0d7610b6341f"
      },
      "source": [
        "#SORTING A SET \n",
        "#(tried this on my own, not verified)\n",
        "x = {12,1,88,2,3,9,8,5}\n",
        "print(sorted(x))\n",
        "\n",
        "print('\\n')\n",
        "\n",
        "print(sorted(x,reverse = True))#Descending order\n",
        "#sorted() is found to work, sort() isn't working with sets\n",
        "\n",
        "#NOTE that we are getting a list when we sort a set using sorted()\n",
        "\n"
      ],
      "execution_count": null,
      "outputs": [
        {
          "output_type": "stream",
          "text": [
            "[1, 2, 3, 5, 8, 9, 12, 88]\n",
            "\n",
            "\n",
            "[88, 12, 9, 8, 5, 3, 2, 1]\n"
          ],
          "name": "stdout"
        }
      ]
    },
    {
      "cell_type": "code",
      "metadata": {
        "id": "eEwuzpJISMyM",
        "outputId": "d6984160-41b3-46f0-eb58-1bf0a8b7101a"
      },
      "source": [
        "#Adding TWO Lists\n",
        "\n",
        "x=[9,9,9,1,2,1,4,9,2,4,3,4,3,2,5,3,4,6]\n",
        "z=[6,7,8]\n",
        "y=set(x)\n",
        "y.update(z)\n",
        "print(x)#list\n",
        "print(set(x))\n",
        "print(y)"
      ],
      "execution_count": null,
      "outputs": [
        {
          "output_type": "stream",
          "text": [
            "[9, 9, 9, 1, 2, 1, 4, 9, 2, 4, 3, 4, 3, 2, 5, 3, 4, 6]\n",
            "{1, 2, 3, 4, 5, 6, 9}\n",
            "{1, 2, 3, 4, 5, 6, 7, 8, 9}\n"
          ],
          "name": "stdout"
        }
      ]
    },
    {
      "cell_type": "markdown",
      "metadata": {
        "id": "OUBGwZxZSMyM"
      },
      "source": [
        "SETS are faster than LISTS in case of any programming language\n",
        "\n",
        "Complexity\n",
        "\n",
        "SETS : O(1)\n",
        "LISTS : O(n)"
      ]
    },
    {
      "cell_type": "code",
      "metadata": {
        "id": "ihrqn6-PSMyM",
        "outputId": "3a58ebf8-fd0a-4dd6-848a-230275258be7"
      },
      "source": [
        "x=[9,9,9,1,2,1,4,9,2,4,3,4,3,2,5,3,4,6]\n",
        "z=[6,7,8]\n",
        "y=set(x)\n",
        "print(y)\n",
        "y.pop()\n",
        "\n",
        "print(y)"
      ],
      "execution_count": null,
      "outputs": [
        {
          "output_type": "stream",
          "text": [
            "{1, 2, 3, 4, 5, 6, 9}\n",
            "{2, 3, 4, 5, 6, 9}\n"
          ],
          "name": "stdout"
        }
      ]
    },
    {
      "cell_type": "markdown",
      "metadata": {
        "id": "3RcCbZMJSMyM"
      },
      "source": [
        "Note :In case of sets, first element gets popped and in case of LISTS, last element gets popped."
      ]
    },
    {
      "cell_type": "code",
      "metadata": {
        "id": "MM-TQtPRSMyM",
        "outputId": "1c92226b-56e1-493c-cc29-90b9a869dea0"
      },
      "source": [
        "#finding common elements (intersection)\n",
        "\n",
        "employees = set([\"Rahul\", \"Rony\", \"Bhuvan\"])\n",
        "gym_members = set([\"Sona\", \"Chandni\", \"Kapil\", \"Rahul\"])\n",
        "developers = set([\"Rahul\",\"Vim\",\"Sona\"])\n",
        "\n",
        "#Intersection\n",
        "result=employees & developers & gym_members #Quickest method\n",
        "print(result)\n",
        "\n",
        "#or\n",
        "\n",
        "result=employees.intersection(developers,gym_members)\n",
        "print(result)\n",
        "\n",
        "\n",
        "\n"
      ],
      "execution_count": null,
      "outputs": [
        {
          "output_type": "stream",
          "text": [
            "{'Rahul'}\n",
            "{'Rahul'}\n"
          ],
          "name": "stdout"
        }
      ]
    },
    {
      "cell_type": "code",
      "metadata": {
        "id": "p-3YMy15SMyN",
        "outputId": "c210e46c-d23f-4b1d-8f98-286cb1bf3189"
      },
      "source": [
        "#finding Union\n",
        "#note: duplicates are omitted\n",
        "employees = set([\"Rahul\", \"Rony\", \"Bhuvan\"])\n",
        "gym_members = set([\"Sona\", \"Chandni\", \"Kapil\", \"Rahul\"])\n",
        "developers = set([\"Rahul\",\"Vim\",\"Sona\"])\n",
        "\n",
        "#Intersection\n",
        "result=employees | developers | gym_members #Quickest method\n",
        "print(result)\n",
        "\n",
        "#or\n",
        "\n",
        "result=employees.union(developers,gym_members)\n",
        "print(result)"
      ],
      "execution_count": null,
      "outputs": [
        {
          "output_type": "stream",
          "text": [
            "{'Rony', 'Chandni', 'Kapil', 'Sona', 'Bhuvan', 'Rahul', 'Vim'}\n",
            "{'Rony', 'Chandni', 'Kapil', 'Sona', 'Bhuvan', 'Rahul', 'Vim'}\n"
          ],
          "name": "stdout"
        }
      ]
    },
    {
      "cell_type": "code",
      "metadata": {
        "id": "z2tTXnTcSMyN",
        "outputId": "924694f7-98d2-483f-fd35-6cd7e9b944c4"
      },
      "source": [
        "#finding difference\n",
        "\n",
        "employees = set([\"Rahul\", \"Rony\", \"Bhuvan\"])\n",
        "gym_members = set([\"Sona\", \"Chandni\", \"Kapil\", \"Rahul\"])\n",
        "developers = set([\"Rahul\",\"Vim\",\"Sona\"])\n",
        "\n",
        "#Intersection\n",
        "result=employees - developers#Quickest method\n",
        "print(result)\n",
        "\n",
        "#or\n",
        "\n",
        "result=employees.difference(developers)\n",
        "print(result)"
      ],
      "execution_count": null,
      "outputs": [
        {
          "output_type": "stream",
          "text": [
            "{'Rony', 'Bhuvan'}\n",
            "{'Rony', 'Bhuvan'}\n"
          ],
          "name": "stdout"
        }
      ]
    },
    {
      "cell_type": "code",
      "metadata": {
        "id": "3I-K3fpwSMyN",
        "outputId": "4f5b9b66-099d-45c6-d116-0983e4a23cc9"
      },
      "source": [
        "#finding difference part2\n",
        "\n",
        "employees = set([\"Rahul\", \"Rony\", \"Bhuvan\"])\n",
        "gym_members = set([\"Sona\", \"Chandni\", \"Kapil\", \"Rahul\"])\n",
        "developers = set([\"Rahul\",\"Vim\",\"Sona\"])\n",
        "\n",
        "#Intersection\n",
        "result=developers-employees-gym_members#Quickest method\n",
        "print(result)\n",
        "\n",
        "#or\n",
        "\n",
        "#result=employees.difference(developers)\n",
        "#print(result)"
      ],
      "execution_count": null,
      "outputs": [
        {
          "output_type": "stream",
          "text": [
            "{'Vim'}\n"
          ],
          "name": "stdout"
        }
      ]
    },
    {
      "cell_type": "code",
      "metadata": {
        "id": "CDvdhxdiSMyN",
        "outputId": "f512e50f-e800-4d11-fe8b-642b0ce620f8"
      },
      "source": [
        "#Symmetric difference gives the uncommon elements\n",
        "employees = set([\"Rahul\", \"Rony\", \"Bhuvan\"])\n",
        "gym_members = set([\"Sona\", \"Chandni\", \"Kapil\", \"Rahul\"])\n",
        "developers = set([\"Rahul\",\"Vim\",\"Sona\"])\n",
        "result= developers^employees^gym_members\n",
        "print(result)\n",
        "\n",
        "result=developers.symmetric_difference(employees)\n",
        "# note:symmetric_difference() function takes exactly one argument, using operators we can do three arguments\n",
        "print(result)"
      ],
      "execution_count": null,
      "outputs": [
        {
          "output_type": "stream",
          "text": [
            "{'Rony', 'Chandni', 'Kapil', 'Bhuvan', 'Rahul', 'Vim'}\n",
            "{'Rony', 'Sona', 'Bhuvan', 'Vim'}\n"
          ],
          "name": "stdout"
        }
      ]
    },
    {
      "cell_type": "code",
      "metadata": {
        "id": "Zi3DGTo0SMyN",
        "outputId": "232509d4-064e-4061-efea-06d232b29d16"
      },
      "source": [
        "#superset and subset\n",
        "\n",
        "set_1 = {1,2,3,4,5,6,7,8,9,10,1,1,1,11,1}\n",
        "set_2 = {2,3,4}\n",
        "print(set_2 <=set_1)#Checking if set_1 is a superset of set_2 i.e if set_2 is a subset of set_1\n",
        "print(set_2 >=set_1)#Checking if set_2 is a superset of set_1 i.e if set_1 is a subset of set_2\n",
        "\n",
        "# <= means subset\n",
        "# >= means superset"
      ],
      "execution_count": null,
      "outputs": [
        {
          "output_type": "stream",
          "text": [
            "True\n",
            "False\n"
          ],
          "name": "stdout"
        }
      ]
    },
    {
      "cell_type": "code",
      "metadata": {
        "id": "2_6wGAAySMyO",
        "outputId": "3f9e4c6f-2829-425e-8d50-212874e2bab4"
      },
      "source": [
        "#dictionary\n",
        "\n",
        "mySubjects = {\n",
        "    'English' : 99,\n",
        "    'Physics' : 95,\n",
        "    'Maths' : 90\n",
        "}\n",
        "print(mySubjects)\n",
        "print(mySubjects['English'])\n",
        "print(mySubjects['Physics'])\n",
        "#Suppose the element we try to access is not present in the dictionary, we get an error. See below\n",
        "print(mySubjects['Chemistry'])"
      ],
      "execution_count": null,
      "outputs": [
        {
          "output_type": "stream",
          "text": [
            "{'English': 99, 'Physics': 95, 'Maths': 90}\n",
            "99\n",
            "95\n"
          ],
          "name": "stdout"
        },
        {
          "output_type": "error",
          "ename": "KeyError",
          "evalue": "'Chemistry'",
          "traceback": [
            "\u001b[1;31m---------------------------------------------------------------------------\u001b[0m",
            "\u001b[1;31mKeyError\u001b[0m                                  Traceback (most recent call last)",
            "\u001b[1;32m<ipython-input-50-c6ffc0301975>\u001b[0m in \u001b[0;36m<module>\u001b[1;34m\u001b[0m\n\u001b[0;32m     10\u001b[0m \u001b[0mprint\u001b[0m\u001b[1;33m(\u001b[0m\u001b[0mmySubjects\u001b[0m\u001b[1;33m[\u001b[0m\u001b[1;34m'Physics'\u001b[0m\u001b[1;33m]\u001b[0m\u001b[1;33m)\u001b[0m\u001b[1;33m\u001b[0m\u001b[1;33m\u001b[0m\u001b[0m\n\u001b[0;32m     11\u001b[0m \u001b[1;31m#Suppose the element we try to access is not present in the dictionary, we get an error. See below\u001b[0m\u001b[1;33m\u001b[0m\u001b[1;33m\u001b[0m\u001b[1;33m\u001b[0m\u001b[0m\n\u001b[1;32m---> 12\u001b[1;33m \u001b[0mprint\u001b[0m\u001b[1;33m(\u001b[0m\u001b[0mmySubjects\u001b[0m\u001b[1;33m[\u001b[0m\u001b[1;34m'Chemistry'\u001b[0m\u001b[1;33m]\u001b[0m\u001b[1;33m)\u001b[0m\u001b[1;33m\u001b[0m\u001b[1;33m\u001b[0m\u001b[0m\n\u001b[0m",
            "\u001b[1;31mKeyError\u001b[0m: 'Chemistry'"
          ]
        }
      ]
    },
    {
      "cell_type": "code",
      "metadata": {
        "id": "3DwUxZgdSMyO",
        "outputId": "be19179e-59f9-4bbd-f17c-0f278adab671"
      },
      "source": [
        "#To mitigate this issue, we use the get() method in which we can also give custom messages\n",
        "print(mySubjects.get('Chemistry'))"
      ],
      "execution_count": null,
      "outputs": [
        {
          "output_type": "stream",
          "text": [
            "None\n"
          ],
          "name": "stdout"
        }
      ]
    },
    {
      "cell_type": "code",
      "metadata": {
        "id": "f7mrBawpSMyO",
        "outputId": "7474c35d-3115-4e04-ad1b-d9d33f24b4f4"
      },
      "source": [
        "#Giving custom messages\n",
        "print(mySubjects.get('Chemistry','Not present'))"
      ],
      "execution_count": null,
      "outputs": [
        {
          "output_type": "stream",
          "text": [
            "Not present\n"
          ],
          "name": "stdout"
        }
      ]
    },
    {
      "cell_type": "code",
      "metadata": {
        "id": "N06cOBcaSMyO",
        "outputId": "74733b29-7a5b-4e87-def7-5c92773a21f7"
      },
      "source": [
        "x=[1,2,3,4,4,1,1,2]\n",
        "counter = {}#dict\n",
        "for i in x:\n",
        "    counter[i]=0\n",
        "for i in x:\n",
        "    counter[i]+=1\n",
        "    \n",
        "print(counter)"
      ],
      "execution_count": null,
      "outputs": [
        {
          "output_type": "stream",
          "text": [
            "{1: 3, 2: 2, 3: 1, 4: 2}\n"
          ],
          "name": "stdout"
        }
      ]
    },
    {
      "cell_type": "code",
      "metadata": {
        "id": "r7w28L5BSMyO",
        "outputId": "87bdd2f2-9b5e-4264-c928-bbdd45ae0d20"
      },
      "source": [
        "mySubjects = {\n",
        "    'English' : 99,\n",
        "    'Physics' : 95,\n",
        "    'Maths' : 90,\n",
        "    'aaaa':30\n",
        "}\n",
        "for i,j in mySubjects.items():\n",
        "    print(i,j)\n",
        "    if j<=35:\n",
        "        print(i)"
      ],
      "execution_count": null,
      "outputs": [
        {
          "output_type": "stream",
          "text": [
            "English 99\n",
            "Physics 95\n",
            "Maths 90\n",
            "aaaa 30\n",
            "aaaa\n"
          ],
          "name": "stdout"
        }
      ]
    },
    {
      "cell_type": "code",
      "metadata": {
        "id": "3sUw7R1iSMyP",
        "outputId": "f5287895-b770-4da7-f1ef-918068b91e96"
      },
      "source": [
        "#printing the keys\n",
        "print(mySubjects.keys())\n",
        "#printing the values\n",
        "print(mySubjects.values())"
      ],
      "execution_count": null,
      "outputs": [
        {
          "output_type": "stream",
          "text": [
            "dict_keys(['English', 'Physics', 'Maths', 'aaaa'])\n",
            "dict_values([99, 95, 90, 30])\n"
          ],
          "name": "stdout"
        }
      ]
    },
    {
      "cell_type": "markdown",
      "metadata": {
        "id": "bT4MLG9ASMyP"
      },
      "source": [
        "Keys should be unique. If keys are repeated, we will get the latest value of that particular key in the output"
      ]
    },
    {
      "cell_type": "code",
      "metadata": {
        "id": "QAljwc9jSMyP",
        "outputId": "5be154c1-57ab-4058-c0cd-ab5f091597e0"
      },
      "source": [
        "mySubjects = {\n",
        "    'English' : 99,\n",
        "    'Physics' : 95,\n",
        "    'Maths' : 90,\n",
        "    'Physics':85\n",
        "}\n",
        "for i,j in mySubjects.items():\n",
        "    print(i,j)"
      ],
      "execution_count": null,
      "outputs": [
        {
          "output_type": "stream",
          "text": [
            "English 99\n",
            "Physics 85\n",
            "Maths 90\n"
          ],
          "name": "stdout"
        }
      ]
    },
    {
      "cell_type": "markdown",
      "metadata": {
        "id": "-PAiEjPESMyP"
      },
      "source": [
        "Since the key \"Physics\" is repeated in the above example, we are getting the latest value of \"Physics\" that is 85 and not 95"
      ]
    },
    {
      "cell_type": "code",
      "metadata": {
        "id": "MyymvkZmSMyP",
        "outputId": "65919d7f-2b2e-4e07-bbc0-de0fd411d462"
      },
      "source": [
        "#We can change the value associated with a key, but we cannot change the keys\n",
        "mySubjects = {\n",
        "    'English' : 99,\n",
        "    'Physics' : 95,\n",
        "    'Maths' : 90,\n",
        "    'Physics':85\n",
        "}\n",
        "mySubjects['English']=100\n",
        "print(mySubjects['English'])"
      ],
      "execution_count": null,
      "outputs": [
        {
          "output_type": "stream",
          "text": [
            "100\n"
          ],
          "name": "stdout"
        }
      ]
    },
    {
      "cell_type": "code",
      "metadata": {
        "id": "523W6w1mSMyQ",
        "outputId": "8e45c4ef-1060-41ec-fef4-66f861655d31"
      },
      "source": [
        "#We can also append a new key: value pair to the dictionary\n",
        "mySubjects = {\n",
        "    'English' : 99,\n",
        "    'Physics' : 95,\n",
        "    'Maths' : 90\n",
        "}\n",
        "mySubjects['Science']=97\n",
        "for i,j in mySubjects.items():\n",
        "    print(i,j)"
      ],
      "execution_count": null,
      "outputs": [
        {
          "output_type": "stream",
          "text": [
            "English 99\n",
            "Physics 95\n",
            "Maths 90\n",
            "Science 97\n"
          ],
          "name": "stdout"
        }
      ]
    },
    {
      "cell_type": "code",
      "metadata": {
        "id": "a4A7iDbSSMyQ",
        "outputId": "e7708552-b5e4-4e6c-dcfe-810dae34cbd7"
      },
      "source": [
        "#Updating values\n",
        "mySubjects = {\n",
        "    'English' : 99,\n",
        "    'Physics' : 95,\n",
        "    'Maths' : 90,\n",
        "    'Science' : 100\n",
        "}\n",
        "mySubjects.update({'Science':97})\n",
        "print(mySubjects)"
      ],
      "execution_count": null,
      "outputs": [
        {
          "output_type": "stream",
          "text": [
            "{'English': 99, 'Physics': 95, 'Maths': 90, 'Science': 97}\n"
          ],
          "name": "stdout"
        }
      ]
    },
    {
      "cell_type": "code",
      "metadata": {
        "id": "HRclYRQaSMyQ",
        "outputId": "1012cd07-0c7f-4149-bc7f-45e4d0328199"
      },
      "source": [
        "#Updating values(faster method)\n",
        "mySubjects = {\n",
        "    'English' : 99,\n",
        "    'Physics' : 95,\n",
        "    'Maths' : 90,\n",
        "    'Science' : 100\n",
        "}\n",
        "mySubjects['Science']=97\n",
        "print(mySubjects)\n",
        "\n",
        "#note : operators are always faster than functions"
      ],
      "execution_count": null,
      "outputs": [
        {
          "output_type": "stream",
          "text": [
            "{'English': 99, 'Physics': 95, 'Maths': 90, 'Science': 97}\n"
          ],
          "name": "stdout"
        }
      ]
    },
    {
      "cell_type": "code",
      "metadata": {
        "id": "oZf6ZsWjSMyQ",
        "outputId": "72fcdd45-5fb8-4788-9f9c-d216522f3bdf"
      },
      "source": [
        "#Deleting elements from a dictionary\n",
        "mySubjects = {\n",
        "    'English' : 99,\n",
        "    'Physics' : 95,\n",
        "    'Maths' : 90,\n",
        "    'Science' : 100\n",
        "}\n",
        "marks=mySubjects.pop('Science')\n",
        "print(marks)\n",
        "print(mySubjects)"
      ],
      "execution_count": null,
      "outputs": [
        {
          "output_type": "stream",
          "text": [
            "100\n",
            "{'English': 99, 'Physics': 95, 'Maths': 90}\n"
          ],
          "name": "stdout"
        }
      ]
    },
    {
      "cell_type": "code",
      "metadata": {
        "id": "r9El1S0USMyQ",
        "outputId": "960ecbe3-d8f3-420d-de64-77f9d6bd7645"
      },
      "source": [
        "mySubjects = {\n",
        "    'English' : 99,\n",
        "    'Physics' : 95,\n",
        "    'Maths' : 90,\n",
        "    'Science' : 100\n",
        "}\n",
        "print(mySubjects.items())#returns the items as a tuple"
      ],
      "execution_count": null,
      "outputs": [
        {
          "output_type": "stream",
          "text": [
            "dict_items([('English', 99), ('Physics', 95), ('Maths', 90), ('Science', 100)])\n"
          ],
          "name": "stdout"
        }
      ]
    },
    {
      "cell_type": "code",
      "metadata": {
        "id": "mVs0azSVSMyR",
        "outputId": "f314b77d-45bb-4403-a466-c89d2af75734"
      },
      "source": [
        "#Nested Dictionary\n",
        "#JSON\n",
        "\n",
        "officeInfo = {\n",
        "    'Boss' : {\n",
        "        'Name' : \"Elon Musk\",\n",
        "        'Occupation' : 'CEO',\n",
        "        'Age' : 50\n",
        "    },\n",
        "    'Employee' : {\n",
        "        'Name' : \"Paul\",\n",
        "        'Info' : ['My name', 'OK', 'Dokie']\n",
        "    }\n",
        "}\n",
        "print(officeInfo['Employee']['Info'])"
      ],
      "execution_count": null,
      "outputs": [
        {
          "output_type": "stream",
          "text": [
            "['My name', 'OK', 'Dokie']\n"
          ],
          "name": "stdout"
        }
      ]
    },
    {
      "cell_type": "code",
      "metadata": {
        "id": "0fYTmt_0SMyR",
        "outputId": "379f62fd-a636-4f89-9283-e9571218193b"
      },
      "source": [
        "#Dictionary (Hash map in Java)\n",
        "#key:value\n",
        "mydictionary={}\n",
        "mydictionary['Paul']='92'\n",
        "mydictionary['Jay']='90'\n",
        "mydictionary"
      ],
      "execution_count": null,
      "outputs": [
        {
          "output_type": "execute_result",
          "data": {
            "text/plain": [
              "{'Paul': '92', 'Jay': '90'}"
            ]
          },
          "metadata": {
            "tags": []
          },
          "execution_count": 135
        }
      ]
    },
    {
      "cell_type": "code",
      "metadata": {
        "id": "PjMTs-u3SMyR",
        "outputId": "6fe25bc1-68f1-4936-be78-16f651d9c59a"
      },
      "source": [
        "mydictionary['Jay']"
      ],
      "execution_count": null,
      "outputs": [
        {
          "output_type": "execute_result",
          "data": {
            "text/plain": [
              "'90'"
            ]
          },
          "metadata": {
            "tags": []
          },
          "execution_count": 136
        }
      ]
    },
    {
      "cell_type": "code",
      "metadata": {
        "id": "WBP-GMMISMyR",
        "outputId": "daf29ed6-8992-415f-a848-4703f55bbecf"
      },
      "source": [
        "mydictionary['Paul']"
      ],
      "execution_count": null,
      "outputs": [
        {
          "output_type": "execute_result",
          "data": {
            "text/plain": [
              "'92'"
            ]
          },
          "metadata": {
            "tags": []
          },
          "execution_count": 137
        }
      ]
    },
    {
      "cell_type": "code",
      "metadata": {
        "id": "R0lGH-HNSMyS",
        "outputId": "f31b637a-7f90-40bf-c33d-fb8b555f1e37"
      },
      "source": [
        "mydictionary.keys()"
      ],
      "execution_count": null,
      "outputs": [
        {
          "output_type": "execute_result",
          "data": {
            "text/plain": [
              "dict_keys(['Paul', 'Jay'])"
            ]
          },
          "metadata": {
            "tags": []
          },
          "execution_count": 138
        }
      ]
    },
    {
      "cell_type": "code",
      "metadata": {
        "id": "m-YHWUGMSMyS",
        "outputId": "3203a76f-2d0a-4f1f-af46-abad8adf8d40"
      },
      "source": [
        "mydictionary.values()"
      ],
      "execution_count": null,
      "outputs": [
        {
          "output_type": "execute_result",
          "data": {
            "text/plain": [
              "dict_values(['92', '90'])"
            ]
          },
          "metadata": {
            "tags": []
          },
          "execution_count": 139
        }
      ]
    },
    {
      "cell_type": "markdown",
      "metadata": {
        "id": "oioFF9LMSMyS"
      },
      "source": [
        "# Day5"
      ]
    },
    {
      "cell_type": "markdown",
      "metadata": {
        "id": "xcex4VTVSMyS"
      },
      "source": [
        "Continuing string functions from Day 2"
      ]
    },
    {
      "cell_type": "code",
      "metadata": {
        "id": "4ivVeoM8SMyS",
        "outputId": "824736de-39ba-45b0-ae4a-194630241aba"
      },
      "source": [
        "#Count()\n",
        "#Note: Works only on strings\n",
        "s2='nine nine one nine two three'\n",
        "s1='nine'\n",
        "s2.count(s1)"
      ],
      "execution_count": null,
      "outputs": [
        {
          "output_type": "execute_result",
          "data": {
            "text/plain": [
              "3"
            ]
          },
          "metadata": {
            "tags": []
          },
          "execution_count": 140
        }
      ]
    },
    {
      "cell_type": "code",
      "metadata": {
        "id": "KS201CN2SMyT",
        "outputId": "986b2cb5-33fc-415b-805b-b4e5e9789e5b"
      },
      "source": [
        "s2.count('i')#Single letters"
      ],
      "execution_count": null,
      "outputs": [
        {
          "output_type": "execute_result",
          "data": {
            "text/plain": [
              "3"
            ]
          },
          "metadata": {
            "tags": []
          },
          "execution_count": 141
        }
      ]
    },
    {
      "cell_type": "code",
      "metadata": {
        "id": "pNwRzzKySMyT",
        "outputId": "bb72984e-2065-4946-b5cf-d49f74b5cdc5"
      },
      "source": [
        "s2.count('e')#Single letters"
      ],
      "execution_count": null,
      "outputs": [
        {
          "output_type": "execute_result",
          "data": {
            "text/plain": [
              "6"
            ]
          },
          "metadata": {
            "tags": []
          },
          "execution_count": 142
        }
      ]
    },
    {
      "cell_type": "code",
      "metadata": {
        "id": "3Ps7qwj1SMyT",
        "outputId": "9ca712a9-75f3-4534-a67f-695caf08b38c"
      },
      "source": [
        "#find()\n",
        "#returns only the starting index\n",
        "#Find the first occurrence of string S1 in string S2\n",
        "s2='nine nine one nine two three'\n",
        "s1='nine'\n",
        "s2.find('one')"
      ],
      "execution_count": null,
      "outputs": [
        {
          "output_type": "execute_result",
          "data": {
            "text/plain": [
              "10"
            ]
          },
          "metadata": {
            "tags": []
          },
          "execution_count": 143
        }
      ]
    },
    {
      "cell_type": "code",
      "metadata": {
        "id": "Wi-QHnA6SMyU",
        "outputId": "5fd9d0e8-d57e-45a7-8833-2fc7f921360e"
      },
      "source": [
        "#If the string is not present in the given string, this function returns -1\n",
        "s2.find('ten')"
      ],
      "execution_count": null,
      "outputs": [
        {
          "output_type": "execute_result",
          "data": {
            "text/plain": [
              "-1"
            ]
          },
          "metadata": {
            "tags": []
          },
          "execution_count": 144
        }
      ]
    },
    {
      "cell_type": "code",
      "metadata": {
        "id": "Kaj8bMTDSMyX",
        "outputId": "ea61ac2c-e158-4433-afe6-771fd227e359"
      },
      "source": [
        "#Always returns only the beginning index of the first occurrence of the string\n",
        "s2.find('nine')"
      ],
      "execution_count": null,
      "outputs": [
        {
          "output_type": "execute_result",
          "data": {
            "text/plain": [
              "0"
            ]
          },
          "metadata": {
            "tags": []
          },
          "execution_count": 145
        }
      ]
    },
    {
      "cell_type": "code",
      "metadata": {
        "id": "89VOcnnJSMyY",
        "outputId": "56220794-da8c-4185-a0e7-aa5dc2ec98c6"
      },
      "source": [
        "s2.find('nine',3)# if we give an index also, it starts searching from the particular index(including)"
      ],
      "execution_count": null,
      "outputs": [
        {
          "output_type": "execute_result",
          "data": {
            "text/plain": [
              "5"
            ]
          },
          "metadata": {
            "tags": []
          },
          "execution_count": 146
        }
      ]
    },
    {
      "cell_type": "code",
      "metadata": {
        "id": "X6_RbbDUSMyY",
        "outputId": "ba167505-f7d0-46cc-8456-7d468bcf0e40"
      },
      "source": [
        "s2.find('nine',10)"
      ],
      "execution_count": null,
      "outputs": [
        {
          "output_type": "execute_result",
          "data": {
            "text/plain": [
              "14"
            ]
          },
          "metadata": {
            "tags": []
          },
          "execution_count": 147
        }
      ]
    },
    {
      "cell_type": "markdown",
      "metadata": {
        "id": "xXI97TdYSMyY"
      },
      "source": [
        "#replace()\n",
        "#Replace all occurrences of string s1 with a string s2 in a string s\n",
        "#But it is not an inplace replacement, meaning it creates a copy of the string and does the replacement\n",
        "in that string. \n",
        "The original string remains unaltered\n",
        "\n",
        "To replace the original string, assign it to the same variable"
      ]
    },
    {
      "cell_type": "code",
      "metadata": {
        "id": "J8kWIqfkSMyY",
        "outputId": "7b55de93-6fa6-4ecb-825b-7d22a7dc4e0d"
      },
      "source": [
        "s='YAY! I love Python'\n",
        "s.replace('YAY',\"Hurray\")#To replace YAY with Hurray. Note this isn't inplace"
      ],
      "execution_count": null,
      "outputs": [
        {
          "output_type": "execute_result",
          "data": {
            "text/plain": [
              "'Hurray! I love Python'"
            ]
          },
          "metadata": {
            "tags": []
          },
          "execution_count": 148
        }
      ]
    },
    {
      "cell_type": "code",
      "metadata": {
        "id": "Mm-pV_7hSMyZ",
        "outputId": "4b5e024b-235f-46b1-edf0-3fe6787b314f"
      },
      "source": [
        "print(s)#Note this isn't inplace and the original string remains unaltered"
      ],
      "execution_count": null,
      "outputs": [
        {
          "output_type": "stream",
          "text": [
            "YAY! I love Python\n"
          ],
          "name": "stdout"
        }
      ]
    },
    {
      "cell_type": "code",
      "metadata": {
        "id": "N1BEL7OCSMya",
        "outputId": "77f1c4a7-c9b1-4b06-a962-0e45537e5bd0"
      },
      "source": [
        "#To replace the original string, assign it to the same variable\n",
        "s='YAY! I love Python'\n",
        "s=s.replace('YAY',\"Hurray\")\n",
        "print(s)"
      ],
      "execution_count": null,
      "outputs": [
        {
          "output_type": "stream",
          "text": [
            "Hurray! I love Python\n"
          ],
          "name": "stdout"
        }
      ]
    },
    {
      "cell_type": "code",
      "metadata": {
        "id": "IzyGQgmrSMya",
        "outputId": "49808d2c-8f65-4be0-8b92-2def8966a30f"
      },
      "source": [
        "#Immutability of Strings\n",
        "#If we try to do the previous replacement by slicing, we get an error. See below\n",
        "#Eg 1\n",
        "s='YAY! I love Python'\n",
        "s[0:3]='Hurray'"
      ],
      "execution_count": null,
      "outputs": [
        {
          "output_type": "error",
          "ename": "TypeError",
          "evalue": "'str' object does not support item assignment",
          "traceback": [
            "\u001b[1;31m---------------------------------------------------------------------------\u001b[0m",
            "\u001b[1;31mTypeError\u001b[0m                                 Traceback (most recent call last)",
            "\u001b[1;32m<ipython-input-152-ad2ce21f2027>\u001b[0m in \u001b[0;36m<module>\u001b[1;34m\u001b[0m\n\u001b[0;32m      2\u001b[0m \u001b[1;31m#If we try to do the previous replacement by slicing, we get an error. See below\u001b[0m\u001b[1;33m\u001b[0m\u001b[1;33m\u001b[0m\u001b[1;33m\u001b[0m\u001b[0m\n\u001b[0;32m      3\u001b[0m \u001b[0ms\u001b[0m\u001b[1;33m=\u001b[0m\u001b[1;34m'YAY! I love Python'\u001b[0m\u001b[1;33m\u001b[0m\u001b[1;33m\u001b[0m\u001b[0m\n\u001b[1;32m----> 4\u001b[1;33m \u001b[0ms\u001b[0m\u001b[1;33m[\u001b[0m\u001b[1;36m0\u001b[0m\u001b[1;33m:\u001b[0m\u001b[1;36m3\u001b[0m\u001b[1;33m]\u001b[0m\u001b[1;33m=\u001b[0m\u001b[1;34m'Hurray'\u001b[0m\u001b[1;33m\u001b[0m\u001b[1;33m\u001b[0m\u001b[0m\n\u001b[0m",
            "\u001b[1;31mTypeError\u001b[0m: 'str' object does not support item assignment"
          ]
        }
      ]
    },
    {
      "cell_type": "code",
      "metadata": {
        "id": "O5soq3r_SMyb",
        "outputId": "71ffbc61-0ec9-42ac-8559-4492ab1c229f"
      },
      "source": [
        "#Eg 2\n",
        "#Mutability of lists\n",
        "nums=[1,2,3,4,5]\n",
        "nums[0]=6\n",
        "nums"
      ],
      "execution_count": null,
      "outputs": [
        {
          "output_type": "execute_result",
          "data": {
            "text/plain": [
              "[6, 2, 3, 4, 5]"
            ]
          },
          "metadata": {
            "tags": []
          },
          "execution_count": 153
        }
      ]
    },
    {
      "cell_type": "code",
      "metadata": {
        "id": "5Eo2IpK5SMyb",
        "outputId": "163b09cb-223d-4c04-88f4-eee3c97c840c"
      },
      "source": [
        "s='one two three'\n",
        "s.replace('two','seven')"
      ],
      "execution_count": null,
      "outputs": [
        {
          "output_type": "execute_result",
          "data": {
            "text/plain": [
              "'one seven three'"
            ]
          },
          "metadata": {
            "tags": []
          },
          "execution_count": 154
        }
      ]
    },
    {
      "cell_type": "code",
      "metadata": {
        "id": "CGl7PBS3SMyc",
        "outputId": "d63ef950-6eb7-46c4-de6d-0c8625012c25"
      },
      "source": [
        "s[0:4]+\"seven\"+s[7:]"
      ],
      "execution_count": null,
      "outputs": [
        {
          "output_type": "execute_result",
          "data": {
            "text/plain": [
              "'one seven three'"
            ]
          },
          "metadata": {
            "tags": []
          },
          "execution_count": 156
        }
      ]
    },
    {
      "cell_type": "code",
      "metadata": {
        "id": "iLdhowV_SMyc",
        "outputId": "0a16dbeb-5f79-4f8c-a7fd-9cf57e96448b"
      },
      "source": [
        "s.replace('two','three',4)"
      ],
      "execution_count": null,
      "outputs": [
        {
          "output_type": "execute_result",
          "data": {
            "text/plain": [
              "'one three three'"
            ]
          },
          "metadata": {
            "tags": []
          },
          "execution_count": 157
        }
      ]
    },
    {
      "cell_type": "code",
      "metadata": {
        "id": "BjKC_upBSMyc",
        "outputId": "14af6dd9-68b9-4435-b72a-347042f66978"
      },
      "source": [
        "#Hands on Exercise(ONLY STRING FUNCTIONS)\n",
        "s='Royal Challengers Bangalore 2020'\n",
        "#Replace '2020' with 'in IPL 2020'\n",
        "s=s.replace('2020','in IPL 2020')\n",
        "print(s)"
      ],
      "execution_count": null,
      "outputs": [
        {
          "output_type": "stream",
          "text": [
            "Royal Challengers Bangalore in IPL 2020\n"
          ],
          "name": "stdout"
        }
      ]
    },
    {
      "cell_type": "code",
      "metadata": {
        "id": "sq0jnkHKSMyd",
        "outputId": "7b796ba7-2a53-4eb3-863a-a1a0aa6687aa"
      },
      "source": [
        "#Convert to uppercase\n",
        "s=s.upper()\n",
        "print(s)"
      ],
      "execution_count": null,
      "outputs": [
        {
          "output_type": "stream",
          "text": [
            "ROYAL CHALLENGERS BANGALORE IN IPL 2020\n"
          ],
          "name": "stdout"
        }
      ]
    },
    {
      "cell_type": "code",
      "metadata": {
        "id": "mvkneiBiSMyd",
        "outputId": "babcf05d-f144-4e51-b056-3d69392e7ae8"
      },
      "source": [
        "#count the number of vowels\n",
        "c=0\n",
        "for i in s:\n",
        "    if(i=='A' or i=='E' or  i=='I' or  i=='O' or  i=='U'):#ORif(i=='AEIOU'):\n",
        "        c=c+1\n",
        "print(c)"
      ],
      "execution_count": null,
      "outputs": [
        {
          "output_type": "stream",
          "text": [
            "11\n"
          ],
          "name": "stdout"
        }
      ]
    },
    {
      "cell_type": "code",
      "metadata": {
        "id": "wW4uIG9qSMyd"
      },
      "source": [
        "#OR\n",
        "#Using only "
      ],
      "execution_count": null,
      "outputs": []
    },
    {
      "cell_type": "code",
      "metadata": {
        "id": "PomJcbgnSMyd",
        "outputId": "72f71eee-f966-44fe-cdb8-818ca403706a"
      },
      "source": [
        "#Find the index of 'IPL'\n",
        "s.find('IPL')"
      ],
      "execution_count": null,
      "outputs": [
        {
          "output_type": "execute_result",
          "data": {
            "text/plain": [
              "31"
            ]
          },
          "metadata": {
            "tags": []
          },
          "execution_count": 168
        }
      ]
    },
    {
      "cell_type": "code",
      "metadata": {
        "id": "w-p96z-ESMyd",
        "outputId": "42a034ba-0428-430d-b66c-6adfc7825e40"
      },
      "source": [
        "#Find the index of the second occurrence of 'A'\n",
        "s.find('A',4)"
      ],
      "execution_count": null,
      "outputs": [
        {
          "output_type": "execute_result",
          "data": {
            "text/plain": [
              "8"
            ]
          },
          "metadata": {
            "tags": []
          },
          "execution_count": 169
        }
      ]
    },
    {
      "cell_type": "code",
      "metadata": {
        "id": "b5aRI0kVSMye",
        "outputId": "16cc60a5-ca2b-469a-d34d-42c6ce53d1e7"
      },
      "source": [
        "#Replace all spaces with '-'\n",
        "s.replace(' ','-')"
      ],
      "execution_count": null,
      "outputs": [
        {
          "output_type": "execute_result",
          "data": {
            "text/plain": [
              "'ROYAL-CHALLENGERS-BANGALORE-IN-IPL-2020'"
            ]
          },
          "metadata": {
            "tags": []
          },
          "execution_count": 170
        }
      ]
    },
    {
      "cell_type": "code",
      "metadata": {
        "id": "YSFUcUQGSMye",
        "outputId": "ec41b572-287e-46b1-80bd-4835ba7083c9"
      },
      "source": [
        "#Return the output of isalpha(), isdigit(), isalnum()\n",
        "print(s.isalpha())\n",
        "print(s.isdigit())\n",
        "print(s.isalnum())"
      ],
      "execution_count": null,
      "outputs": [
        {
          "output_type": "stream",
          "text": [
            "False\n",
            "False\n",
            "False\n"
          ],
          "name": "stdout"
        }
      ]
    },
    {
      "cell_type": "code",
      "metadata": {
        "id": "gVXrUUqVSMye",
        "outputId": "3afe93ab-ce82-4f87-f8c0-6b4572a3875c"
      },
      "source": [
        "s='ROYALCHALLENGERSBANGALOREINIPL2020'\n",
        "print(s.isalnum())#space is a special character hence we got false in the previous case\n",
        "s='ROYAL-CHALLENGERS-BANGALORE-IN-IPL-2020'\n",
        "print(s.isalnum())"
      ],
      "execution_count": null,
      "outputs": [
        {
          "output_type": "stream",
          "text": [
            "True\n",
            "False\n"
          ],
          "name": "stdout"
        }
      ]
    },
    {
      "cell_type": "markdown",
      "metadata": {
        "id": "UIvsQav7SMye"
      },
      "source": [
        "ITERATION or LOOPING"
      ]
    },
    {
      "cell_type": "markdown",
      "metadata": {
        "id": "NGUr91tDSMye"
      },
      "source": [
        "for LOOP\n",
        "\n",
        "Syntax : for < variable or element > in < iterable > :\n",
        "\n",
        "iterable= anything we can iterate on\n"
      ]
    },
    {
      "cell_type": "code",
      "metadata": {
        "id": "RWF6T3kvSMye",
        "outputId": "d1e3ced8-99a9-4973-8e81-6c0124b35230"
      },
      "source": [
        "#For Loop : String\n",
        "\n",
        "string1='Paul Alex'\n",
        "for character in string1:\n",
        "    print(character)"
      ],
      "execution_count": null,
      "outputs": [
        {
          "output_type": "stream",
          "text": [
            "P\n",
            "a\n",
            "u\n",
            "l\n",
            " \n",
            "A\n",
            "l\n",
            "e\n",
            "x\n"
          ],
          "name": "stdout"
        }
      ]
    },
    {
      "cell_type": "code",
      "metadata": {
        "id": "faNC_TgHSMyf",
        "outputId": "0e962f34-979c-4580-a163-7a75d3975363"
      },
      "source": [
        "#For Loop : String\n",
        "#count the number of digits\n",
        "string1='Paul Alex1233'\n",
        "c=0\n",
        "for character in string1:\n",
        "    if character.isdigit():\n",
        "        c=c+1\n",
        "print(c)"
      ],
      "execution_count": null,
      "outputs": [
        {
          "output_type": "stream",
          "text": [
            "4\n"
          ],
          "name": "stdout"
        }
      ]
    },
    {
      "cell_type": "code",
      "metadata": {
        "id": "rdY_-VOPSMyf",
        "outputId": "66837d91-ece3-4bdb-ced3-04da56a8522f"
      },
      "source": [
        "#count the number of digits\n",
        "#Just using count()\n",
        "\n",
        "c=0\n",
        "for number in range(0,10):#range creates a list \n",
        "    c+=string1.count(str(number))\n",
        "print(c)"
      ],
      "execution_count": null,
      "outputs": [
        {
          "output_type": "stream",
          "text": [
            "4\n"
          ],
          "name": "stdout"
        }
      ]
    },
    {
      "cell_type": "code",
      "metadata": {
        "id": "VUf5M48cSMyf",
        "outputId": "b768111e-9863-4d5d-c9c2-fb636fa8932f"
      },
      "source": [
        "#For Loop : Lists\n",
        "myshoppinglist=['Burger','Pizza','Pepsi']\n",
        "for i in myshoppinglist:\n",
        "    print(i)"
      ],
      "execution_count": null,
      "outputs": [
        {
          "output_type": "stream",
          "text": [
            "Burger\n",
            "Pizza\n",
            "Pepsi\n"
          ],
          "name": "stdout"
        }
      ]
    },
    {
      "cell_type": "code",
      "metadata": {
        "id": "15AfEoRcSMyf",
        "outputId": "de3f44d1-f1d4-49cd-fc0b-5ff3cdd2fb4d"
      },
      "source": [
        "#print marks greater than or equal to 75\n",
        "markslist=[47,92,97,56,66,63]\n",
        "for m in markslist:\n",
        "    if m>=75:\n",
        "        print(m)"
      ],
      "execution_count": null,
      "outputs": [
        {
          "output_type": "stream",
          "text": [
            "92\n",
            "97\n"
          ],
          "name": "stdout"
        }
      ]
    },
    {
      "cell_type": "code",
      "metadata": {
        "id": "MM51pOIjSMyf",
        "outputId": "03a25d30-e19d-4361-bd60-2394e34622fa"
      },
      "source": [
        "#printing 1-20\n",
        "for r in range(10,20+1):#Ending index is exclusive so we add+1 to get 20\n",
        "    print(r)"
      ],
      "execution_count": null,
      "outputs": [
        {
          "output_type": "stream",
          "text": [
            "10\n",
            "11\n",
            "12\n",
            "13\n",
            "14\n",
            "15\n",
            "16\n",
            "17\n",
            "18\n",
            "19\n",
            "20\n"
          ],
          "name": "stdout"
        }
      ]
    },
    {
      "cell_type": "code",
      "metadata": {
        "id": "pfXnEJg1SMyg",
        "outputId": "9e57858c-5fcb-420f-8ece-a5f9e329aae3"
      },
      "source": [
        "#printing even nos 1-20\n",
        "for r in range(0,20+1,2):#Ending index is exclusive so we add+1 to get 20\n",
        "    print(r)"
      ],
      "execution_count": null,
      "outputs": [
        {
          "output_type": "stream",
          "text": [
            "0\n",
            "2\n",
            "4\n",
            "6\n",
            "8\n",
            "10\n",
            "12\n",
            "14\n",
            "16\n",
            "18\n",
            "20\n"
          ],
          "name": "stdout"
        }
      ]
    },
    {
      "cell_type": "code",
      "metadata": {
        "id": "J99uUtimSMyg",
        "outputId": "02714261-9ef5-4ac3-db3c-4cfc8e56f022"
      },
      "source": [
        "#printing 1-10 in reverse\n",
        "for r in range(10,0,-1):#Ending index is exclusive so we add+1 to get 20\n",
        "    print(r)"
      ],
      "execution_count": null,
      "outputs": [
        {
          "output_type": "stream",
          "text": [
            "10\n",
            "9\n",
            "8\n",
            "7\n",
            "6\n",
            "5\n",
            "4\n",
            "3\n",
            "2\n",
            "1\n"
          ],
          "name": "stdout"
        }
      ]
    },
    {
      "cell_type": "code",
      "metadata": {
        "id": "AY8Vlu6ESMyg",
        "outputId": "ce15c091-04c8-46a6-b179-831ca953ed4f"
      },
      "source": [
        "Nums=[1,5,1,7,9]\n",
        "#Calculate the sum\n",
        "sum(nums)"
      ],
      "execution_count": null,
      "outputs": [
        {
          "output_type": "execute_result",
          "data": {
            "text/plain": [
              "20"
            ]
          },
          "metadata": {
            "tags": []
          },
          "execution_count": 191
        }
      ]
    },
    {
      "cell_type": "code",
      "metadata": {
        "id": "4FEKDjxkSMyg",
        "outputId": "46a0e571-5894-434d-c521-ce91f9a6a924"
      },
      "source": [
        "#raise each number to the power of 2\n",
        "raised_nums=list()\n",
        "for n in nums:\n",
        "    raised_nums.append(number**2)\n",
        "raised_nums"
      ],
      "execution_count": null,
      "outputs": [
        {
          "output_type": "execute_result",
          "data": {
            "text/plain": [
              "[81, 81, 81, 81, 81]"
            ]
          },
          "metadata": {
            "tags": []
          },
          "execution_count": 192
        }
      ]
    },
    {
      "cell_type": "code",
      "metadata": {
        "id": "K9o2-R3GSMyh",
        "outputId": "d6621034-943b-4781-fa5a-4fb428d47e11"
      },
      "source": [
        "#Hands on exercise 2\n",
        "#1\n",
        "nums=[32,-55,21,103,-17,-2,0,3]\n",
        "p=0\n",
        "n=0\n",
        "z=0\n",
        "for i in nums:\n",
        "    if i > 0:\n",
        "        p=p+1\n",
        "    elif i < 0:\n",
        "        n=n+1\n",
        "    else:\n",
        "        z=z+1\n",
        "print(\"positive : \"+str(p))\n",
        "print(\"negative : \"+str(n))\n",
        "print(\"zero : \"+str(z))\n",
        "        "
      ],
      "execution_count": null,
      "outputs": [
        {
          "output_type": "stream",
          "text": [
            "positive : 4\n",
            "negative : 3\n",
            "zero : 1\n"
          ],
          "name": "stdout"
        }
      ]
    },
    {
      "cell_type": "code",
      "metadata": {
        "id": "3oXP75wMSMyh",
        "outputId": "65b5f11c-4e87-4a8c-ec43-ee0673c96af9"
      },
      "source": [
        "#2\n",
        "priceOfitems=[40,100,25,20,15,35]\n",
        "qtyOfitems=[4,2,4,3,4,2]\n",
        "\n",
        "total=0\n",
        "for i in range(0,len(priceOfitems)):\n",
        "    print(i+1,priceOfitems[i],qtyOfitems[i],priceOfitems[i]*qtyOfitems[i])\n",
        "    total+=priceOfitems[i]*qtyOfitems[i]\n",
        "total"
      ],
      "execution_count": null,
      "outputs": [
        {
          "output_type": "stream",
          "text": [
            "1 40 4 160\n",
            "2 100 2 200\n",
            "3 25 4 100\n",
            "4 20 3 60\n",
            "5 15 4 60\n",
            "6 35 2 70\n"
          ],
          "name": "stdout"
        },
        {
          "output_type": "execute_result",
          "data": {
            "text/plain": [
              "650"
            ]
          },
          "metadata": {
            "tags": []
          },
          "execution_count": 199
        }
      ]
    },
    {
      "cell_type": "code",
      "metadata": {
        "id": "vV50o6b4SMyh"
      },
      "source": [
        "#While Loop\n",
        "#Syntax : while < condition >\n",
        "#          Task\n",
        "#        Updation\n"
      ],
      "execution_count": null,
      "outputs": []
    },
    {
      "cell_type": "code",
      "metadata": {
        "id": "95gbAq5lSMyh",
        "outputId": "49fac588-0861-4f03-f0e5-73481a0bd74b"
      },
      "source": [
        "i=1\n",
        "total=0\n",
        "while total<50:\n",
        "    print(i)\n",
        "    i=i+1\n",
        "    total=total+i    \n"
      ],
      "execution_count": null,
      "outputs": [
        {
          "output_type": "stream",
          "text": [
            "1\n",
            "2\n",
            "3\n",
            "4\n",
            "5\n",
            "6\n",
            "7\n",
            "8\n",
            "9\n"
          ],
          "name": "stdout"
        }
      ]
    },
    {
      "cell_type": "markdown",
      "metadata": {
        "id": "eK4CVzh0SMyh"
      },
      "source": [
        "Initialise a list called mylist as an empty list, i.e., muList=[]. Take input from the user continuously, until the user enters a negative number.\n",
        "for eg:\n",
        "User Input: 4  myList=[4]\n",
        "User Input: 10  myList=[4,10]\n",
        "User Input: 1  myList=[4,10,1]\n",
        "User Input: -7  Exits while loop\n",
        "\n",
        "Final myList=[4,10,1]"
      ]
    },
    {
      "cell_type": "code",
      "metadata": {
        "id": "7iO8WIQySMyh",
        "outputId": "a537a620-4802-47c0-a079-01dfa6363158"
      },
      "source": [
        "li=[]\n",
        "while 1:\n",
        "    a=int(input())\n",
        "    if a >=0:\n",
        "        li.append(a)\n",
        "        print(li)\n",
        "    else:\n",
        "        break\n",
        "print(\"Final myList = \"+str(li))"
      ],
      "execution_count": null,
      "outputs": [
        {
          "output_type": "stream",
          "text": [
            "4\n",
            "[4]\n",
            "10\n",
            "[4, 10]\n",
            "1\n",
            "[4, 10, 1]\n",
            "-7\n",
            "Final myList = [4, 10, 1]\n"
          ],
          "name": "stdout"
        }
      ]
    },
    {
      "cell_type": "markdown",
      "metadata": {
        "id": "HXLUpzdoSMyi"
      },
      "source": [
        "# Day 6"
      ]
    },
    {
      "cell_type": "code",
      "metadata": {
        "id": "14HGLDYNSMyi",
        "outputId": "d953fc60-a457-4a6b-970c-231b2e329cf7"
      },
      "source": [
        "numbers = {'one':1,'Two':2,'Three':3,'Four':9}\n",
        "print(f'Before:{numbers}')\n",
        "for i in numbers:\n",
        "    if i=='Four':\n",
        "        numbers[i]=4\n",
        "print(f'After : {numbers}')"
      ],
      "execution_count": null,
      "outputs": [
        {
          "output_type": "stream",
          "text": [
            "Before:{'one': 1, 'Two': 2, 'Three': 3, 'Four': 9}\n",
            "After : {'one': 1, 'Two': 2, 'Three': 3, 'Four': 4}\n"
          ],
          "name": "stdout"
        }
      ]
    },
    {
      "cell_type": "code",
      "metadata": {
        "id": "RXWiCc3vSMyi",
        "outputId": "a442eb3a-18e9-4a94-9c5d-9a74cec6ad55"
      },
      "source": [
        "numbers = {'a':1,'b':101,'c':-1,'d':5,'e':9999}\n",
        "print(f'Before:{numbers}')\n",
        "for i in numbers:\n",
        "    if (numbers[i]<=1)|(numbers[i]>=100):\n",
        "        numbers[i]=0\n",
        "print(f'After : {numbers}')"
      ],
      "execution_count": null,
      "outputs": [
        {
          "output_type": "stream",
          "text": [
            "Before:{'a': 1, 'b': 101, 'c': -1, 'd': 5, 'e': 9999}\n",
            "After : {'a': 0, 'b': 0, 'c': 0, 'd': 5, 'e': 0}\n"
          ],
          "name": "stdout"
        }
      ]
    },
    {
      "cell_type": "code",
      "metadata": {
        "id": "uf-65mS1SMyi",
        "outputId": "3e5d0235-426a-45ca-fbf5-9ff66106a6e3"
      },
      "source": [
        "#HandsOn\n",
        "#1Get the Key corresponding to the minimum value from the following dictionary:\n",
        "sampleDict ={\n",
        "    'Physics':91,\n",
        "    'Maths':82,\n",
        "    'History':63\n",
        "}\n",
        "sampleDict.keys()"
      ],
      "execution_count": null,
      "outputs": [
        {
          "output_type": "execute_result",
          "data": {
            "text/plain": [
              "dict_keys(['Physics', 'Maths', 'History'])"
            ]
          },
          "metadata": {
            "tags": []
          },
          "execution_count": 8
        }
      ]
    },
    {
      "cell_type": "code",
      "metadata": {
        "id": "ChDBc8GQSMyi",
        "outputId": "d930489f-6a54-44dc-c021-76ba0852daa9"
      },
      "source": [
        "min_marks=10000\n",
        "key_i=None\n",
        "for i in sampleDict:\n",
        "    if sampleDict[i]<min_marks:\n",
        "        min_marks=sampleDict[i]\n",
        "        key_i=i\n",
        "print(f'Method 1 : {key_i}')\n",
        "print(f'Method 2 : {min(sampleDict, key=sampleDict.get)}')\n",
        "#if we use just min(sampleDict), it will return the minimum \"Key\" according to alphabetical order    "
      ],
      "execution_count": null,
      "outputs": [
        {
          "output_type": "stream",
          "text": [
            "Method 1 : History\n",
            "Method 2 : History\n"
          ],
          "name": "stdout"
        }
      ]
    },
    {
      "cell_type": "code",
      "metadata": {
        "id": "S6MJiExDSMyj",
        "outputId": "3c9c528e-23d6-4170-970b-ceb9f3b6cfbd"
      },
      "source": [
        "#2. Given a dictionary, change \"Brad's\" Salary to 8500:\n",
        "sampleDict={\n",
        "    'emp1': {'name': 'John','salary': 7500},\n",
        "    'emp2': {'name': 'Emma','salary': 8000},\n",
        "    'emp3': {'name': 'Brad','salary': 6500},\n",
        "}\n",
        "sampleDict['emp3']['salary']=8500\n",
        "print(sampleDict)"
      ],
      "execution_count": null,
      "outputs": [
        {
          "output_type": "stream",
          "text": [
            "{'emp1': {'name': 'John', 'salary': 7500}, 'emp2': {'name': 'Emma', 'salary': 8000}, 'emp3': {'name': 'Brad', 'salary': 8500}}\n"
          ],
          "name": "stdout"
        }
      ]
    },
    {
      "cell_type": "code",
      "metadata": {
        "id": "JDR9yC2zSMyj"
      },
      "source": [
        " "
      ],
      "execution_count": null,
      "outputs": []
    },
    {
      "cell_type": "markdown",
      "metadata": {
        "id": "CI8sIyILSMyj"
      },
      "source": [
        "difference between == and is\n",
        "\n",
        "\"==\" checks for equality[equivalency operator]\n",
        "\"is\" checks for identity"
      ]
    },
    {
      "cell_type": "code",
      "metadata": {
        "id": "7ya5ezzCSMyj",
        "outputId": "81ea9b3d-2067-4546-aff3-0e0105aa000c"
      },
      "source": [
        "'pepsi'=='pepsi'#[True]\n"
      ],
      "execution_count": null,
      "outputs": [
        {
          "output_type": "execute_result",
          "data": {
            "text/plain": [
              "True"
            ]
          },
          "metadata": {
            "tags": []
          },
          "execution_count": 21
        }
      ]
    },
    {
      "cell_type": "code",
      "metadata": {
        "id": "OGdMQP_TSMyj",
        "outputId": "2604735d-8e16-49b0-9d05-90d514016cf2"
      },
      "source": [
        "'pepsi'=='7up'#[False]"
      ],
      "execution_count": null,
      "outputs": [
        {
          "output_type": "execute_result",
          "data": {
            "text/plain": [
              "False"
            ]
          },
          "metadata": {
            "tags": []
          },
          "execution_count": 22
        }
      ]
    },
    {
      "cell_type": "code",
      "metadata": {
        "id": "cuURqnuSSMyk"
      },
      "source": [
        "a='pepsi'\n",
        "b='pepsi'\n",
        "a is b#[False]\n",
        "#is checks for the memory address(memory location), hence we get false. We get true onle if memory addresss is same\n"
      ],
      "execution_count": null,
      "outputs": []
    },
    {
      "cell_type": "code",
      "metadata": {
        "id": "3U7BW0-5SMyk",
        "outputId": "42a68f25-594e-431d-a3d7-764ab443dbdc"
      },
      "source": [
        "l1=[1,2,3,4,5]\n",
        "l2=[1,2,3,4,5]\n",
        "print(l1==l2)\n",
        "print(l1 is l2)\n"
      ],
      "execution_count": null,
      "outputs": [
        {
          "output_type": "stream",
          "text": [
            "True\n",
            "False\n"
          ],
          "name": "stdout"
        }
      ]
    },
    {
      "cell_type": "code",
      "metadata": {
        "id": "mqWWnrivSMyk",
        "outputId": "747fb602-3fac-40af-fe43-4be57cfb7430"
      },
      "source": [
        "l1=[1,2,3,4,5]\n",
        "l2=l1\n",
        "l3=l1.copy()#address will be different for l3\n",
        "print(id(l1),id(l2),id(l3))#memory address\n",
        "print(l1==l2)\n",
        "print(l1==l3)#contents are same, hence true (== doesn't check for address)\n",
        "print(l1 is l2)#contents are same, memory address is also same, hence true \n",
        "print(l1 is l3)#contents are same, memory address is different, hence false "
      ],
      "execution_count": null,
      "outputs": [
        {
          "output_type": "stream",
          "text": [
            "2832726869320 2832726869320 2832726939272\n",
            "True\n",
            "True\n",
            "True\n",
            "False\n"
          ],
          "name": "stdout"
        }
      ]
    },
    {
      "cell_type": "markdown",
      "metadata": {
        "id": "VxB1afIPSMyl"
      },
      "source": [
        "Functions"
      ]
    },
    {
      "cell_type": "markdown",
      "metadata": {
        "id": "yjtJl7DrSMyl"
      },
      "source": [
        "#function naming\n",
        "#cases\n",
        "myIdentifier : Camel Case\n",
        "\n",
        "MyIdentifier : Pascal Case\n",
        "\n",
        "my_identifier : Snake Case(Common in Python)\n",
        "\n",
        "my-identifier : Kebab Case\n",
        "\n",
        "myidentifier : Flat Case\n",
        "\n",
        "MY_IDENTIFIER : Upper Case"
      ]
    },
    {
      "cell_type": "code",
      "metadata": {
        "id": "dnf0PLgCSMym",
        "outputId": "efc8cbbe-bb35-489c-b2e6-142bb9be859c"
      },
      "source": [
        "## A function performs a task or returns a value\n",
        "## Is is a reusable group of code(s)\n",
        "## Functions help us to keep our code 'Dry'.[Don't REPEAT the same things you've already done]\n",
        "\n",
        "\n",
        "#demonstrating the advantage of function\n",
        "print('Good Morning!')\n",
        "print('Good Morning!')\n",
        "print('Good Morning!')\n",
        "print('Good Morning!')\n",
        "print('Good Morning!')\n",
        "#here to make a change, we need to make the change in each print statement"
      ],
      "execution_count": null,
      "outputs": [
        {
          "output_type": "stream",
          "text": [
            "Good Morning!\n",
            "Good Morning!\n",
            "Good Morning!\n",
            "Good Morning!\n",
            "Good Morning!\n"
          ],
          "name": "stdout"
        }
      ]
    },
    {
      "cell_type": "code",
      "metadata": {
        "id": "n1Qr3z02SMym",
        "outputId": "43611b8c-fd34-43a9-97f3-be78f9f17a16"
      },
      "source": [
        "def greeting():\n",
        "    print('Good Morning')\n",
        "greeting()\n",
        "greeting()\n",
        "greeting()\n",
        "greeting()\n",
        "greeting()\n",
        "#here to make a change, we need to make the change only once and we can just call it multiple times"
      ],
      "execution_count": null,
      "outputs": [
        {
          "output_type": "stream",
          "text": [
            "Good Morning\n",
            "Good Morning\n",
            "Good Morning\n",
            "Good Morning\n",
            "Good Morning\n"
          ],
          "name": "stdout"
        }
      ]
    },
    {
      "cell_type": "markdown",
      "metadata": {
        "id": "-zqlD1oTSMym"
      },
      "source": [
        "Syntax\n",
        "\n",
        "def < function name >(arguments):"
      ]
    },
    {
      "cell_type": "code",
      "metadata": {
        "id": "TQ7ldCteSMyn",
        "outputId": "65db975f-4ddb-425a-f5f8-382fa4b5b205"
      },
      "source": [
        "#Explaining scope \n",
        "def greeting():\n",
        "    print('Good morning')\n",
        "    print('HeHe')\n",
        "    \n",
        "print('Hai')"
      ],
      "execution_count": null,
      "outputs": [
        {
          "output_type": "stream",
          "text": [
            "Hai\n"
          ],
          "name": "stdout"
        }
      ]
    },
    {
      "cell_type": "code",
      "metadata": {
        "id": "4ouEUb8kSMyn",
        "outputId": "e55ea16b-f5d3-473c-89fa-26e82051ef0a"
      },
      "source": [
        "greeting()"
      ],
      "execution_count": null,
      "outputs": [
        {
          "output_type": "stream",
          "text": [
            "Good morning\n",
            "HeHe\n"
          ],
          "name": "stdout"
        }
      ]
    },
    {
      "cell_type": "code",
      "metadata": {
        "id": "U5-zEqWBSMyn",
        "outputId": "9478c8ac-36b8-4f1b-a695-51528edd54c2"
      },
      "source": [
        "#returning\n",
        "def greeting():\n",
        "    return'Good morning'\n",
        "x=greeting()\n",
        "print(x)"
      ],
      "execution_count": null,
      "outputs": [
        {
          "output_type": "stream",
          "text": [
            "Good morning\n"
          ],
          "name": "stdout"
        }
      ]
    },
    {
      "cell_type": "code",
      "metadata": {
        "id": "yaJcOvFrSMyo",
        "outputId": "9fc554f4-4f59-462d-8a2b-75284aca1976"
      },
      "source": [
        "#returning2\n",
        "\n",
        "def greeting():\n",
        "    y=7\n",
        "    print(locals()['y'])\n",
        "    return f'Good morning,{y}'\n",
        "x=greeting()\n",
        "print(x)\n",
        "print(locals().get('y','NA'))#We're getting NA because y is localised to the function where its defined\n",
        "#print(y)#Will cause an error, because of scope\n"
      ],
      "execution_count": null,
      "outputs": [
        {
          "output_type": "stream",
          "text": [
            "7\n",
            "Good morning,7\n",
            "NA\n"
          ],
          "name": "stdout"
        }
      ]
    },
    {
      "cell_type": "code",
      "metadata": {
        "id": "njyAHr2uSMyo",
        "outputId": "b31139c6-2ce7-401a-bc1c-c6f18a74f4dd"
      },
      "source": [
        "#returning2\n",
        "y=7\n",
        "def greeting():\n",
        "    global y\n",
        "    y=8\n",
        "    return f'Good morning,{y}'\n",
        "print(y)\n",
        "print(greeting())\n",
        "print(locals().get('y','NA'))#Here we're getting the value of y and not \"NA\", since y is global"
      ],
      "execution_count": null,
      "outputs": [
        {
          "output_type": "stream",
          "text": [
            "7\n",
            "Good morning,8\n",
            "8\n"
          ],
          "name": "stdout"
        }
      ]
    },
    {
      "cell_type": "code",
      "metadata": {
        "id": "OPUSG1kuSMyo",
        "outputId": "96ffaa0b-508b-4042-e729-19d55d7bc564"
      },
      "source": [
        "#A trick in dictionary\n",
        "x={1:2,3:4,5:6}\n",
        "y={7:8,9:10,11:12}\n",
        "z={**x,**y}\n",
        "print(z)"
      ],
      "execution_count": null,
      "outputs": [
        {
          "output_type": "stream",
          "text": [
            "{1: 2, 3: 4, 5: 6, 7: 8, 9: 10, 11: 12}\n"
          ],
          "name": "stdout"
        }
      ]
    },
    {
      "cell_type": "code",
      "metadata": {
        "id": "Sv1L4ymFSMyo",
        "outputId": "1df8a07c-437d-4c66-f402-26b26e11e5a2"
      },
      "source": [
        "#keyword arguments\n",
        "def greetings(name):\n",
        "    return f'Hi, Good Morning {name}!'\n",
        "print(greetings('Rajib'))\n",
        "#greetings(' Rajib') is called function call"
      ],
      "execution_count": null,
      "outputs": [
        {
          "output_type": "stream",
          "text": [
            "Hi, Good Morning Rajib!\n"
          ],
          "name": "stdout"
        }
      ]
    },
    {
      "cell_type": "code",
      "metadata": {
        "id": "jLqnPYZ-SMyp",
        "outputId": "83ad97e2-993f-48d3-e72d-b664e36fb54e"
      },
      "source": [
        "def greetings(name='Rahul'):#giving default arguments.\n",
        "    \n",
        "    return f'Hi, Good Morning {name}!'\n",
        "print(greetings())\n"
      ],
      "execution_count": null,
      "outputs": [
        {
          "output_type": "stream",
          "text": [
            "Hi, Good Morning Rahul!\n"
          ],
          "name": "stdout"
        }
      ]
    },
    {
      "cell_type": "code",
      "metadata": {
        "id": "3-pVKZxwSMyp",
        "outputId": "50a52810-4c92-4fde-d91a-b9cd71c939f8"
      },
      "source": [
        "def greetings(name, title):\n",
        "    return f'Hi, Good Morning {name} {title}!'\n",
        "print(greetings('Paul', 'Student'))\n"
      ],
      "execution_count": null,
      "outputs": [
        {
          "output_type": "stream",
          "text": [
            "Hi, Good Morning Paul Student!\n"
          ],
          "name": "stdout"
        }
      ]
    },
    {
      "cell_type": "markdown",
      "metadata": {
        "id": "pboJxXmQSMyq"
      },
      "source": [
        "#Note : If you're giving default value for a paticular argument, the following arguments should also be given default values, or else we'll get an error. See below"
      ]
    },
    {
      "cell_type": "code",
      "metadata": {
        "id": "63b0uuuzSMyr",
        "outputId": "8ee99041-fe78-42cf-f031-0edc11de9fd5"
      },
      "source": [
        "def greetings(name, title='Student', age):\n",
        "    return f'Hi, Good Morning {name} {title} {age}!'\n",
        "print(greetings('Paul', 'Student', 21))"
      ],
      "execution_count": null,
      "outputs": [
        {
          "output_type": "error",
          "ename": "SyntaxError",
          "evalue": "non-default argument follows default argument (<ipython-input-61-c30ee10dd7e2>, line 1)",
          "traceback": [
            "\u001b[1;36m  File \u001b[1;32m\"<ipython-input-61-c30ee10dd7e2>\"\u001b[1;36m, line \u001b[1;32m1\u001b[0m\n\u001b[1;33m    def greetings(name, title='Student', age):\u001b[0m\n\u001b[1;37m                 ^\u001b[0m\n\u001b[1;31mSyntaxError\u001b[0m\u001b[1;31m:\u001b[0m non-default argument follows default argument\n"
          ]
        }
      ]
    },
    {
      "cell_type": "code",
      "metadata": {
        "id": "8hSVP0rDSMyr",
        "outputId": "cb4dff09-6faa-4280-943a-745e7370a275"
      },
      "source": [
        "def greetings(name, title='Student', age=21):\n",
        "    return f'Hi, Good Morning {name} {title} {age}!'\n",
        "print(greetings('Paul', 'Student', 21))"
      ],
      "execution_count": null,
      "outputs": [
        {
          "output_type": "stream",
          "text": [
            "Hi, Good Morning Paul Student 21!\n"
          ],
          "name": "stdout"
        }
      ]
    },
    {
      "cell_type": "code",
      "metadata": {
        "id": "7uDB1cCqSMyr"
      },
      "source": [
        "#Passing multiple values, what if we swap the values while passing to the function\n",
        "def printSomething(name, title, age):"
      ],
      "execution_count": null,
      "outputs": []
    },
    {
      "cell_type": "code",
      "metadata": {
        "id": "dY9FZSixSMyt"
      },
      "source": [
        "#Kwargs is used to pass multiple"
      ],
      "execution_count": null,
      "outputs": []
    },
    {
      "cell_type": "markdown",
      "metadata": {
        "id": "adwmRrhXSMyt"
      },
      "source": [
        "#WAP with function fizz_buzz where there'll be a singlr argument[Number]\n",
        "Rules for output:\n",
        "1. If the number is divisible by 3 : print out 'Fizz' 3,6,9\n",
        "2. If the number is divisible by 5 : print out 'buzz'5,15,20\n",
        "3. If the number is divisible by both 5 and 3 : print out 'FizzBuzz' 15,30 etc\n",
        "4. If none is satisfied, print the number itself\n",
        "            "
      ]
    },
    {
      "cell_type": "code",
      "metadata": {
        "id": "1ZP_7VnfSMyt",
        "outputId": "56b28526-a4ec-44a8-ace3-afb12563f723"
      },
      "source": [
        "def fizz_buzz(n):\n",
        "    if n%3==0 and n%5==0:\n",
        "        print('FizzBuzz')\n",
        "    elif n%3==0:\n",
        "        print('Fizz')\n",
        "    elif n%5==0:\n",
        "        print('Buzz')\n",
        "    else:\n",
        "        print(n)\n",
        "if __name__=='__main__':#main method\n",
        "    n=int(input())\n",
        "    fizz_buzz(n)"
      ],
      "execution_count": null,
      "outputs": [
        {
          "output_type": "stream",
          "text": [
            "15\n",
            "FizzBuzz\n"
          ],
          "name": "stdout"
        }
      ]
    },
    {
      "cell_type": "code",
      "metadata": {
        "id": "8lxp1UfxSMyt",
        "outputId": "c2d4f4f7-d0ff-4b3e-f38d-e405584572d8"
      },
      "source": [
        "#WAP to find the days of a month using function which will take in two arguments : year, month number\n",
        "#number of days per month\n",
        "month_days = [0,31,28,31,30,31,30,31,31,30,31,30,31]#indexing starts from 0 in python, so if we give 0, while indexing 1,we can index january, otherwise while indexing 1 we'll get february. So for convenience, we start with 0 \n",
        "\n",
        "#check for leapyear\n",
        "def isLeapYear(year):\n",
        "    return year%4==0 and (year%100!=0 or year % 400 ==0)\n",
        "\n",
        "#check for days in a month\n",
        "def daysInAMonth(year, month):\n",
        "    \n",
        "    if month not in range(1,13):\n",
        "        return \"Invalid Month\"\n",
        "    if month==2 and isLeapYear(year):\n",
        "        return 29\n",
        "    \n",
        "    return month_days[month]\n",
        "\n",
        "#main method\n",
        "if __name__=='__main__':#main method\n",
        "    print(daysInAMonth(2019, 10))"
      ],
      "execution_count": null,
      "outputs": [
        {
          "output_type": "stream",
          "text": [
            "31\n"
          ],
          "name": "stdout"
        }
      ]
    },
    {
      "cell_type": "code",
      "metadata": {
        "id": "2kU1opJuSMyu",
        "outputId": "d7326d8b-9949-4845-b7ec-67c47f82462b"
      },
      "source": [
        "#Extra knowledge\n",
        "from sys import getsizeof\n",
        "a=100000000\n",
        "print(getsizeof(a))#size allocated for a variable in memory[in bytes]"
      ],
      "execution_count": null,
      "outputs": [
        {
          "output_type": "stream",
          "text": [
            "28\n"
          ],
          "name": "stdout"
        }
      ]
    },
    {
      "cell_type": "code",
      "metadata": {
        "id": "MzBvNfl6SMyu"
      },
      "source": [
        "#Definitions\n",
        "\n",
        "Iterator: An iterator is an object representing a stream of data.\n",
        "It returns the data one element at a time\n",
        "\n",
        "Iterable: In Python, Iterable is anything you can loop over with a for loop. eg: List, Strings, Dictionaries, etc\n",
        "\n",
        "An object is called an iterable if you can get an iterator out of it\n",
        "\n",
        "Calling iter() function on an iterable gives us an iterator\n",
        "\n",
        "Calling next() function on iterator gives us the next element"
      ],
      "execution_count": null,
      "outputs": []
    },
    {
      "cell_type": "markdown",
      "metadata": {
        "id": "gbGUIqx3SMyu"
      },
      "source": [
        "# DAY 7"
      ]
    },
    {
      "cell_type": "markdown",
      "metadata": {
        "id": "yB4seCkXSMyu"
      },
      "source": [
        "Agenda\n",
        "\n",
        "1) Iterators and Iterables\n",
        "\n",
        "2) Day 6 homework solutions(soln is in DAY6 part along with the questions)\n",
        "\n",
        "3) Lambda, Map, Filter, Zip\n",
        "\n",
        "4) Problems on the above"
      ]
    },
    {
      "cell_type": "code",
      "metadata": {
        "id": "Lqhx2Qu5SMyu"
      },
      "source": [
        "#iterators and iterables\n",
        "\n",
        "x=[1,2,3,4,5]#x is an iterable\n",
        "\n",
        "y=iter(x) #y is an iterator\n",
        "\n",
        "next(y)\n",
        "next(y)\n",
        "z=tuple(y)#we are just getting a tuple from an iterator with iterable x\n",
        "#when using iterable, memory allocation for each of the variable is done in the beginning, each variable 1,2,3,4,5 is occupying a particular memory location\n",
        "\n",
        "#when we use next(y) memory will be allocated then and there for the first element\n",
        "\n",
        "y=x.__iter__()# x is a class, this is a methode wrt the class\n",
        "y.__next__()"
      ],
      "execution_count": null,
      "outputs": []
    },
    {
      "cell_type": "code",
      "metadata": {
        "id": "3Sk0zx1YSMyv",
        "outputId": "867d6ffb-ce35-4f2a-b2fa-575f26f99e92"
      },
      "source": [
        "x=[1,2,3,4,5]#iterable\n",
        "print(iter(x))#or x.__iter__()\n",
        "y=x.__iter__() #iterator\n",
        "print(dir(y)) \n",
        "\n",
        "print(next(y))\n",
        "print(next(y))"
      ],
      "execution_count": null,
      "outputs": [
        {
          "output_type": "stream",
          "text": [
            "<list_iterator object at 0x0000022B8244F408>\n",
            "['__class__', '__delattr__', '__dir__', '__doc__', '__eq__', '__format__', '__ge__', '__getattribute__', '__gt__', '__hash__', '__init__', '__init_subclass__', '__iter__', '__le__', '__length_hint__', '__lt__', '__ne__', '__new__', '__next__', '__reduce__', '__reduce_ex__', '__repr__', '__setattr__', '__setstate__', '__sizeof__', '__str__', '__subclasshook__']\n",
            "1\n",
            "2\n"
          ],
          "name": "stdout"
        }
      ]
    },
    {
      "cell_type": "code",
      "metadata": {
        "id": "JQ7tVyF8SMyv"
      },
      "source": [
        "#Learn more about this module called itertools"
      ],
      "execution_count": null,
      "outputs": []
    },
    {
      "cell_type": "markdown",
      "metadata": {
        "id": "WlbHQcu0SMyv"
      },
      "source": [
        "Lambda Functions\n",
        "\n",
        "1) No name functions\n",
        "\n",
        "2) Anonymous, single-use or throw away functions\n",
        "\n",
        "3) One-Line Function(inline function)\n",
        "\n",
        "4) They don't use def or return keywords. They're Implicit\n",
        "\n",
        "5) Main motive: Make it short,simple and easy to implement\n",
        "\n",
        "Syntax : Lambda arguments : expressions"
      ]
    },
    {
      "cell_type": "code",
      "metadata": {
        "id": "QKvwdV5mSMyv",
        "outputId": "003262ac-5de8-4900-8e0a-b5e99f57a50d"
      },
      "source": [
        "#eg\n",
        "#adding 5\n",
        "add5=lambda x : x+5\n",
        "print(add5(7))"
      ],
      "execution_count": null,
      "outputs": [
        {
          "output_type": "stream",
          "text": [
            "12\n"
          ],
          "name": "stdout"
        }
      ]
    },
    {
      "cell_type": "code",
      "metadata": {
        "id": "Oavie7UXSMyw",
        "outputId": "161bcb7d-f8e0-4964-d0c9-aa8a1e9e4e11"
      },
      "source": [
        "#eg\n",
        "#squaring\n",
        "square = lambda s : s**2\n",
        "print(square(5))"
      ],
      "execution_count": null,
      "outputs": [
        {
          "output_type": "stream",
          "text": [
            "25\n"
          ],
          "name": "stdout"
        }
      ]
    },
    {
      "cell_type": "code",
      "metadata": {
        "id": "lOjwiynZSMyw",
        "outputId": "564ac7d7-eb7d-4b49-8b07-4fe612f1eac8"
      },
      "source": [
        "#eg\n",
        "#get_tens to get the digit in the tens place\n",
        "get_tens = lambda p: int(p/10)%10\n",
        "print(get_tens(742))\n",
        "print(get_tens(832.52))"
      ],
      "execution_count": null,
      "outputs": [
        {
          "output_type": "stream",
          "text": [
            "4\n",
            "3\n"
          ],
          "name": "stdout"
        }
      ]
    },
    {
      "cell_type": "code",
      "metadata": {
        "id": "pQQAYM-MSMyw",
        "outputId": "886be0bc-677a-45b5-a47d-2a8525593c16"
      },
      "source": [
        "#normal function\n",
        "def sum(x,y):\n",
        "    return(x+y)\n",
        "\n",
        "print(sum(5,7))\n"
      ],
      "execution_count": null,
      "outputs": [
        {
          "output_type": "stream",
          "text": [
            "12\n"
          ],
          "name": "stdout"
        }
      ]
    },
    {
      "cell_type": "code",
      "metadata": {
        "id": "419Sjbs2SMyw",
        "outputId": "d9023c50-786e-4b57-a452-895913bd16c8"
      },
      "source": [
        "#lambda Function\n",
        "c=lambda x,y:x+y\n",
        "print(c(5,7))"
      ],
      "execution_count": null,
      "outputs": [
        {
          "output_type": "stream",
          "text": [
            "12\n"
          ],
          "name": "stdout"
        }
      ]
    },
    {
      "cell_type": "code",
      "metadata": {
        "id": "ZpB7PUo2SMyx",
        "outputId": "efeb3a39-79f2-4e59-df6b-d0de8e7ae163"
      },
      "source": [
        "#normal function\n",
        "def max_two(x,y):\n",
        "    if x>y:\n",
        "        return x\n",
        "    else:\n",
        "        return y\n",
        "print(max_two(7,8))\n",
        "\n"
      ],
      "execution_count": null,
      "outputs": [
        {
          "output_type": "stream",
          "text": [
            "8\n"
          ],
          "name": "stdout"
        }
      ]
    },
    {
      "cell_type": "code",
      "metadata": {
        "id": "azI2KGR8SMyx",
        "outputId": "aee0fa6d-4694-4c76-8c92-4bdc0ee3cb0c"
      },
      "source": [
        "max_two_lambda=lambda x,y : x if x>y else y\n",
        "print(max_two_lambda(7,8))"
      ],
      "execution_count": null,
      "outputs": [
        {
          "output_type": "stream",
          "text": [
            "8\n"
          ],
          "name": "stdout"
        }
      ]
    },
    {
      "cell_type": "markdown",
      "metadata": {
        "id": "XzqfRDb7SMyx"
      },
      "source": [
        "#python map function\n",
        "1) Applies same function to each element of a Sequence\n",
        "2) Returns the modified Data Structure\n",
        "\n",
        "def : Applies a given function to all the iterables and returns a new list. (or DataType)\n",
        "    \n",
        "Syntax : map(function, iterables)"
      ]
    },
    {
      "cell_type": "code",
      "metadata": {
        "id": "2eQYNi5fSMyx"
      },
      "source": [
        "#List, [m,n,p]--->[Map]--->New List [f(m),f(n),f(p)]\n",
        "#Function, f() (Black box)\n",
        "#consider map function as a black box i.e we don't know how it works, but we know what it does"
      ],
      "execution_count": null,
      "outputs": []
    },
    {
      "cell_type": "code",
      "metadata": {
        "id": "EKWi3JwJSMyy",
        "outputId": "df1cad62-4dcb-4810-c5f6-329430fd2660"
      },
      "source": [
        "x=[1,2,3,4,5]\n",
        "def new_list(list_1):\n",
        "    y=[]\n",
        "    for i in list_1:\n",
        "        y.append(i**2)\n",
        "    return y\n",
        "new_list(x)  "
      ],
      "execution_count": null,
      "outputs": [
        {
          "output_type": "execute_result",
          "data": {
            "text/plain": [
              "[1, 4, 9, 16, 25]"
            ]
          },
          "metadata": {
            "tags": []
          },
          "execution_count": 6
        }
      ]
    },
    {
      "cell_type": "code",
      "metadata": {
        "id": "kR5JsFAPSMyy",
        "outputId": "b0fed130-3171-4324-c1fe-f0ac4a904d03"
      },
      "source": [
        "print(list(map(lambda i : i**2, x))) #map function gives an iterator, so we typecast it to a list so that its converted into an iterable"
      ],
      "execution_count": null,
      "outputs": [
        {
          "output_type": "stream",
          "text": [
            "[1, 4, 9, 16, 25]\n"
          ],
          "name": "stdout"
        }
      ]
    },
    {
      "cell_type": "code",
      "metadata": {
        "id": "BHoZtGMvSMyy",
        "outputId": "748a10d5-9d50-4ce2-f418-391a6191a070"
      },
      "source": [
        "def new(a,b):\n",
        "    return a*b\n",
        "x=map(new, [1,2,3,4], [2,3,4,5])#calling a function using map function\n",
        "print(x)\n",
        "print(set(x))"
      ],
      "execution_count": null,
      "outputs": [
        {
          "output_type": "stream",
          "text": [
            "<map object at 0x0000022B82455F48>\n",
            "{2, 12, 20, 6}\n"
          ],
          "name": "stdout"
        }
      ]
    },
    {
      "cell_type": "code",
      "metadata": {
        "id": "mSEMjxzHSMyz",
        "outputId": "3df0b7c3-b238-423f-aec2-8b43f7dd9403"
      },
      "source": [
        "#squaring each element of the list\n",
        "x=[1,2,3,4,5]\n",
        "print([i ** 2 for i in x])#list comprehension(fastest way)\n"
      ],
      "execution_count": null,
      "outputs": [
        {
          "output_type": "stream",
          "text": [
            "[1, 4, 9, 16, 25]\n"
          ],
          "name": "stdout"
        }
      ]
    },
    {
      "cell_type": "markdown",
      "metadata": {
        "id": "3sA8SRNWSMyz"
      },
      "source": [
        "Python Filter Methods\n",
        "\n",
        "1)Filter items out of a Sequence\n",
        "\n",
        "2)Returns filtered List\n",
        "\n",
        "definition : Creates an output List consisting of values for which the function returns True\n",
        "\n",
        "Eg \n",
        "List, [m,n,p]------> [Filter]------> New List, [m,n]\n",
        "Condition, c() if(m==condition)"
      ]
    },
    {
      "cell_type": "code",
      "metadata": {
        "id": "NztnNBmMSMyz",
        "outputId": "5a31dfbc-6761-422f-eab2-8dfd4aeb9f84"
      },
      "source": [
        "#Filtering nos greater than two(without filter() i.e normal method)\n",
        "n=[4,3,2,1]\n",
        "def over_two(list_1):\n",
        "    list_2 = [x for x in n if x>2]\n",
        "    return list_2\n",
        "print(over_two(n))"
      ],
      "execution_count": null,
      "outputs": [
        {
          "output_type": "stream",
          "text": [
            "[4, 3]\n"
          ],
          "name": "stdout"
        }
      ]
    },
    {
      "cell_type": "code",
      "metadata": {
        "id": "XMoD7IMDSMyz",
        "outputId": "ad0616f0-aae8-44d0-ba56-30564fbead48"
      },
      "source": [
        "#Filtering nos greater than two(with filter() method)\n",
        "print(list(filter(lambda x: x>2,n)))"
      ],
      "execution_count": null,
      "outputs": [
        {
          "output_type": "stream",
          "text": [
            "[4, 3]\n"
          ],
          "name": "stdout"
        }
      ]
    },
    {
      "cell_type": "markdown",
      "metadata": {
        "id": "b4hr-wYlSMy0"
      },
      "source": [
        "MAP VS FILTER    \n",
        "\n",
        "Example\n",
        "\n",
        "(1)Map -> function() = adds 10 to a number\n",
        "\n",
        "(2)Filter -> condition() = take in even nos and disregard the odd\n",
        "\n",
        "x=[1,2,3,4,5] \n",
        "\n",
        "resultant(1) = [11,12,13,14,15]\n",
        "\n",
        "resultant(2) = [2,4]"
      ]
    },
    {
      "cell_type": "code",
      "metadata": {
        "id": "EQKwJHqYSMy0",
        "outputId": "a9f47b51-041c-4c23-f282-0ff6346bec48"
      },
      "source": [
        "print(list(map(lambda i: i +10, x)))#(1)\n",
        "\n",
        "print(list(filter(lambda i: i%2==0, x)))#(2)\n"
      ],
      "execution_count": null,
      "outputs": [
        {
          "output_type": "stream",
          "text": [
            "[11, 12, 13, 14, 15]\n",
            "[2, 4]\n"
          ],
          "name": "stdout"
        }
      ]
    },
    {
      "cell_type": "code",
      "metadata": {
        "id": "6hUj0NPWSMy0",
        "outputId": "cf4f86ce-8c69-4d3a-a462-97ca4304de88"
      },
      "source": [
        "#Hands On\n",
        "#add 15 to every element\n",
        "#take out the odd numbers\n",
        "\n",
        "a=[1,2,3,4,5,6,7,8]\n",
        "print(list(map(lambda i : i+15,a)))\n",
        "print(list(filter(lambda i : i%2!=0, a)))"
      ],
      "execution_count": null,
      "outputs": [
        {
          "output_type": "stream",
          "text": [
            "[16, 17, 18, 19, 20, 21, 22, 23]\n",
            "[1, 3, 5, 7]\n"
          ],
          "name": "stdout"
        }
      ]
    },
    {
      "cell_type": "code",
      "metadata": {
        "id": "sti-H6AgSMy1",
        "outputId": "96534062-1eb3-4863-807b-b1336ad864a4"
      },
      "source": [
        "#multiply 2 to each element\n",
        "x=[20,10,8,99,5]\n",
        "print(list(map(lambda i: i*2,x)))"
      ],
      "execution_count": null,
      "outputs": [
        {
          "output_type": "stream",
          "text": [
            "[40, 20, 16, 198, 10]\n"
          ],
          "name": "stdout"
        }
      ]
    },
    {
      "cell_type": "code",
      "metadata": {
        "id": "rhM5N_1CSMy2",
        "outputId": "8df4ff51-c7ab-44ad-8bfa-3396c115b2b2"
      },
      "source": [
        "#map function\n",
        "#Make new fruits by sending two iterable objects into the function:\n",
        "('apple','lemon','banana')\n",
        "('orange','grapes','pineapple')\n",
        "def fruits(a,b):\n",
        "    return(a+b)\n",
        "print(list(map(fruits, ('apple','lemon','banana'),('orange','grapes','pineapple'))))"
      ],
      "execution_count": null,
      "outputs": [
        {
          "output_type": "stream",
          "text": [
            "['appleorange', 'lemongrapes', 'bananapineapple']\n"
          ],
          "name": "stdout"
        }
      ]
    },
    {
      "cell_type": "code",
      "metadata": {
        "id": "yp2EVuRSSMy2",
        "outputId": "a63395bc-259e-491e-ca92-54c132643b17"
      },
      "source": [
        "#finding square\n",
        "def sqr(n):\n",
        "    return n**2\n",
        "num=[5,10,15]\n",
        "print(list(map(sqr,(num))))"
      ],
      "execution_count": null,
      "outputs": [
        {
          "output_type": "stream",
          "text": [
            "[25, 100, 225]\n"
          ],
          "name": "stdout"
        }
      ]
    },
    {
      "cell_type": "code",
      "metadata": {
        "id": "6Pqsvhx6SMy3",
        "outputId": "80eb8107-673c-46aa-d25b-ffbeeffd33a3"
      },
      "source": [
        "#adding two lists\n",
        "a=[1,2,3,4]\n",
        "b=[5,6,7,8]\n",
        "print(list(map(lambda a,b : a+b, a,b)))"
      ],
      "execution_count": null,
      "outputs": [
        {
          "output_type": "stream",
          "text": [
            "[6, 8, 10, 12]\n"
          ],
          "name": "stdout"
        }
      ]
    },
    {
      "cell_type": "markdown",
      "metadata": {
        "id": "P8t9dGSISMy3"
      },
      "source": [
        "Python Reduce Function\n",
        "\n",
        "1) Applies same operations to Items of a sequence\n",
        "\n",
        "2) Uses Resultof Operation as first parameter of next operation\n",
        "\n",
        "3) Returns an Item, not a List\n",
        "\n",
        "definition : Applies a given function to the iterables and returns a single value \n",
        "    \n",
        "    Eg -\n",
        "    List, [m,n,p] ------>[Reduce]------> f(f(m,n), p)\n",
        "    Function, f()\n",
        "    \n",
        "Note : From python 3.0+, if you want to use 'reduce', you must use 'from functools import reduce'."
      ]
    },
    {
      "cell_type": "code",
      "metadata": {
        "id": "yxE1vv4ZSMy4",
        "outputId": "1c98cb6d-2748-444f-f309-0f105f0dbde5"
      },
      "source": [
        "#without using reduce\n",
        "from functools import reduce\n",
        "n=[4,3,2,1] \n",
        "def mult(list_1):\n",
        "    prod=1\n",
        "    for i in list_1:\n",
        "        prod *=i\n",
        "    return prod\n",
        "print(mult(n))"
      ],
      "execution_count": null,
      "outputs": [
        {
          "output_type": "stream",
          "text": [
            "24\n",
            "24\n"
          ],
          "name": "stdout"
        }
      ]
    },
    {
      "cell_type": "code",
      "metadata": {
        "id": "UkLfrZOxSMy4",
        "outputId": "3b853f96-3e83-4db3-ec05-1903966901c9"
      },
      "source": [
        "#using reduce\n",
        "n=[4,3,2,1]\n",
        "print(reduce(lambda x, y: x*y, n))\n"
      ],
      "execution_count": null,
      "outputs": [
        {
          "output_type": "stream",
          "text": [
            "24\n"
          ],
          "name": "stdout"
        }
      ]
    },
    {
      "cell_type": "markdown",
      "metadata": {
        "id": "9NA644DxSMy4"
      },
      "source": [
        "Explanation\n",
        "\n",
        "In this question here, we have two arguments x and y. x, y are m,n in f(m,n). p is the next element in the list according to this question. So 4 and 3 (m and n in the formula f(f(m,n), p))) are multiplied first and we get 12 and then 2 (i.e p in the formula f(f(m,n), p)) is multiplied to 12 resulting in 24 and then 1 (i.e now p in the formula f(f(m,n), p)) is multiplied to 24 resulting in 24\n",
        "\n",
        "i.e\n",
        "\n",
        "n=[4,3,2,1]\n",
        "\n",
        "4 * 3 =12\n",
        "\n",
        "12 * 2 = 24\n",
        "\n",
        "24 * 1 = 1"
      ]
    },
    {
      "cell_type": "markdown",
      "metadata": {
        "id": "kpuwPZZdSMy5"
      },
      "source": [
        "Filter vs Reduce\n",
        "\n",
        "Filter gives a list as output. Reduce gives a single entity as output"
      ]
    },
    {
      "cell_type": "code",
      "metadata": {
        "id": "-ihbVhHlSMy5",
        "outputId": "31c76157-6372-4fca-b00b-769ac05e5862"
      },
      "source": [
        "#Lambda as argument in other functions\n",
        "\n",
        "#Here we are using lambda function in an already defined function, sort()\n",
        "list_1 = [('eggs', 5.25),('honey', 9.78), ('carrots', 1.18), ('peaches', 2.45)]\n",
        "list_1.sort()\n",
        "print(list_1)\n",
        "#here the list is sorted according to alphabetical order\n",
        "list_1.sort(key=lambda x: x[1])#Sorting according to numbers ascending order. \n",
        "print(list_1)\n",
        "list_1.sort(key=lambda x: x[1], reverse = True)#Sorting according to numbers descending order\n",
        "print(list_1)\n",
        "#key takes the details of where to sort it from. By default its x[0]. \n",
        "#Here x[0] means carrots,eggs,honey and peaches\n",
        "#Here x[1] means 1.18, 5.25, 9.78, 2.45\n",
        "# i.e key stores the details of the criteria in accordance to which we want the operation(here sorting) to be done."
      ],
      "execution_count": null,
      "outputs": [
        {
          "output_type": "stream",
          "text": [
            "[('carrots', 1.18), ('eggs', 5.25), ('honey', 9.78), ('peaches', 2.45)]\n",
            "[('carrots', 1.18), ('peaches', 2.45), ('eggs', 5.25), ('honey', 9.78)]\n",
            "[('honey', 9.78), ('eggs', 5.25), ('peaches', 2.45), ('carrots', 1.18)]\n"
          ],
          "name": "stdout"
        }
      ]
    },
    {
      "cell_type": "code",
      "metadata": {
        "id": "1FPnKEbBSMy5",
        "outputId": "d691a73f-6bcf-4e2f-b263-91bc2f42e2ec"
      },
      "source": [
        "#lambda conditions\n",
        "#EXAMPLE 1\n",
        "starts_with_R = lambda x : True if x.startswith('R') else False\n",
        "#Here we are giving lambda function as a condition\n",
        "\n",
        "print(starts_with_R('Rahul'))\n",
        "print(starts_with_R('MeowMeow'))\n"
      ],
      "execution_count": null,
      "outputs": [
        {
          "output_type": "stream",
          "text": [
            "True\n",
            "False\n"
          ],
          "name": "stdout"
        }
      ]
    },
    {
      "cell_type": "markdown",
      "metadata": {
        "id": "BpWU0S1cSMy5"
      },
      "source": [
        "EXTRA INFORMATION\n",
        "\n",
        "Source : Tutorialspoint\n",
        "    \n",
        "Link : https://www.tutorialspoint.com/python3/string_startswith.htm#:~:text=Python%203%20-%20String%20startswith%20%28%29%20Method%201,usage%20of%20startswith%20%28%29%20method.%20More%20items...%20\n",
        "        \n",
        "        Python 3 - String startswith() Method\n",
        "\n",
        "The startswith() method checks whether the string starts with str, optionally restricting the matching with the given indices start and end.\n",
        "\n",
        "Syntax: str.startswith(str, beg = 0,end = len(string));\n",
        "\n",
        "str − This is the string to be checked.\n",
        "\n",
        "beg − This is the optional parameter to set start index of the matching boundary.\n",
        "\n",
        "end − This is the optional parameter to set start index of the matching boundary.\n",
        "\n",
        "Return value : This method returns true if found matching string otherwise false"
      ]
    },
    {
      "cell_type": "code",
      "metadata": {
        "id": "RufreUEQSMy6",
        "outputId": "bbef436d-92e5-498e-e6fc-3c70205f3418"
      },
      "source": [
        "#Example for the above EXTRA INFORMATION i.e String startswith() Method\n",
        "str = \"this is string example....wow!!!\"\n",
        "print (str.startswith( 'this' ))\n",
        "print (str.startswith( 'string', 8 ))\n",
        "print (str.startswith( 'this', 2, 4 ))"
      ],
      "execution_count": null,
      "outputs": [
        {
          "output_type": "stream",
          "text": [
            "True\n",
            "True\n",
            "False\n"
          ],
          "name": "stdout"
        }
      ]
    },
    {
      "cell_type": "code",
      "metadata": {
        "id": "CtJQQdseSMy6",
        "outputId": "e97f6753-f6e5-4f87-bbba-efa4393b429f"
      },
      "source": [
        "#lambda conditions\n",
        "#EXAMPLE 2\n",
        "\n",
        "sentence = 'Four score and Seven years ago'\n",
        "wordb4 = lambda s, w: s.split()[s.split().index(w)-1] if w in s else None\n",
        "print(wordb4(sentence, 'Seven'))#where sentence and 'Seven' are the two arguments"
      ],
      "execution_count": null,
      "outputs": [
        {
          "output_type": "stream",
          "text": [
            "and\n"
          ],
          "name": "stdout"
        }
      ]
    },
    {
      "cell_type": "code",
      "metadata": {
        "id": "Uwj5VAP0SMy6",
        "outputId": "01913685-a7d3-4856-f8ac-fa64814c931b"
      },
      "source": [
        "#lambda conditions\n",
        "#EXAMPLE 3\n",
        "\n",
        "def do_something(f, val):\n",
        "    return f(val)\n",
        "func = lambda x : x ** 3\n",
        "print(func(16))\n",
        "print(do_something(func, 5))"
      ],
      "execution_count": null,
      "outputs": [
        {
          "output_type": "stream",
          "text": [
            "4096\n",
            "125\n"
          ],
          "name": "stdout"
        }
      ]
    },
    {
      "cell_type": "code",
      "metadata": {
        "id": "58QuysO-SMy7",
        "outputId": "d92b2b3e-c5aa-4759-fed0-1cee6845581d"
      },
      "source": [
        "#Extreme Lambdas\n",
        "# Certain tasks are better done in a regular function, but this shows what's possible using / with Lambdas\n",
        "isnum = lambda q: q.replace('.', '', 1).isdigit()#replacing '.' with ''. Number of times we are doing it is 1\n",
        "print(isnum('25683'))\n",
        "print(isnum('3.1415'))\n",
        "print(isnum('T57'))\n",
        "print(isnum('-16'))#we are getting false because of '-'. The following line handles this part\n",
        "\n",
        "is_num = lambda r: isnum(r[1:]) if r[0] == '-' else isnum(r)#if 0th position is '-', it will start the execution from 1. Hence we get true \n",
        "print(is_num('-16.4'))\n",
        "\n",
        "tonum = lambda s : float(s) if is_num(s) else -1# if it is a number, we are converting it to float\n",
        "print(tonum('30y'))\n",
        "print(tonum('-21.67'), type(tonum('-21.67')))#type is used to check the datatype"
      ],
      "execution_count": null,
      "outputs": [
        {
          "output_type": "stream",
          "text": [
            "True\n",
            "True\n",
            "False\n",
            "False\n",
            "True\n",
            "-1\n",
            "-21.67 <class 'float'>\n"
          ],
          "name": "stdout"
        }
      ]
    },
    {
      "cell_type": "markdown",
      "metadata": {
        "id": "9VlGXb3VSMy7"
      },
      "source": [
        "Zip Function in Python\n",
        "\n",
        "1) Used to glue things together\n",
        "\n",
        "2) Used in parallel iteration\n",
        "\n",
        "3) Returns an Iterator of tuples"
      ]
    },
    {
      "cell_type": "code",
      "metadata": {
        "id": "4KNdXoECSMy8",
        "outputId": "77f28405-dfe7-4233-a099-c1d2e4020aa9"
      },
      "source": [
        "#Eq\n",
        "names = ['Rahul','Mike','Rony']\n",
        "companies = ['HRC', 'Apple', 'Amazon']\n",
        "\n",
        "zipped = zip(names, companies)\n",
        "print(list(zipped))\n",
        "print(list(zipped))\n",
        "#note zipped here is an iterator"
      ],
      "execution_count": null,
      "outputs": [
        {
          "output_type": "stream",
          "text": [
            "[('Rahul', 'HRC'), ('Mike', 'Apple'), ('Rony', 'Amazon')]\n",
            "[]\n"
          ],
          "name": "stdout"
        }
      ]
    },
    {
      "cell_type": "code",
      "metadata": {
        "id": "0o4UynlWSMy8",
        "outputId": "bada8f10-f772-49ea-e3ff-d4f42611f131"
      },
      "source": [
        "#Eq\n",
        "names = ['Rahul','Mike','Rony']\n",
        "companies = ['HRC', 'Apple', 'Amazon']\n",
        "\n",
        "zipped = zip(names, companies)\n",
        "print(tuple(zipped))"
      ],
      "execution_count": null,
      "outputs": [
        {
          "output_type": "stream",
          "text": [
            "(('Rahul', 'HRC'), ('Mike', 'Apple'), ('Rony', 'Amazon'))\n"
          ],
          "name": "stdout"
        }
      ]
    },
    {
      "cell_type": "code",
      "metadata": {
        "id": "FWUzjushSMy8",
        "outputId": "e25aea12-876c-48f7-8673-6b1540a3eb8d"
      },
      "source": [
        "#Eq\n",
        "names = ['Rahul','Mike','Rony']\n",
        "companies = ['HRC', 'Apple', 'Amazon']\n",
        "zipped = zip(names, companies)\n",
        "print(dict(zipped))"
      ],
      "execution_count": null,
      "outputs": [
        {
          "output_type": "stream",
          "text": [
            "{'Rahul': 'HRC', 'Mike': 'Apple', 'Rony': 'Amazon'}\n"
          ],
          "name": "stdout"
        }
      ]
    },
    {
      "cell_type": "code",
      "metadata": {
        "id": "xUjnjne8SMy9",
        "outputId": "6af73678-e8d4-43ee-de5b-a84cfb665d62"
      },
      "source": [
        "#Same example if there is disparity in the number of elements, between the two lists\n",
        "#Eq\n",
        "names = ['Rahul','Mike']\n",
        "companies = ['HRC', 'Apple', 'Amazon']\n",
        "\n",
        "zipped = zip(names, companies)\n",
        "print(list(zipped))"
      ],
      "execution_count": null,
      "outputs": [
        {
          "output_type": "stream",
          "text": [
            "[('Rahul', 'HRC'), ('Mike', 'Apple')]\n"
          ],
          "name": "stdout"
        }
      ]
    },
    {
      "cell_type": "code",
      "metadata": {
        "id": "ebOObe50SMy9",
        "outputId": "32421a17-a12e-4a48-8462-64ba3c95618e"
      },
      "source": [
        "names = ['Rahul','Mike','Rony']\n",
        "companies = ['HRC', 'Apple', 'Amazon']\n",
        "\n",
        "zipped = zip(names, companies)\n",
        "#print(list(zipped))\n",
        "#note zipped here is an iterator, so we can use it in a for loop\n",
        "for x, y in zipped:\n",
        "    print(f'{x} -> {y}')"
      ],
      "execution_count": null,
      "outputs": [
        {
          "output_type": "stream",
          "text": [
            "Rahul -> HRC\n",
            "Mike -> Apple\n",
            "Rony -> Amazon\n"
          ],
          "name": "stdout"
        }
      ]
    },
    {
      "cell_type": "code",
      "metadata": {
        "id": "XlUtC7DoSMy9",
        "outputId": "c4f44152-cd50-4c1b-c24d-57a250e1be6b"
      },
      "source": [
        "#Now while using for loop, what happens if there is a disparity in the number of elements, between the two lists??\n",
        "names = ['Rahul','Mike','Rony','Owen']\n",
        "companies = ['HRC', 'Apple', 'Amazon']\n",
        "\n",
        "zipped = zip(names, companies)\n",
        "#print(list(zipped))\n",
        "#note zipped here is an iterator, so we can use it in a for loop\n",
        "for x, y in zipped:\n",
        "    print(f'{x} -> {y}')"
      ],
      "execution_count": null,
      "outputs": [
        {
          "output_type": "stream",
          "text": [
            "Rahul -> HRC\n",
            "Mike -> Apple\n",
            "Rony -> Amazon\n"
          ],
          "name": "stdout"
        }
      ]
    },
    {
      "cell_type": "code",
      "metadata": {
        "id": "PaOZDGJKSMy9",
        "outputId": "2eee4660-b803-4db2-9c0f-3355d37aaebb"
      },
      "source": [
        "#Unzipping\n",
        "names = ['Rahul','Mike','Rony']\n",
        "companies = ['HRC', 'Apple', 'Amazon']\n",
        "\n",
        "zipped = zip(names, companies)\n",
        "#print(list(zipped))\n",
        "print(list(zip(zipped))[0][0][0])\n",
        "\n",
        "#mostly zips are used in socket programming"
      ],
      "execution_count": null,
      "outputs": [
        {
          "output_type": "stream",
          "text": [
            "Rahul\n"
          ],
          "name": "stdout"
        }
      ]
    },
    {
      "cell_type": "code",
      "metadata": {
        "id": "qD9QxKXHSMy9",
        "outputId": "7ede4447-8235-4175-b14c-2ebf48aba46c"
      },
      "source": [
        "#Unzipping\n",
        "names = ['Rahul','Mike','Rony']\n",
        "companies = ['HRC', 'Apple', 'Amazon']\n",
        "\n",
        "zipped = zip(names, companies)\n",
        "#print(list(zipped))\n",
        "print(list(zip(zipped))[0][0])"
      ],
      "execution_count": null,
      "outputs": [
        {
          "output_type": "stream",
          "text": [
            "('Rahul', 'HRC')\n"
          ],
          "name": "stdout"
        }
      ]
    },
    {
      "cell_type": "code",
      "metadata": {
        "id": "stEkS2bUSMy-",
        "outputId": "a61a23df-48f8-4592-bb21-ffe0f8533934"
      },
      "source": [
        "#Example 2\n",
        "prices = [1000,2000,15000]\n",
        "car_sizes = ['small','large','medium']\n",
        "colours = ['red', 'blue']\n",
        "print(list(zip(prices, car_sizes, colours)))\n"
      ],
      "execution_count": null,
      "outputs": [
        {
          "output_type": "stream",
          "text": [
            "[(1000, 'small', 'red'), (2000, 'large', 'blue')]\n"
          ],
          "name": "stdout"
        }
      ]
    },
    {
      "cell_type": "markdown",
      "metadata": {
        "id": "e3iC8LSVSMy-"
      },
      "source": [
        "Here, though there are three items in each list, only two are printed because one if the lists (colours) has only two items(disparity). Suppose if we want to get all the items in each list regardless of the parity in the number of items among each list, there is a provision for that too. See below "
      ]
    },
    {
      "cell_type": "code",
      "metadata": {
        "id": "lQJZ8eMUSMy-",
        "outputId": "63ce5f0b-bc2a-4d8c-da56-91c3344caf22"
      },
      "source": [
        "from itertools import zip_longest \n",
        "prices = [1000,2000,15000]\n",
        "car_sizes = ['small','large','medium']\n",
        "colours = ['red', 'blue']\n",
        "print(list(zip_longest(prices, car_sizes, colours)))"
      ],
      "execution_count": null,
      "outputs": [
        {
          "output_type": "stream",
          "text": [
            "[(1000, 'small', 'red'), (2000, 'large', 'blue'), (15000, 'medium', None)]\n"
          ],
          "name": "stdout"
        }
      ]
    },
    {
      "cell_type": "markdown",
      "metadata": {
        "id": "KV9b361vSMy-"
      },
      "source": [
        "Here, it shows 'None' for the missing value. We can also customize that part. See below"
      ]
    },
    {
      "cell_type": "code",
      "metadata": {
        "id": "9JnvaLeKSMy-",
        "outputId": "85da7a9e-23e6-4ea8-977f-4b5ce62c5fcd"
      },
      "source": [
        "from itertools import zip_longest \n",
        "prices = [1000,2000,15000]\n",
        "car_sizes = ['small','large','medium']\n",
        "colours = ['red', 'blue']\n",
        "print(list(zip_longest(prices, car_sizes, colours,fillvalue= 'NA')))"
      ],
      "execution_count": null,
      "outputs": [
        {
          "output_type": "stream",
          "text": [
            "[(1000, 'small', 'red'), (2000, 'large', 'blue'), (15000, 'medium', 'NA')]\n"
          ],
          "name": "stdout"
        }
      ]
    },
    {
      "cell_type": "code",
      "metadata": {
        "id": "A09zAw9_SMy-",
        "outputId": "a8e9e887-deea-4c92-f751-cf9caf7877be"
      },
      "source": [
        "prices = [1000,2000,15000]\n",
        "z=list(zip(prices))\n",
        "print(z[0][0])"
      ],
      "execution_count": null,
      "outputs": [
        {
          "output_type": "stream",
          "text": [
            "1000\n"
          ],
          "name": "stdout"
        }
      ]
    },
    {
      "cell_type": "markdown",
      "metadata": {
        "id": "clBXF_hwSMy_"
      },
      "source": [
        "# Day 8"
      ]
    },
    {
      "cell_type": "code",
      "metadata": {
        "id": "LXac8OV6SMy_",
        "outputId": "cf358274-e45d-46df-fb07-ef17b8008137"
      },
      "source": [
        "#returning multiple values in a function\n",
        "def abc(x, y):\n",
        "    return sum([x, y]), x-y,x*y\n",
        "a, b, c = abc(5, 6)\n",
        "z = abc(5, 6)\n",
        "print(a, b, c)\n",
        "print(z[1])\n",
        "\n",
        "#refer DAY8 vscode folder"
      ],
      "execution_count": null,
      "outputs": [
        {
          "output_type": "stream",
          "text": [
            "11 -1 30\n",
            "-1\n"
          ],
          "name": "stdout"
        }
      ]
    },
    {
      "cell_type": "markdown",
      "metadata": {
        "id": "Vp-hQlvhSMy_"
      },
      "source": [
        "Modules"
      ]
    },
    {
      "cell_type": "code",
      "metadata": {
        "id": "V7u8G4nASMy_",
        "outputId": "4a69b67d-e756-4236-f0c2-00f74baf01c0"
      },
      "source": [
        "import math\n",
        "print(math.log(10))\n",
        "#refer DAY8 vscode folder"
      ],
      "execution_count": null,
      "outputs": [
        {
          "output_type": "stream",
          "text": [
            "2.302585092994046\n"
          ],
          "name": "stdout"
        }
      ]
    },
    {
      "cell_type": "code",
      "metadata": {
        "id": "2M8g8koESMy_"
      },
      "source": [
        "#Error handling\n",
        "#Syntax Error\n",
        "\n",
        "Syntax errors, also known as parsing errors, are perhaps the most common kind of complaint\n",
        "you get while you are still learning python\n",
        "\n",
        "while True print('Hello world')\n",
        "    File \"<stdin>\", line"
      ],
      "execution_count": null,
      "outputs": []
    },
    {
      "cell_type": "code",
      "metadata": {
        "id": "MZoGSI2uSMy_",
        "outputId": "1d1061e2-0281-49a1-8911-6f6ba87cb2b3"
      },
      "source": [
        "#Exceptions\n",
        "\n",
        "print(1/5)\n",
        "print(2/5)\n",
        "print(3/0)#Exception\n",
        "print(4/5)\n",
        "print(5/5)"
      ],
      "execution_count": null,
      "outputs": [
        {
          "output_type": "stream",
          "text": [
            "0.2\n",
            "0.4\n"
          ],
          "name": "stdout"
        },
        {
          "output_type": "error",
          "ename": "ZeroDivisionError",
          "evalue": "division by zero",
          "traceback": [
            "\u001b[1;31m---------------------------------------------------------------------------\u001b[0m",
            "\u001b[1;31mZeroDivisionError\u001b[0m                         Traceback (most recent call last)",
            "\u001b[1;32m<ipython-input-12-ecee25b56dfb>\u001b[0m in \u001b[0;36m<module>\u001b[1;34m\u001b[0m\n\u001b[0;32m      3\u001b[0m \u001b[0mprint\u001b[0m\u001b[1;33m(\u001b[0m\u001b[1;36m1\u001b[0m\u001b[1;33m/\u001b[0m\u001b[1;36m5\u001b[0m\u001b[1;33m)\u001b[0m\u001b[1;33m\u001b[0m\u001b[1;33m\u001b[0m\u001b[0m\n\u001b[0;32m      4\u001b[0m \u001b[0mprint\u001b[0m\u001b[1;33m(\u001b[0m\u001b[1;36m2\u001b[0m\u001b[1;33m/\u001b[0m\u001b[1;36m5\u001b[0m\u001b[1;33m)\u001b[0m\u001b[1;33m\u001b[0m\u001b[1;33m\u001b[0m\u001b[0m\n\u001b[1;32m----> 5\u001b[1;33m \u001b[0mprint\u001b[0m\u001b[1;33m(\u001b[0m\u001b[1;36m3\u001b[0m\u001b[1;33m/\u001b[0m\u001b[1;36m0\u001b[0m\u001b[1;33m)\u001b[0m\u001b[1;33m\u001b[0m\u001b[1;33m\u001b[0m\u001b[0m\n\u001b[0m\u001b[0;32m      6\u001b[0m \u001b[0mprint\u001b[0m\u001b[1;33m(\u001b[0m\u001b[1;36m4\u001b[0m\u001b[1;33m/\u001b[0m\u001b[1;36m5\u001b[0m\u001b[1;33m)\u001b[0m\u001b[1;33m\u001b[0m\u001b[1;33m\u001b[0m\u001b[0m\n\u001b[0;32m      7\u001b[0m \u001b[0mprint\u001b[0m\u001b[1;33m(\u001b[0m\u001b[1;36m5\u001b[0m\u001b[1;33m/\u001b[0m\u001b[1;36m5\u001b[0m\u001b[1;33m)\u001b[0m\u001b[1;33m\u001b[0m\u001b[1;33m\u001b[0m\u001b[0m\n",
            "\u001b[1;31mZeroDivisionError\u001b[0m: division by zero"
          ]
        }
      ]
    },
    {
      "cell_type": "code",
      "metadata": {
        "id": "2xsv37p7SMzA",
        "outputId": "c00bf83a-c36c-49bc-e13e-8738a7bbf71f"
      },
      "source": [
        "try:\n",
        "    print(1/5)\n",
        "    print(2/5)\n",
        "    print(3/0)#Exception\n",
        "except:\n",
        "    print(\"Division by zero!!!\")\n",
        "print(4/5)\n",
        "print(5/5)   \n"
      ],
      "execution_count": null,
      "outputs": [
        {
          "output_type": "stream",
          "text": [
            "0.2\n",
            "0.4\n",
            "Division by zero!!!\n",
            "0.8\n",
            "1.0\n"
          ],
          "name": "stdout"
        }
      ]
    },
    {
      "cell_type": "code",
      "metadata": {
        "id": "jXKLyUPZSMzA",
        "outputId": "59005252-36b2-4e99-f89b-7cf78e0bf117"
      },
      "source": [
        "#Handling Exceptions\n",
        "try:\n",
        "    print(1/0)\n",
        "except ZeroDivisionError, IndexError:\n",
        "    print('Division by Zero!!!')"
      ],
      "execution_count": null,
      "outputs": [
        {
          "output_type": "error",
          "ename": "SyntaxError",
          "evalue": "invalid syntax (<ipython-input-17-2a0e6448ab0b>, line 4)",
          "traceback": [
            "\u001b[1;36m  File \u001b[1;32m\"<ipython-input-17-2a0e6448ab0b>\"\u001b[1;36m, line \u001b[1;32m4\u001b[0m\n\u001b[1;33m    except ZeroDivisionError, IndexError:\u001b[0m\n\u001b[1;37m                            ^\u001b[0m\n\u001b[1;31mSyntaxError\u001b[0m\u001b[1;31m:\u001b[0m invalid syntax\n"
          ]
        }
      ]
    },
    {
      "cell_type": "code",
      "metadata": {
        "id": "pHE42GnTSMzA",
        "outputId": "e176298c-6a07-4a06-b03a-6f321849eef9"
      },
      "source": [
        "while True:\n",
        "    try:\n",
        "        x=int(input(\"Enter a number : \"))\n",
        "    except ValueError:\n",
        "        print('Oops that is not a valid number')\n"
      ],
      "execution_count": null,
      "outputs": [
        {
          "output_type": "stream",
          "text": [
            "Enter a number : 12\n",
            "Enter a number : a\n",
            "Oops that is not a valid number\n"
          ],
          "name": "stdout"
        }
      ]
    },
    {
      "cell_type": "markdown",
      "metadata": {
        "id": "Chvz_nzRSMzA"
      },
      "source": [
        "ValueError is not only applicable to numbers\n",
        ",it depends on the type of input we give , but its widely used for numbers,\n",
        "since input of any type can be taken as string, even hitting the enter key is a \n",
        "valid input in case of string datatype.See next cell"
      ]
    },
    {
      "cell_type": "code",
      "metadata": {
        "id": "eEMBBCG_SMzA",
        "outputId": "cb71d914-907b-4af7-dcc1-10acd06dc6ac"
      },
      "source": [
        "while True:\n",
        "    try:\n",
        "        x=input(\"Enter a number : \")#we're taking input as string\n",
        "    except ValueError:\n",
        "        print('Oops that is not a valid number')"
      ],
      "execution_count": null,
      "outputs": [
        {
          "output_type": "stream",
          "text": [
            "Enter a number : \n",
            "Enter a number : \n",
            "Enter a number : 123\n",
            "Enter a number : abc\n",
            "Enter a number : */\n"
          ],
          "name": "stdout"
        }
      ]
    },
    {
      "cell_type": "code",
      "metadata": {
        "id": "tHlH2EyNSMzB"
      },
      "source": [
        ""
      ],
      "execution_count": null,
      "outputs": []
    },
    {
      "cell_type": "code",
      "metadata": {
        "id": "AkR-vxC4SMzB"
      },
      "source": [
        "#Whatever we put in finally gets executed no matter what\n",
        "#assert is used to check for a particular value "
      ],
      "execution_count": null,
      "outputs": []
    },
    {
      "cell_type": "code",
      "metadata": {
        "id": "znlWyeMUSMzB",
        "outputId": "e53bc55f-5b4e-45c1-cc69-88ac5f7be41f"
      },
      "source": [
        "x=0\n",
        "try:\n",
        "    y=str(x)\n",
        "except ValueError:\n",
        "    print(\"Value Error\")\n",
        "except (TypeError, ZeroDivisionError):\n",
        "    print(\"TypeError/ZeroDivisionError\")\n",
        "except:\n",
        "    print(\"Anonymous\")\n",
        "else:\n",
        "    print(\"No Error\")\n",
        "finally:\n",
        "    print(\"End of program\")"
      ],
      "execution_count": null,
      "outputs": [
        {
          "output_type": "stream",
          "text": [
            "No Error\n",
            "End of program\n"
          ],
          "name": "stdout"
        }
      ]
    },
    {
      "cell_type": "code",
      "metadata": {
        "id": "JJ6bkTIpSMzB",
        "outputId": "e074290e-7aee-4b9b-8e21-0e3d8cc8e182"
      },
      "source": [
        "x='INT'\n",
        "try:\n",
        "    y=int(x)\n",
        "except ValueError:\n",
        "    print(\"Value Error\")\n",
        "except (TypeError, ZeroDivisionError):\n",
        "    print(\"TypeError/ZeroDivisionError\")\n",
        "except:\n",
        "    print(\"Anonymous\")\n",
        "else:\n",
        "    print(\"No Error\")\n",
        "finally:\n",
        "    print(\"End of program\")"
      ],
      "execution_count": null,
      "outputs": [
        {
          "output_type": "stream",
          "text": [
            "Value Error\n",
            "End of program\n"
          ],
          "name": "stdout"
        }
      ]
    },
    {
      "cell_type": "code",
      "metadata": {
        "id": "gKki9sKgSMzB",
        "outputId": "dd39f98e-b1fb-47e4-e62f-f8188051cae1"
      },
      "source": [
        "x=0\n",
        "try:\n",
        "    y=1/x\n",
        "except ValueError:\n",
        "    print(\"Value Error\")\n",
        "except (TypeError, ZeroDivisionError):\n",
        "    print(\"TypeError/ZeroDivisionError\")\n",
        "except:\n",
        "    print(\"Anonymous\")\n",
        "else:\n",
        "    print(\"No Error\")\n",
        "finally:\n",
        "    print(\"End of program\")"
      ],
      "execution_count": null,
      "outputs": [
        {
          "output_type": "stream",
          "text": [
            "TypeError/ZeroDivisionError\n",
            "End of program\n"
          ],
          "name": "stdout"
        }
      ]
    },
    {
      "cell_type": "code",
      "metadata": {
        "id": "7sWbG9DzSMzC",
        "outputId": "29c315a0-67db-498d-dad0-5db236593635"
      },
      "source": [
        "#Syntax error will always throwback. \n",
        "#Exceptions can be easily managed\n",
        "x=0\n",
        "try:\n",
        "    y=\n",
        "except ValueError:\n",
        "    print(\"Value Error\")\n",
        "except (TypeError, ZeroDivisionError):\n",
        "    print(\"TypeError/ZeroDivisionError\")\n",
        "except:\n",
        "    print(\"Anonymous\")\n",
        "else:\n",
        "    print(\"No Error\")\n",
        "finally:\n",
        "    print(\"End of program\")"
      ],
      "execution_count": null,
      "outputs": [
        {
          "output_type": "error",
          "ename": "SyntaxError",
          "evalue": "invalid syntax (<ipython-input-6-067b5e5d8095>, line 5)",
          "traceback": [
            "\u001b[1;36m  File \u001b[1;32m\"<ipython-input-6-067b5e5d8095>\"\u001b[1;36m, line \u001b[1;32m5\u001b[0m\n\u001b[1;33m    y=\u001b[0m\n\u001b[1;37m      ^\u001b[0m\n\u001b[1;31mSyntaxError\u001b[0m\u001b[1;31m:\u001b[0m invalid syntax\n"
          ]
        }
      ]
    },
    {
      "cell_type": "code",
      "metadata": {
        "id": "td-3lwcjSMzC",
        "outputId": "6ceb9fd7-600b-49c8-b2ad-1b735a1faac6"
      },
      "source": [
        "#Handling exceptions\n",
        "try:\n",
        "    a=int(input(\"Enter a Number : \"))\n",
        "    \n",
        "    if a <=0:\n",
        "        raise ValueError(\"That is not a Positive Number\")\n",
        "except ValueError as ve:\n",
        "    print(ve)"
      ],
      "execution_count": null,
      "outputs": [
        {
          "output_type": "stream",
          "text": [
            "Enter a Number : -1\n",
            "That is not a Positive Number\n"
          ],
          "name": "stdout"
        }
      ]
    },
    {
      "cell_type": "code",
      "metadata": {
        "id": "mIjE9e7_SMzC"
      },
      "source": [
        "#raise is used for creating user defined exception management\n",
        "#it works for cases with if condition"
      ],
      "execution_count": null,
      "outputs": []
    },
    {
      "cell_type": "code",
      "metadata": {
        "id": "uctw3WVESMzC",
        "outputId": "a83c1757-4895-433e-e75b-de1528a0a2b3"
      },
      "source": [
        "try:\n",
        "    print(1/0)#Control directly jumps to except from here.If there is a raise between this part and the except part, it gets skipped.\n",
        "except ZeroDivisionError as ze:\n",
        "    print(ze)"
      ],
      "execution_count": null,
      "outputs": [
        {
          "output_type": "stream",
          "text": [
            "division by zero\n"
          ],
          "name": "stdout"
        }
      ]
    },
    {
      "cell_type": "code",
      "metadata": {
        "id": "72OT0oQsSMzC",
        "outputId": "8ff698f5-1813-44c8-85e5-53df86ceb62f"
      },
      "source": [
        "#Creating custom error message\n",
        "x=0\n",
        "try:\n",
        "    if x==0:\n",
        "        raise ZeroDivisionError('Division by Zero Error Detected!!!')\n",
        "except ZeroDivisionError as ze:\n",
        "    print(ze)"
      ],
      "execution_count": null,
      "outputs": [
        {
          "output_type": "stream",
          "text": [
            "Division by Zero Error Detected!!!\n"
          ],
          "name": "stdout"
        }
      ]
    },
    {
      "cell_type": "markdown",
      "metadata": {
        "id": "cqqBzvxsSMzD"
      },
      "source": [
        "WAP to calculate number of People who can fit in the vehicle which has the limit of 2000 Kilo Gram Consider the weight of driver 75 kg (MOST COMMON TYPE IN TECHNICAL ROUND for INTERVIEWS)"
      ]
    },
    {
      "cell_type": "code",
      "metadata": {
        "id": "ZT7a132RSMzD",
        "outputId": "84a27e5b-b18f-4d9d-bb43-8e9ad17f7b8e"
      },
      "source": [
        "sum=75\n",
        "c=0\n",
        "while 1:\n",
        "    if sum < 1925:\n",
        "        wt=int(input(\"Enter the weight \"))\n",
        "        sum=sum+wt\n",
        "        print(sum)\n",
        "        if sum<1925:\n",
        "            c=c+1\n",
        "    else:\n",
        "        print(\"Maximum capacity reached\")\n",
        "        break\n",
        "print(c)\n",
        "    "
      ],
      "execution_count": null,
      "outputs": [
        {
          "output_type": "stream",
          "text": [
            "Enter the weight 500\n",
            "575\n",
            "Enter the weight 1600\n",
            "2175\n",
            "Maximum capacity reached\n",
            "1\n"
          ],
          "name": "stdout"
        }
      ]
    },
    {
      "cell_type": "code",
      "metadata": {
        "id": "ADfLyL1pSMzD",
        "outputId": "f54ebb4e-0463-42fd-d4dc-9deec9c484da"
      },
      "source": [
        "#mentor solution\n",
        "#shortest method, follow this method\n",
        "x=75\n",
        "z=0\n",
        "while (x<=2000):\n",
        "    y=int(input(\"Enter the weight of the next passenger: \"))\n",
        "    x=x+y\n",
        "    z=z+1\n",
        "print(\"The total number of people the bus can bear: \"+str(z))"
      ],
      "execution_count": null,
      "outputs": [
        {
          "output_type": "stream",
          "text": [
            "Enter the weight of the next passenger: 500\n",
            "Enter the weight of the next passenger: 1500\n",
            "The total number of people the bus can bear: 2\n"
          ],
          "name": "stdout"
        }
      ]
    },
    {
      "cell_type": "markdown",
      "metadata": {
        "id": "Cc6T9f5MSMzD"
      },
      "source": [
        "Piglatin: different versions can be asked for the technical round\n",
        "\n",
        "if the first letter of a given word is a vowel, add ay at the end\n",
        "if the first letter is a consonant, replace the first letter to the end of the word, then add ay\n"
      ]
    },
    {
      "cell_type": "code",
      "metadata": {
        "id": "mTPBl_tdSMzD",
        "outputId": "d94ea88d-6d8e-4c0d-bcfd-b363b29c7fed"
      },
      "source": [
        "word=input(\"Enter the word \")\n",
        "if word[0] is \"aeiouAEIOU\":\n",
        "    print(word+'ay')\n"
      ],
      "execution_count": null,
      "outputs": [
        {
          "output_type": "stream",
          "text": [
            "Enter the word easy\n"
          ],
          "name": "stdout"
        }
      ]
    },
    {
      "cell_type": "markdown",
      "metadata": {
        "id": "uVAdk8MsSMzD"
      },
      "source": [
        "Similar interview Question\n",
        "\n",
        "If alphabet is from first half of alphabet series\n",
        ", add ay at the end, if its from the second half, add ey"
      ]
    },
    {
      "cell_type": "code",
      "metadata": {
        "id": "6RA9U2wBSMzE",
        "outputId": "077afb2a-d997-4113-a195-18c5adfe1713"
      },
      "source": [
        "\n",
        "vowels=['a','e','i','o','u']#Add caps also\n",
        "string=input(\"Enter your String\")\n",
        "if string[0] in vowels:\n",
        "  print(string[0:]+\"ay\")\n",
        "else:\n",
        "  print(string[1:]+string[0]+\"ay\")"
      ],
      "execution_count": null,
      "outputs": [
        {
          "output_type": "stream",
          "text": [
            "Enter your Stringeasy\n",
            "easyay\n"
          ],
          "name": "stdout"
        }
      ]
    },
    {
      "cell_type": "code",
      "metadata": {
        "id": "4aVmB-dOSMzE",
        "outputId": "006f10f4-d761-4335-dbf5-acc984f5eb2f"
      },
      "source": [
        "#or\n",
        "def piglatin():\n",
        "    vowels=('A','E','I','O','U','a','e','i','o','u')\n",
        "    str=input(\"Enter your string : \")\n",
        "    if str[0] in vowels:\n",
        "        print(str+'ay')\n",
        "    else:\n",
        "        print(str[1:]+str[0]+'ay')\n",
        "piglatin()"
      ],
      "execution_count": null,
      "outputs": [
        {
          "output_type": "stream",
          "text": [
            "Enter your string : easy\n",
            "easyay\n"
          ],
          "name": "stdout"
        }
      ]
    },
    {
      "cell_type": "code",
      "metadata": {
        "id": "ucJvsy50SMzE"
      },
      "source": [
        "Complex syllable - omnitrix (3 syllables om ni trix) if there are 2 or more consonants"
      ],
      "execution_count": null,
      "outputs": []
    },
    {
      "cell_type": "code",
      "metadata": {
        "id": "iUptvnMWSMzE"
      },
      "source": [
        "#Primary aim in an interview is to solve the problem, then comes readability(easiness)\n"
      ],
      "execution_count": null,
      "outputs": []
    },
    {
      "cell_type": "markdown",
      "metadata": {
        "id": "uDTbJjN7SMzF"
      },
      "source": [
        "Spygame\n",
        "\n",
        "if 007 is present in proper order in the input, the op should be true, else false\n",
        "\n",
        "input : abcd0mn0xy7\n",
        "\n",
        "Output : true\n",
        "    \n",
        "input : abc70xy0mn0\n",
        "    \n",
        "Output : false"
      ]
    },
    {
      "cell_type": "code",
      "metadata": {
        "id": "sko0TrX0SMzF",
        "outputId": "e9bb3aa9-74a6-405e-b038-9b1bb28572f0"
      },
      "source": [
        "#stack is used\n",
        "word=input(\"Enter The Word:\")\n",
        "spy=''\n",
        "for i in word:\n",
        "    if (i=='0' or i=='7'):\n",
        "        spy+=i\n",
        "if '007' in spy:\n",
        "    print(\"True\")\n",
        "else:\n",
        "    print(\"False\")\n"
      ],
      "execution_count": null,
      "outputs": [
        {
          "output_type": "stream",
          "text": [
            "Enter The Word:abcd0mn0xy7\n",
            "True\n"
          ],
          "name": "stdout"
        }
      ]
    },
    {
      "cell_type": "code",
      "metadata": {
        "id": "y8GOPGKhSMzF"
      },
      "source": [
        "word=input(\"Enter The Word:\")\n",
        "str=''\n",
        "for i in word:\n",
        "    if (i=='0' or i=='7'):\n",
        "        str+=i\n",
        "if str=='007':\n",
        "    print(True)\n",
        "else:\n",
        "    print(False)"
      ],
      "execution_count": null,
      "outputs": []
    },
    {
      "cell_type": "code",
      "metadata": {
        "id": "pBlXHCxPSMzG"
      },
      "source": [
        "#In google's interview, you will be asked to write the code on the board not on a system"
      ],
      "execution_count": null,
      "outputs": []
    },
    {
      "cell_type": "code",
      "metadata": {
        "id": "oFtTdLePSMzG"
      },
      "source": [
        "c=input(\"Enter your number \")\n",
        "count=0\n",
        "for i in c:\n",
        "  count+=1\n",
        "  if \"0\" in i:\n",
        "    for i in c[count-1:]:\n",
        "      count+=1\n",
        "      if \"0\" in i:\n",
        "        count+=1\n",
        "        for i in c[count-1:]:\n",
        "          if \"7\" in i:\n",
        "            print(\"yep its there\")\n",
        "print(\"nah i couldn't find it\")"
      ],
      "execution_count": null,
      "outputs": []
    },
    {
      "cell_type": "code",
      "metadata": {
        "id": "Gb8tC8bhSMzG"
      },
      "source": [
        ""
      ],
      "execution_count": null,
      "outputs": []
    },
    {
      "cell_type": "code",
      "metadata": {
        "id": "Ocz6UQywSMzG",
        "outputId": "a1380288-50ee-4588-acf1-4f8ce9f7ce11"
      },
      "source": [
        "print('Hi im Paul'+'\\n'+'in cmrit')"
      ],
      "execution_count": null,
      "outputs": [
        {
          "output_type": "stream",
          "text": [
            "Hi im Paul\n",
            "in cmrit\n"
          ],
          "name": "stdout"
        }
      ]
    },
    {
      "cell_type": "code",
      "metadata": {
        "id": "zznIGSWYSMzG",
        "outputId": "8521c288-7955-4195-ca3d-a0380bf6ac98"
      },
      "source": [
        "import sys\n",
        "print(sys.version)"
      ],
      "execution_count": null,
      "outputs": [
        {
          "output_type": "stream",
          "text": [
            "3.7.4 (default, Aug  9 2019, 18:34:13) [MSC v.1915 64 bit (AMD64)]\n"
          ],
          "name": "stdout"
        }
      ]
    },
    {
      "cell_type": "code",
      "metadata": {
        "id": "sp5AkvIMSMzG",
        "outputId": "f9fdba10-e531-4aa2-9a14-2a90e24224b6"
      },
      "source": [
        "x=[88, 12, 9, 8, 5, 3, 2, 1]\n",
        "print(set(sorted(x)))"
      ],
      "execution_count": null,
      "outputs": [
        {
          "output_type": "stream",
          "text": [
            "{1, 2, 3, 5, 8, 9, 12, 88}\n"
          ],
          "name": "stdout"
        }
      ]
    },
    {
      "cell_type": "code",
      "metadata": {
        "id": "k8AAdu45SMzH",
        "outputId": "95d9d9ea-5453-41f3-9463-474c3e802d6b"
      },
      "source": [
        "'-'.join('There can be only one.'.split())"
      ],
      "execution_count": null,
      "outputs": [
        {
          "output_type": "execute_result",
          "data": {
            "text/plain": [
              "'There-can-be-only-one.'"
            ]
          },
          "metadata": {
            "tags": []
          },
          "execution_count": 4
        }
      ]
    },
    {
      "cell_type": "code",
      "metadata": {
        "id": "Xi3OK9J8SMzH"
      },
      "source": [
        "b=[1,2,3,4]\n",
        "b.append(4)\n",
        "#print(b[-1])\n",
        "#b=b[-1]+1\n",
        "\n"
      ],
      "execution_count": null,
      "outputs": []
    },
    {
      "cell_type": "code",
      "metadata": {
        "id": "Ya4xqZ3PSMzH",
        "outputId": "d004d1fc-0fc3-422b-983d-8a85c32e375a"
      },
      "source": [
        "b=b[-1]+1\n",
        "print(b)"
      ],
      "execution_count": null,
      "outputs": [
        {
          "output_type": "stream",
          "text": [
            "5\n"
          ],
          "name": "stdout"
        }
      ]
    },
    {
      "cell_type": "code",
      "metadata": {
        "id": "x2PJl8s5SMzH",
        "outputId": "2371a8a6-c244-476e-ba1e-21c157c11512"
      },
      "source": [
        "amt = 1500\n",
        "dn= 3\n",
        "dur=dn/12\n",
        "rt = 4.3\n",
        "r=rt/100\n",
        "n=4 #compounded monthly\n",
        "Mat = amt*((1+ (r/n))**(n*dur))\n",
        "print(round(Mat,2))"
      ],
      "execution_count": null,
      "outputs": [
        {
          "output_type": "stream",
          "text": [
            "1516.12\n"
          ],
          "name": "stdout"
        }
      ]
    },
    {
      "cell_type": "code",
      "metadata": {
        "id": "cf3zzjwSSMzH",
        "outputId": "59b70942-6fc4-4ff2-c876-35f6887d5b2f"
      },
      "source": [
        "print(\"*\"*6+\"Fixed deposit Calculation\"+\"*\"*6)\n",
        "print(f\"Deposit Amount           {amt} \\nRate of Interest           {rt}\\nDuration of deposit in months     {dn}\\nTotal Interest Receivable     {round((Mat-amt),2)}\\n TOTAL MATURITY AMOUNT        {round(Mat,2)}\")"
      ],
      "execution_count": null,
      "outputs": [
        {
          "output_type": "stream",
          "text": [
            "******Fixed deposit Calculation******\n",
            "Deposit Amount           1500 \n",
            "Rate of Interest           4.3\n",
            "Duration of deposit in months     3\n",
            "Total Interest Receivable     16.12\n",
            " TOTAL MATURITY AMOUNT        1516.12\n"
          ],
          "name": "stdout"
        }
      ]
    },
    {
      "cell_type": "code",
      "metadata": {
        "id": "ByPXgs1jSMzJ",
        "outputId": "ba5efc1c-9b08-4244-a354-cd4c72c58c2a"
      },
      "source": [
        "mdep = 5000 #get_MonthlyDeposit()\n",
        "dn= 12 #get_duration() #duration in months\n",
        "\n",
        "rt = 7 #_get_rate() #rate of interest in decimal\n",
        "r=rt/100\n",
        "n=4 #compounded quarterly\n",
        "I=(mdep*dn*(dn+1)*r)/2400\n",
        "Mat=(mdep*dn)+I\n",
        "print(round(I,2))\n",
        "print(round(Mat,2))"
      ],
      "execution_count": null,
      "outputs": [
        {
          "output_type": "stream",
          "text": [
            "22.75\n",
            "60022.75\n"
          ],
          "name": "stdout"
        }
      ]
    },
    {
      "cell_type": "code",
      "metadata": {
        "id": "eptyqRzWSMzJ",
        "outputId": "b740b50b-68e5-4e83-8a07-decaf2bcefa7"
      },
      "source": [
        "mdep = 5000\n",
        "dn= 12\n",
        "dur=dn/12\n",
        "rt = 8.25\n",
        "r=rt/100\n",
        "n=4 #compounded monthly\n",
        "Mat = mdep*((1+ (r/n))**(n*dur))\n",
        "print(round(Mat,2))"
      ],
      "execution_count": null,
      "outputs": [
        {
          "output_type": "stream",
          "text": [
            "5425.44\n"
          ],
          "name": "stdout"
        }
      ]
    },
    {
      "cell_type": "code",
      "metadata": {
        "id": "R58ATwUdSMzK",
        "outputId": "6f0f0609-3ff7-42c4-e89d-0350bfb280b3"
      },
      "source": [
        "dn=12\n",
        "i=1\n",
        "sum=0\n",
        "while dn!=0:\n",
        "    dur=dn/12\n",
        "    rt = 7\n",
        "    r=rt/100\n",
        "    n=4 #compounded monthly\n",
        "    Mat = mdep*((1+ (r/n))**(n*dur))\n",
        "    print(f\"Month {i}  amount = {round(Mat,2)}\")\n",
        "    sum=sum+round(Mat,2)\n",
        "    dn-=1\n",
        "    i+=1\n",
        "print(f\"Total Maturity Amount : {round(sum,2)}\")"
      ],
      "execution_count": null,
      "outputs": [
        {
          "output_type": "stream",
          "text": [
            "Month 1  amount = 5359.3\n",
            "Month 2  amount = 5328.39\n",
            "Month 3  amount = 5297.67\n",
            "Month 4  amount = 5267.12\n",
            "Month 5  amount = 5236.75\n",
            "Month 6  amount = 5206.55\n",
            "Month 7  amount = 5176.53\n",
            "Month 8  amount = 5146.68\n",
            "Month 9  amount = 5117.01\n",
            "Month 10  amount = 5087.5\n",
            "Month 11  amount = 5058.16\n",
            "Month 12  amount = 5029.0\n",
            "Total Maturity Amount : 62310.66\n"
          ],
          "name": "stdout"
        }
      ]
    },
    {
      "cell_type": "code",
      "metadata": {
        "id": "2ZIV1VbdSMzK"
      },
      "source": [
        ""
      ],
      "execution_count": null,
      "outputs": []
    }
  ]
}