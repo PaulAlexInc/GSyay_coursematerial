{
  "nbformat": 4,
  "nbformat_minor": 0,
  "metadata": {
    "colab": {
      "name": "Python_basics_1.ipynb",
      "private_outputs": true,
      "provenance": [],
      "collapsed_sections": [],
      "include_colab_link": true
    },
    "kernelspec": {
      "name": "python3",
      "display_name": "Python 3"
    }
  },
  "cells": [
    {
      "cell_type": "markdown",
      "metadata": {
        "id": "view-in-github",
        "colab_type": "text"
      },
      "source": [
        "<a href=\"https://colab.research.google.com/github/PaulAlexInc/GSyay_coursematerial/blob/main/Python_basics_1.ipynb\" target=\"_parent\"><img src=\"https://colab.research.google.com/assets/colab-badge.svg\" alt=\"Open In Colab\"/></a>"
      ]
    },
    {
      "cell_type": "markdown",
      "metadata": {
        "id": "FyHGj4Pgv4aD",
        "colab_type": "toc"
      },
      "source": [
        ">[Introduction](#scrollTo=1Wio06tstydj)\n",
        "\n",
        ">[Basic operations](#scrollTo=InDBu5rfurNl)\n",
        "\n",
        ">[Strings](#scrollTo=uIka8RgguzcL)\n",
        "\n",
        ">[Output and input](#scrollTo=nt5XWrTHu5iq)\n",
        "\n",
        ">[String operations](#scrollTo=v96D04Z6u9MD)\n",
        "\n",
        ">[Typecasting](#scrollTo=ks_g9OEgvBRa)\n",
        "\n",
        ">[Variables](#scrollTo=omBc3jzvvMvj)\n",
        "\n",
        ">[In place operators](#scrollTo=9J-3FyTZvgox)\n",
        "\n"
      ]
    },
    {
      "cell_type": "markdown",
      "metadata": {
        "id": "1Wio06tstydj"
      },
      "source": [
        "# Introduction"
      ]
    },
    {
      "cell_type": "markdown",
      "metadata": {
        "id": "RXM4XiO-t2bf"
      },
      "source": [
        "Python is a dynamically typed, usually interpreted programming langauge, created by Guido Van Rossum in 1991. The major versions of Python are 1.x, 2.x and 3.x. Python 3 introduced a lot of breaking changes from Python2. Here we'll be using Python 3.\n",
        "\n",
        "If you want to (and it's a good thing to do) install Python on your machine, visit [Python's website](https://www.python.org) for installation instructions. If you are using Linux, it's already installed. "
      ]
    },
    {
      "cell_type": "markdown",
      "metadata": {
        "id": "InDBu5rfurNl"
      },
      "source": [
        "# Basic operations"
      ]
    },
    {
      "cell_type": "markdown",
      "metadata": {
        "id": "eqr2AYGjnHet"
      },
      "source": [
        "Python has the capability of (unsurprisingly) carrying out calculations. It can perform arithmetic operations like addition, subtraction and multiplication."
      ]
    },
    {
      "cell_type": "code",
      "metadata": {
        "id": "wse5myQjkhS7"
      },
      "source": [
        "2+5"
      ],
      "execution_count": null,
      "outputs": []
    },
    {
      "cell_type": "code",
      "metadata": {
        "id": "ZA0dFhe0kijg"
      },
      "source": [
        "2-5"
      ],
      "execution_count": null,
      "outputs": []
    },
    {
      "cell_type": "code",
      "metadata": {
        "id": "ViFH8yAlkjP8"
      },
      "source": [
        "49*76"
      ],
      "execution_count": null,
      "outputs": []
    },
    {
      "cell_type": "markdown",
      "metadata": {
        "id": "tIBVd6NEnflV"
      },
      "source": [
        "Dividing two integers produces a decimal value"
      ]
    },
    {
      "cell_type": "code",
      "metadata": {
        "id": "c8LPh3HTkke9"
      },
      "source": [
        "12/5"
      ],
      "execution_count": null,
      "outputs": []
    },
    {
      "cell_type": "markdown",
      "metadata": {
        "id": "M8RvRBUInriO"
      },
      "source": [
        "Using // we can get the quotient"
      ]
    },
    {
      "cell_type": "code",
      "metadata": {
        "id": "k66vSd3fkl3K"
      },
      "source": [
        "12//5"
      ],
      "execution_count": null,
      "outputs": []
    },
    {
      "cell_type": "markdown",
      "metadata": {
        "id": "BvC3x5CXnvqL"
      },
      "source": [
        "Using % we can get the remainder"
      ]
    },
    {
      "cell_type": "code",
      "metadata": {
        "id": "qYbZKHa4lVbS"
      },
      "source": [
        "12%5"
      ],
      "execution_count": null,
      "outputs": []
    },
    {
      "cell_type": "markdown",
      "metadata": {
        "id": "f64t-Mlfnyxn"
      },
      "source": [
        "** is the exponentiation operator. Also as evident, Python integers can be arbitrarily big"
      ]
    },
    {
      "cell_type": "code",
      "metadata": {
        "id": "GPlsX5DXknPY"
      },
      "source": [
        "12**1000"
      ],
      "execution_count": null,
      "outputs": []
    },
    {
      "cell_type": "markdown",
      "metadata": {
        "id": "RsNt3NFEn56K"
      },
      "source": [
        "Parenthesis can change the order of operation"
      ]
    },
    {
      "cell_type": "code",
      "metadata": {
        "id": "SON32340lB1d"
      },
      "source": [
        "2*(3+4)"
      ],
      "execution_count": null,
      "outputs": []
    },
    {
      "cell_type": "markdown",
      "metadata": {
        "id": "S6Xydyw4n9lb"
      },
      "source": [
        "Putting a - sign before a number makes it negative"
      ]
    },
    {
      "cell_type": "code",
      "metadata": {
        "id": "qRNeAlyulJ49"
      },
      "source": [
        "(-7*2)/4"
      ],
      "execution_count": null,
      "outputs": []
    },
    {
      "cell_type": "markdown",
      "metadata": {
        "id": "MKgDVKANoCoX"
      },
      "source": [
        "Dividing by 0 causes an error"
      ]
    },
    {
      "cell_type": "code",
      "metadata": {
        "id": "M9KDZGAClOen"
      },
      "source": [
        "11/0"
      ],
      "execution_count": null,
      "outputs": []
    },
    {
      "cell_type": "markdown",
      "metadata": {
        "id": "uIka8RgguzcL"
      },
      "source": [
        "# Strings"
      ]
    },
    {
      "cell_type": "markdown",
      "metadata": {
        "id": "4bF6vCP0oGH7"
      },
      "source": [
        "So far we have seen only integers, which are called **int** in Python. Also we have seen floating point numbers which are called **float**. Now let's see strings. Strings are a sequence of letters which can include alphabets, numbers, symbols, spaces, newlines, and other characters."
      ]
    },
    {
      "cell_type": "markdown",
      "metadata": {
        "id": "8Np9beWbogei"
      },
      "source": [
        "A string in Python must be wrapped around quotes. It can be wrapped with double quotes"
      ]
    },
    {
      "cell_type": "code",
      "metadata": {
        "id": "1ItEiAwNkp2k"
      },
      "source": [
        "\"Hi\""
      ],
      "execution_count": null,
      "outputs": []
    },
    {
      "cell_type": "markdown",
      "metadata": {
        "id": "dJ2Hxuq7onzY"
      },
      "source": [
        "Or single quotes"
      ]
    },
    {
      "cell_type": "code",
      "metadata": {
        "id": "fW0qPKfDlZVm"
      },
      "source": [
        "'hi'"
      ],
      "execution_count": null,
      "outputs": []
    },
    {
      "cell_type": "markdown",
      "metadata": {
        "id": "uMZfwO_Youq-"
      },
      "source": [
        "But these strings cannot include line break"
      ]
    },
    {
      "cell_type": "code",
      "metadata": {
        "id": "bawWjOxmop95"
      },
      "source": [
        "\"Hi\n",
        "I want to be a multiline text. Please help\""
      ],
      "execution_count": null,
      "outputs": []
    },
    {
      "cell_type": "markdown",
      "metadata": {
        "id": "f7UzOxwoozWI"
      },
      "source": [
        "In order to include line breaks, a string must be wrapped around using three double quotes"
      ]
    },
    {
      "cell_type": "code",
      "metadata": {
        "id": "3PsvcD_4lai8"
      },
      "source": [
        "\"\"\"Hello\n",
        "This is a multiline\n",
        "text\n",
        "\"\"\""
      ],
      "execution_count": null,
      "outputs": []
    },
    {
      "cell_type": "markdown",
      "metadata": {
        "id": "9gdR-njKo6Cg"
      },
      "source": [
        "If you want to use a double quote inside a double quoted string or single quotes inside a single quoted string, you have to **escape** the inner quotes by putting a backslash(\\) before them."
      ]
    },
    {
      "cell_type": "code",
      "metadata": {
        "id": "QsUjmiamlgPD"
      },
      "source": [
        "\"He said, \\\"This is bad.\\\"\""
      ],
      "execution_count": null,
      "outputs": []
    },
    {
      "cell_type": "code",
      "metadata": {
        "id": "JGCobkoi7zr5"
      },
      "source": [
        "'He said, \"This is bad.\"'"
      ],
      "execution_count": null,
      "outputs": []
    },
    {
      "cell_type": "markdown",
      "metadata": {
        "id": "g-1_4esEpVW4"
      },
      "source": [
        "You can however use single quotes inside double quoted strings and double quotes inside single quoted strings."
      ]
    },
    {
      "cell_type": "code",
      "metadata": {
        "id": "2nwJ7BxHllIl"
      },
      "source": [
        "'He said, \"This is bad.\"'"
      ],
      "execution_count": null,
      "outputs": []
    },
    {
      "cell_type": "markdown",
      "metadata": {
        "id": "nt5XWrTHu5iq"
      },
      "source": [
        "# Output and input"
      ]
    },
    {
      "cell_type": "markdown",
      "metadata": {
        "id": "2iN9oJb-peVh"
      },
      "source": [
        "To print something to the console, we use the print function. \n",
        "If you pass more than one things using comma, they'll all be printed together with a space in between. print() by default puts a line break after the output"
      ]
    },
    {
      "cell_type": "code",
      "metadata": {
        "id": "04z66zJLltI0"
      },
      "source": [
        "print(\"Hello, World!\")\n",
        "print(1+1)\n",
        "print(\"Hi\", \"Hello\")"
      ],
      "execution_count": null,
      "outputs": []
    },
    {
      "cell_type": "code",
      "metadata": {
        "id": "UBjMsNTW8zph"
      },
      "source": [
        "\"Hello, World!\"\r\n",
        "1+1\r\n",
        "\"Hi\"\r\n",
        "#Here only the last line gets printed, everything before that gets overwritten"
      ],
      "execution_count": null,
      "outputs": []
    },
    {
      "cell_type": "markdown",
      "metadata": {
        "id": "eG33xBGZplgi"
      },
      "source": [
        "To take an input from user, we use the input function. Whatever is inside the input function, will be shown to the user as a prompt. The function will read everything the user types after the user presses the enter key."
      ]
    },
    {
      "cell_type": "code",
      "metadata": {
        "id": "oebSh6N2l5lj"
      },
      "source": [
        "input(\"Please enter something: \")"
      ],
      "execution_count": null,
      "outputs": []
    },
    {
      "cell_type": "markdown",
      "metadata": {
        "id": "v96D04Z6u9MD"
      },
      "source": [
        "# String operations"
      ]
    },
    {
      "cell_type": "markdown",
      "metadata": {
        "id": "uCHgTZiupyUw"
      },
      "source": [
        "Using the + operator, two strings can be concatenated. It doesn't matter which string is delimited by which quote"
      ]
    },
    {
      "cell_type": "code",
      "metadata": {
        "id": "1CpL16Tgk0xN"
      },
      "source": [
        "\"Hello, \" + \"World\""
      ],
      "execution_count": null,
      "outputs": []
    },
    {
      "cell_type": "markdown",
      "metadata": {
        "id": "qrFMJvKRp6MN"
      },
      "source": [
        "Adding a string to an int or float is however an error"
      ]
    },
    {
      "cell_type": "code",
      "metadata": {
        "id": "r3yrX0Qwk2mA"
      },
      "source": [
        "\"Hi\" + 12"
      ],
      "execution_count": null,
      "outputs": []
    },
    {
      "cell_type": "markdown",
      "metadata": {
        "id": "v1gYz3qjp_D5"
      },
      "source": [
        "If you multiply a string by an int, the string is repeated that many times"
      ]
    },
    {
      "cell_type": "code",
      "metadata": {
        "id": "jgRvnMdak4oo"
      },
      "source": [
        "\"Hello\" * 4"
      ],
      "execution_count": null,
      "outputs": []
    },
    {
      "cell_type": "markdown",
      "metadata": {
        "id": "X2CxLT6mqFQK"
      },
      "source": [
        "Trying to multiply a string with something else causes an error"
      ]
    },
    {
      "cell_type": "code",
      "metadata": {
        "id": "KxDq2WbUmLCe"
      },
      "source": [
        "\"Hi\" * 7.0"
      ],
      "execution_count": null,
      "outputs": []
    },
    {
      "cell_type": "markdown",
      "metadata": {
        "id": "ks_g9OEgvBRa"
      },
      "source": [
        "# Typecasting"
      ]
    },
    {
      "cell_type": "markdown",
      "metadata": {
        "id": "Rkh_cLrxvENl"
      },
      "source": [
        "Typecasting is the process of converting a data of one type to another type."
      ]
    },
    {
      "cell_type": "markdown",
      "metadata": {
        "id": "SBEHvDQOqLY8"
      },
      "source": [
        "To convert one type into another, we use the typename and pass the value inside parenthesis. So far we have studied integer, float and string. Their typenames are **int, float and str** respectively"
      ]
    },
    {
      "cell_type": "code",
      "metadata": {
        "id": "dyJwV22PmPx_"
      },
      "source": [
        "print(\"2\" + \"3\")\n",
        "int(\"2\") + int(\"3\")"
      ],
      "execution_count": null,
      "outputs": []
    },
    {
      "cell_type": "markdown",
      "metadata": {
        "id": "B2LzH7BKqcdP"
      },
      "source": [
        "If you try to convert something to an int which cannot be converted, an error will be thrown"
      ]
    },
    {
      "cell_type": "code",
      "metadata": {
        "id": "XEgcbBtMqi6u"
      },
      "source": [
        "int(\"lol\")# here we can't convert string to integer"
      ],
      "execution_count": null,
      "outputs": []
    },
    {
      "cell_type": "markdown",
      "metadata": {
        "id": "xa5XHKi7qkau"
      },
      "source": [
        "The result of the input() function is always a str. You can cast it to any other type."
      ]
    },
    {
      "cell_type": "code",
      "metadata": {
        "id": "hRh3TITpmVYw"
      },
      "source": [
        "int(input(\"Enter a number: \"))"
      ],
      "execution_count": null,
      "outputs": []
    },
    {
      "cell_type": "markdown",
      "metadata": {
        "id": "omBc3jzvvMvj"
      },
      "source": [
        "# Variables"
      ]
    },
    {
      "cell_type": "markdown",
      "metadata": {
        "id": "dkB2PIgHvOtj"
      },
      "source": [
        "Variables allows us to store a value by giving it a name. We can later access the value by using its name"
      ]
    },
    {
      "cell_type": "markdown",
      "metadata": {
        "id": "OPUQvP6vqsWL"
      },
      "source": [
        "In Python, variables need not be declared. Using the = operator we can provide an initial value which will create the variable if it didn't exist. If it exists, the value will be changed."
      ]
    },
    {
      "cell_type": "code",
      "metadata": {
        "id": "5P4BqNrpmbkG"
      },
      "source": [
        "x = 8\n",
        "print(x)\n",
        "print(x+3)"
      ],
      "execution_count": null,
      "outputs": []
    },
    {
      "cell_type": "markdown",
      "metadata": {
        "id": "wAWzkaS4q9oO"
      },
      "source": [
        "In Python, we can reassign to a variable any number of times. We can even assign a string to a variable which had int value before. This is because, Python is **dynamically typed** so the type of a variable can be changed. This makes writing code easy as well as difficult!"
      ]
    },
    {
      "cell_type": "code",
      "metadata": {
        "id": "UF4aLTsSmhqk"
      },
      "source": [
        "y = 2\n",
        "print(y)\n",
        "print(type(y))\n",
        "y = \"Hello\"\n",
        "print(y)\n",
        "print(type(y))"
      ],
      "execution_count": null,
      "outputs": []
    },
    {
      "cell_type": "markdown",
      "metadata": {
        "id": "ppM4Zrk8rQ8w"
      },
      "source": [
        "Names of a variable are known as **identifier**. An identifier can only contain alphabets, digits and underscores."
      ]
    },
    {
      "cell_type": "code",
      "metadata": {
        "id": "ui5TFEwLmmr_"
      },
      "source": [
        "this_is_a_valid_name = 12"
      ],
      "execution_count": null,
      "outputs": []
    },
    {
      "cell_type": "markdown",
      "metadata": {
        "id": "Q9YmX1QDrb3Y"
      },
      "source": [
        "An identifier cannot begin with a digit, or cannot contain spaces"
      ]
    },
    {
      "cell_type": "code",
      "metadata": {
        "id": "-eyfSoLBmqky"
      },
      "source": [
        "123abc = 2 #once we get an error, the next line is not executed\n",
        "a b c = 3"
      ],
      "execution_count": null,
      "outputs": []
    },
    {
      "cell_type": "markdown",
      "metadata": {
        "id": "gI3M20LwritJ"
      },
      "source": [
        "Trying to use a non existent variable causes an error"
      ]
    },
    {
      "cell_type": "code",
      "metadata": {
        "id": "jayLx0Dhmw-I"
      },
      "source": [
        "a = \"Hi\"\n",
        "b"
      ],
      "execution_count": null,
      "outputs": []
    },
    {
      "cell_type": "markdown",
      "metadata": {
        "id": "91u2yGC5rn11"
      },
      "source": [
        "Usign **del** we can remove a variable"
      ]
    },
    {
      "cell_type": "code",
      "metadata": {
        "id": "DzvAY8eMm1Tj"
      },
      "source": [
        "del a\n",
        "a"
      ],
      "execution_count": null,
      "outputs": []
    },
    {
      "cell_type": "markdown",
      "metadata": {
        "id": "Rwoy7wVYrrbR"
      },
      "source": [
        "We can use a variable to store the result of the input() function"
      ]
    },
    {
      "cell_type": "code",
      "metadata": {
        "id": "LiqKTK3um3mT"
      },
      "source": [
        "a = input(\"Enter your name: \")\n",
        "print(a)"
      ],
      "execution_count": null,
      "outputs": []
    },
    {
      "cell_type": "markdown",
      "metadata": {
        "id": "9J-3FyTZvgox"
      },
      "source": [
        "# In place operators"
      ]
    },
    {
      "cell_type": "markdown",
      "metadata": {
        "id": "wdKofe5srwyg"
      },
      "source": [
        "If we want to store the result of an arithmetic operation with a variable into the **same variable** we can use in-place operators ( +=, -=, *=, /= and so on)\n",
        "For example, x = x* 2 is equivalent to x *= 2\n",
        "\n",
        "Python lacks increment and decrement operators (++ and --) like other languages."
      ]
    },
    {
      "cell_type": "code",
      "metadata": {
        "id": "jMRdmWh7m-k4"
      },
      "source": [
        "x = 2\n",
        "x = x + 2\n",
        "print(x)\n",
        "x += 2\n",
        "print(x)"
      ],
      "execution_count": null,
      "outputs": []
    },
    {
      "cell_type": "code",
      "metadata": {
        "id": "dz8EXTg6A2eC"
      },
      "source": [
        ""
      ],
      "execution_count": null,
      "outputs": []
    },
    {
      "cell_type": "markdown",
      "metadata": {
        "id": "24z19GjPC643"
      },
      "source": [
        "Write a Python program to input the amount of Principal, Rate of Interest and Time (in years) from the user and calculate and print the simple interest per annum\r\n"
      ]
    },
    {
      "cell_type": "code",
      "metadata": {
        "id": "0g0yAUwEC-UP"
      },
      "source": [
        "p=float(input(\"Principal : \"))\r\n",
        "r=float(input(\"Rate : \"))\r\n",
        "t=float(input(\"time : \"))\r\n",
        "print(\"The SI per annum : \", (p*r*t)/100)"
      ],
      "execution_count": null,
      "outputs": []
    },
    {
      "cell_type": "code",
      "metadata": {
        "id": "FyqzL6BSD7Wy"
      },
      "source": [
        ""
      ],
      "execution_count": null,
      "outputs": []
    },
    {
      "cell_type": "markdown",
      "metadata": {
        "id": "zOZwxL_qENkp"
      },
      "source": [
        "Minutes to seconds\r\n"
      ]
    },
    {
      "cell_type": "code",
      "metadata": {
        "id": "3sUwSZScEQ5Y"
      },
      "source": [
        "m=float(input(\"Minutes : \"))\r\n",
        "print(\"Time in seconds : \", m*60)"
      ],
      "execution_count": null,
      "outputs": []
    },
    {
      "cell_type": "code",
      "metadata": {
        "id": "eP9JyO67Egeg"
      },
      "source": [
        ""
      ],
      "execution_count": null,
      "outputs": []
    }
  ]
}